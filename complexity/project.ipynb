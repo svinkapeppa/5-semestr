{
 "cells": [
  {
   "cell_type": "code",
   "execution_count": 59,
   "metadata": {
    "collapsed": true
   },
   "outputs": [],
   "source": [
    "import numpy as np"
   ]
  },
  {
   "cell_type": "markdown",
   "metadata": {},
   "source": [
    "First step is to check if $n = a^{b}$. We do it as a brute force search by power $(b)$ and binary search by base $(a)$. It is easy to see that time complexity is $\\mathcal{O}(\\log^{3}n)$."
   ]
  },
  {
   "cell_type": "code",
   "execution_count": 60,
   "metadata": {
    "collapsed": false
   },
   "outputs": [],
   "source": [
    "def checkperfectpower(n):\n",
    "    \n",
    "    def checkpower(i, n):\n",
    "        left = 2\n",
    "        right = n\n",
    "        flag = False\n",
    "        \n",
    "        while left <= right and not flag:\n",
    "            mid = int((left + right) / 2)\n",
    "            temp = np.power(mid, i)\n",
    "            if temp == n:\n",
    "                flag = True\n",
    "            else:\n",
    "                if n < temp:\n",
    "                    right = int((left + right) / 2) - 1\n",
    "                else:\n",
    "                    left = int((left + right) / 2) + 1\n",
    "                    \n",
    "        return flag\n",
    "    \n",
    "    \n",
    "    for i in np.arange(2, np.log2(n) + 1):\n",
    "        if checkpower(i, n):\n",
    "            return True\n",
    "    \n",
    "    \n",
    "    return False"
   ]
  },
  {
   "cell_type": "code",
   "execution_count": 67,
   "metadata": {
    "collapsed": true
   },
   "outputs": [],
   "source": [
    "def AKS(n):\n",
    "    if checkperfectpower(n):\n",
    "        print('COMPOSITE')\n",
    "    else:\n",
    "        print('PRIME')"
   ]
  },
  {
   "cell_type": "code",
   "execution_count": null,
   "metadata": {
    "collapsed": true
   },
   "outputs": [],
   "source": []
  }
 ],
 "metadata": {
  "kernelspec": {
   "display_name": "Python 3",
   "language": "python",
   "name": "python3"
  },
  "language_info": {
   "codemirror_mode": {
    "name": "ipython",
    "version": 3
   },
   "file_extension": ".py",
   "mimetype": "text/x-python",
   "name": "python",
   "nbconvert_exporter": "python",
   "pygments_lexer": "ipython3",
   "version": "3.5.2"
  }
 },
 "nbformat": 4,
 "nbformat_minor": 2
}
