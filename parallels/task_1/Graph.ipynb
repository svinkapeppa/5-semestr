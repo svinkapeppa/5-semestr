{
 "cells": [
  {
   "cell_type": "code",
   "execution_count": 15,
   "metadata": {
    "collapsed": true
   },
   "outputs": [],
   "source": [
    "import numpy as np\n",
    "import matplotlib.pyplot as plt"
   ]
  },
  {
   "cell_type": "markdown",
   "metadata": {},
   "source": [
    "Первые измерения будут производиться для измерения зависимости\n",
    "от количества частиц. Будем рассматривать эти зависимости при P = 4.\n",
    "Для каждого набора параметров запуска сделаем десять запусков, чтобы\n",
    "затем усреднить."
   ]
  },
  {
   "cell_type": "markdown",
   "metadata": {},
   "source": [
    "Параметры запуска:\n",
    "\n",
    "$$./run\\ 0\\ 100\\ 50\\ N\\ 0.5\\ 4$$"
   ]
  },
  {
   "cell_type": "code",
   "execution_count": 10,
   "metadata": {
    "collapsed": true
   },
   "outputs": [],
   "source": [
    "N_1 = 1000\n",
    "T_1 = [0.0459, 0.0452, 0.0332, 0.038, 0.0362,\n",
    "       0.0383, 0.0248, 0.0432, 0.0456, 0.042]\n",
    "t_1 = np.mean(T_1)"
   ]
  },
  {
   "cell_type": "code",
   "execution_count": 11,
   "metadata": {
    "collapsed": true
   },
   "outputs": [],
   "source": [
    "N_2 = 5000\n",
    "T_2 = [0.101, 0.1111, 0.0998, 0.1051, 0.1075,\n",
    "       0.097, 0.1119, 0.0971, 0.0952, 0.0922]\n",
    "t_2 = np.mean(T_2)"
   ]
  },
  {
   "cell_type": "code",
   "execution_count": 12,
   "metadata": {
    "collapsed": true
   },
   "outputs": [],
   "source": [
    "N_3 = 10000\n",
    "T_3 = [0.1636, 0.2598, 0.1681, 0.1655, 0.1845,\n",
    "       0.1852, 0.1722, 0.1984, 0.1547, 0.1745]\n",
    "t_3 = np.mean(T_3)"
   ]
  },
  {
   "cell_type": "code",
   "execution_count": 13,
   "metadata": {
    "collapsed": true
   },
   "outputs": [],
   "source": [
    "N_4 = 50000\n",
    "T_4 = [0.6987, 0.6652, 0.6674, 0.6766, 0.6565,\n",
    "       0.6427, 0.7436, 0.771, 0.7267, 0.7664]\n",
    "t_4 = np.mean(T_4)"
   ]
  },
  {
   "cell_type": "code",
   "execution_count": 14,
   "metadata": {
    "collapsed": true
   },
   "outputs": [],
   "source": [
    "N_5 = 100000\n",
    "T_5 = [1.4227, 1.2854, 1.3038, 1.4935, 1.4458,\n",
    "       1.3786, 1.2811, 1.3978, 1.5403, 1.3241]\n",
    "t_5 = np.mean(T_5)"
   ]
  },
  {
   "cell_type": "code",
   "execution_count": 27,
   "metadata": {
    "collapsed": false
   },
   "outputs": [
    {
     "data": {
      "image/png": "[encoded data removed]",
      "text/plain": [
       "<matplotlib.figure.Figure at 0x7f9234364f98>"
      ]
     },
     "metadata": {},
     "output_type": "display_data"
    }
   ],
   "source": [
    "x = [N_1, N_2, N_3, N_4, N_5]\n",
    "y = [t_1, t_2, t_3, t_4, t_5]\n",
    "plt.plot(x, y, \"black\")\n",
    "plt.scatter(x, y, c='red')\n",
    "plt.xlabel(\"Number of particles\")\n",
    "plt.ylabel(\"Time in seconds\")\n",
    "plt.show()"
   ]
  },
  {
   "cell_type": "code",
   "execution_count": null,
   "metadata": {
    "collapsed": true
   },
   "outputs": [],
   "source": []
  }
 ],
 "metadata": {
  "kernelspec": {
   "display_name": "Python 3",
   "language": "python",
   "name": "python3"
  },
  "language_info": {
   "codemirror_mode": {
    "name": "ipython",
    "version": 3
   },
   "file_extension": ".py",
   "mimetype": "text/x-python",
   "name": "python",
   "nbconvert_exporter": "python",
   "pygments_lexer": "ipython3",
   "version": "3.5.2"
  }
 },
 "nbformat": 4,
 "nbformat_minor": 2
}
