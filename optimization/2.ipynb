{
 "cells": [
  {
   "cell_type": "markdown",
   "metadata": {},
   "source": [
    "Рубаненко Евгений  \n",
    "ФИВТ 595  \n",
    "Вторая практическая работа"
   ]
  },
  {
   "cell_type": "markdown",
   "metadata": {
    "deletable": true,
    "editable": true
   },
   "source": [
    "# Вам предстоит решать задачу классификации изображений методом логистической регрессии. \n",
    "\n",
    "В итоге вы должны получить  функцию $f(x) \\to [0,1]^{10}$, которая на вход получает картинку с написанной от руки цифрой, а на выход дает 10 вероятностей от 0 до 1 принадлежности к каждому из классов (цифре). Картинка это вектор из (8*8) = 64 чисел. Мы будем рассматривать параметрическое семейство функций $F(c)$, таких,  что если $f_с \\in F$, то она удовлетворяет нашим требованиям. Кроме того, для каждой функции  $f_c \\in F$ мы можем посчитать, насколько она хорошо работает на некотором наборе картинок - это будет функционал качества этой функции $loss(f_c, images)$. Чем он меньше, тем лучше: в идеале $loss$ будет давать $0$ в том случае, если наша функция на всех картинках, на которых нарисована цифра $i$ выдала вектор, где все числа отличны от $1$ и только на $i-м$ месте стоит $1$. Иначе это будет некоторое положительное число, которое тем больше, чем хуже работает классификатор (потеря)\n",
    "\n",
    "Итак, возьмем функцию $g(c) = loss(f_c, images)$ и будем ее минимизировать. Если мы найдем глобальный минимум, то научимся максимально качественно решать задачу классификации с помощью того семейства функций, которое мы выбрали. Глобальный минимум мы, конечно, не сможем аналитически найти, поэтому будем решать задачу минимизации методом градиентного спуска."
   ]
  },
  {
   "cell_type": "markdown",
   "metadata": {
    "deletable": true,
    "editable": true
   },
   "source": [
    "# Возьмем датасет нарисованных от руки картинок"
   ]
  },
  {
   "cell_type": "code",
   "execution_count": 1,
   "metadata": {
    "collapsed": false,
    "deletable": true,
    "editable": true
   },
   "outputs": [
    {
     "name": "stderr",
     "output_type": "stream",
     "text": [
      "/usr/local/lib/python3.5/dist-packages/sklearn/cross_validation.py:44: DeprecationWarning: This module was deprecated in version 0.18 in favor of the model_selection module into which all the refactored classes and functions are moved. Also note that the interface of the new CV iterators are different from that of this module. This module will be removed in 0.20.\n",
      "  \"This module will be removed in 0.20.\", DeprecationWarning)\n"
     ]
    }
   ],
   "source": [
    "import numpy as np \n",
    "import matplotlib.pyplot as plt\n",
    "import math\n",
    "import tqdm\n",
    "\n",
    "from sklearn.datasets import load_digits\n",
    "from sklearn.cross_validation import train_test_split\n",
    "\n",
    "%matplotlib inline"
   ]
  },
  {
   "cell_type": "code",
   "execution_count": 142,
   "metadata": {
    "collapsed": true
   },
   "outputs": [],
   "source": [
    "digits = load_digits()"
   ]
  },
  {
   "cell_type": "code",
   "execution_count": 143,
   "metadata": {
    "collapsed": false,
    "deletable": true,
    "editable": true
   },
   "outputs": [
    {
     "data": {
      "text/plain": [
       "(1797, 64)"
      ]
     },
     "execution_count": 143,
     "metadata": {},
     "output_type": "execute_result"
    }
   ],
   "source": [
    "digits.data.shape"
   ]
  },
  {
   "cell_type": "markdown",
   "metadata": {
    "deletable": true,
    "editable": true
   },
   "source": [
    "# Пример содержимого датасета"
   ]
  },
  {
   "cell_type": "code",
   "execution_count": 144,
   "metadata": {
    "collapsed": false,
    "deletable": true,
    "editable": true
   },
   "outputs": [
    {
     "data": {
      "image/png": "[encoded data removed]",
      "text/plain": [
       "<matplotlib.figure.Figure at 0x7f5366820048>"
      ]
     },
     "metadata": {},
     "output_type": "display_data"
    }
   ],
   "source": [
    "plt.figure(figsize=(20,4))\n",
    "\n",
    "for index, (image, label) in enumerate(zip(digits.data[0:5], digits.target[0:5])):\n",
    "    plt.subplot(1, 5, index + 1)\n",
    "    plt.imshow(np.reshape(image, (8,8)), cmap=plt.cm.gray)\n",
    "    plt.title('Training: %i\\n' % label, fontsize=20)"
   ]
  },
  {
   "cell_type": "markdown",
   "metadata": {
    "deletable": true,
    "editable": true
   },
   "source": [
    "# Разделим датасет на 2 части - train и validate\n",
    "1. На первой мы будем решать оптимизационную задачу - искать такую функцию, которая по картинке выдает правильную цифру. \n",
    "2. На второй будем независимо проверять, насколько качественно работает наша функция\n",
    "\n",
    "Это необходимо для того, чтобы понимать, насколько наша функция реально умеет решать поставленную задачу: понимать, где какая цифра. У нас ограниченная выборка - всего 1797 картинок. Но в реальности нарисованных цифр может быть значительно больше! Если даже наша функция безошибочно работает на всех 1797 картинках, но ошибается вне - это плохо. Обычно график обучения должен выглядит примерно так, если зеленое - обучающая выборка, а красное - валидационная"
   ]
  },
  {
   "cell_type": "code",
   "execution_count": 5,
   "metadata": {
    "collapsed": false,
    "deletable": true,
    "editable": true
   },
   "outputs": [
    {
     "data": {
      "image/png": "[encoded data removed]",
      "text/plain": [
       "<matplotlib.figure.Figure at 0x7f53693315f8>"
      ]
     },
     "metadata": {},
     "output_type": "display_data"
    }
   ],
   "source": [
    "plt.plot([1 / math.log(i + 2) for i in range(100)],\n",
    "         color='green', label='train')\n",
    "plt.plot([1 / math.log(i + 2) * 1.1 +\\\n",
    "          ((i / 50.0 - 1) ** 2. / 5. if i > 50 else 0.) for i in range(100)],\n",
    "         color='red', label='validate')\n",
    "\n",
    "plt.xlabel('Gradient descent iteration')\n",
    "plt.ylabel('Loss')\n",
    "plt.legend()\n",
    "plt.show()"
   ]
  },
  {
   "cell_type": "markdown",
   "metadata": {
    "deletable": true,
    "editable": true
   },
   "source": [
    "То есть с каждым шагом мы уменьшаем наш loss на обучающей выборке за счет градиентного спуска, но в какой-то момент функция может начать хорошо работать только на обучающей выборке. Этот эффект (в данном примере около 55 итерации по оси x) назвается переобучением."
   ]
  },
  {
   "cell_type": "markdown",
   "metadata": {
    "deletable": true,
    "editable": true
   },
   "source": [
    "# Вернемся к задаче\n",
    "## Преобразуем числа от 0 до 9 в вектора из 10 элементов, где на i-m месте стоит 1, если цифра равна i и 0 иначе. \n",
    "\n",
    "## Также нормализуем картинки: все пиксели - это числа от 0 до 16. Сделаем их от -1 до 1, это улучшит качество нашей модели"
   ]
  },
  {
   "cell_type": "code",
   "execution_count": 6,
   "metadata": {
    "collapsed": true,
    "deletable": true,
    "editable": true
   },
   "outputs": [],
   "source": [
    "def one_hot(y, n_classes):\n",
    "    # делаем вектор из 10 координат с 0 везде кроме правильного ответа\n",
    "    tmp = np.zeros((len(y), n_classes), dtype=np.uint8)\n",
    "    tmp[range(len(tmp)), y] = 1\n",
    "    return tmp\n",
    "\n",
    "x_train, x_test, y_train, y_test = train_test_split((digits.data - 8) / 16,\n",
    "                                                    one_hot(digits.target, 10),\n",
    "                                                    test_size=0.33,\n",
    "                                                    random_state=0)"
   ]
  },
  {
   "cell_type": "markdown",
   "metadata": {
    "deletable": true,
    "editable": true
   },
   "source": [
    "# Задание: реализовать методом градиентного спуска логистическую регрессию. Начиная с этой ячейки и ниже разрешено использовать только стандартные функции  python и библиотеки numpy и  matplotlib"
   ]
  },
  {
   "cell_type": "markdown",
   "metadata": {
    "deletable": true,
    "editable": true
   },
   "source": [
    "Для каждой картинки мы хотим найти вектор $(p_0,\\ldots,p_{10})$, вероятностей, такой, что $p_i$ - вероятность того, что на картинка цифра $i$.\n",
    "\n",
    "Реализуя логистическую регрессию, мы хотим приближать вероятности к их настоящему распределению. \n",
    "\n",
    "Выражение выдает ответ вида \n",
    "$$\n",
    "A x + b\n",
    "$$\n",
    "\n",
    "\n",
    "где x - наш вектор картинки, а результат - числовой вектор размерности 10 с какими-то числами. Для того, чтобы эти числа стали вероятностями от 0 до 1, реализуем функцию \n",
    "$$\n",
    "softmax(x) = \\frac{e^x}{\\sum(e^x)}\n",
    "$$\n",
    "и полученные значения будут как раз давать в сумме 1 и ими мы будем приближать вероятности. \n",
    "\n",
    "Оценивать качество нашей модели будем с помощью кросс-энтропии, см https://en.wikipedia.org/wiki/Cross_entropy "
   ]
  },
  {
   "cell_type": "markdown",
   "metadata": {
    "deletable": true,
    "editable": true
   },
   "source": [
    "Кросс-энтропия считается следующим образом:  \n",
    "$$L(y, pred) = -\\cfrac{1}{N}\\sum_{n=1}^{N}y_{n} log(pred_{n})$$"
   ]
  },
  {
   "cell_type": "code",
   "execution_count": 7,
   "metadata": {
    "collapsed": true,
    "deletable": true,
    "editable": true
   },
   "outputs": [],
   "source": [
    "def softmax(W, b, x):\n",
    "    tmp = np.exp(np.dot(x, W.T) + b)\n",
    "    return (tmp.T / tmp.sum(axis=1)).T\n",
    "\n",
    "# Кросс-энтропия предсказанного вектора pred и данного вектора y\n",
    "def loss(y, pred):\n",
    "    return -np.mean(np.sum(y * np.log(pred), axis=-1))"
   ]
  },
  {
   "cell_type": "markdown",
   "metadata": {
    "deletable": true,
    "editable": true
   },
   "source": [
    "# В данной точке x нужно научиться считать градиент. Выведите правила и посчитайте градиент в точке. Для того, чтобы выбирать градиент по всем точкам, можно его усреднить."
   ]
  },
  {
   "cell_type": "markdown",
   "metadata": {
    "collapsed": true,
    "deletable": true,
    "editable": true
   },
   "source": [
    "Посчитаем градиент функции $loss$ в точке (x, y).  \n",
    "* Будем хранить две матрицы: для производных по $W_{kj}$ и по $b_{i}$\n",
    "* Производная по $W_{kj}$:\n",
    "$$\\cfrac{dL(y,p)}{dW_{kj}} = \\cfrac{d(-\\sum_{i=1}^{10}y_{i}log(p_{i}))}{dW_{kj}} =$$\n",
    "$$= \\cfrac{d(-\\sum_{i=1, i\\ne k}^{10}y_{i}log(p_{i}))}{dW_{kj}} - \\cfrac{d(y_{k}log(p_{k}))}{dW_{kj}} =$$\n",
    "Учтем, что $log(p_{i}) = (\\sum_{l=1}^{64}W_{il}x_{l} + b_{i}) - log(\\sum_{m=1}^{10}e^{(\\sum_{l=1}^{64}W_{ml}x_{l} + b_{m})})$. Тогда\n",
    "$$=p_{k}x_{j}\\sum_{i=1,i\\ne k}^{10}y_{i} - y_{k}x_{j} + p_{k}x_{j}y_{k} = (p_{k} - y_{k})x_{j}$$\n",
    "* Производная по $b_{k}$:\n",
    "$$\\cfrac{dL(y,p)}{db_{k}} = \\cfrac{d(-\\sum_{i=1}^{10}y_{i}log(p_{i}))}{db_{k}} =$$\n",
    "$$= \\cfrac{d(-\\sum_{i=1, i\\ne k}^{10}y_{i}log(p_{i}))}{db_{k}} - \\cfrac{d(y_{k}log(p_{k}))}{db_{k}} = p_{k} - y_{k}$$"
   ]
  },
  {
   "cell_type": "code",
   "execution_count": 8,
   "metadata": {
    "collapsed": false,
    "deletable": true,
    "editable": true
   },
   "outputs": [],
   "source": [
    "# Градиент в заданной точке\n",
    "def compute_gradients(out, y, x):\n",
    "    y = y.reshape(-1,1)\n",
    "    out = out.reshape(-1,1)\n",
    "    x = x.reshape(1,-1)\n",
    "    return np.hstack((np.dot(out - y, x), (out - y)))\n",
    "\n",
    "# Усредняем по всем точкам\n",
    "def gradients(W, b, x, y):\n",
    "    sm = softmax(W, b, x)        \n",
    "    e = [compute_gradients(a, c, b) for a, c, b in zip(sm, y, x)]                         \n",
    "    return np.mean(e, axis=0)   "
   ]
  },
  {
   "cell_type": "markdown",
   "metadata": {
    "deletable": true,
    "editable": true
   },
   "source": [
    "# Методом градиентного спуска с постоянным шагом минимизируйте loss на обучающей выборке."
   ]
  },
  {
   "cell_type": "code",
   "execution_count": 9,
   "metadata": {
    "collapsed": false,
    "deletable": true,
    "editable": true
   },
   "outputs": [
    {
     "name": "stderr",
     "output_type": "stream",
     "text": [
      "100%|██████████| 5000/5000 [01:43<00:00, 48.42it/s]\n"
     ]
    }
   ],
   "source": [
    "# Градиентный спуск с фиксированным шагом\n",
    "\n",
    "eta = 1\n",
    "\n",
    "# Начальные параметры\n",
    "W = np.zeros((10, 64))\n",
    "b = np.zeros(10)\n",
    "\n",
    "# Потери на каждом шаге спуска\n",
    "losses_train=[]\n",
    "losses_valid=[]\n",
    "\n",
    "# Градиентный спуск\n",
    "for i in tqdm.tqdm(range(5000)):\n",
    "    grad = gradients(W, b, x_train, y_train)\n",
    "    gradW = grad.T[:-1].T \n",
    "    gradb = grad.T[-1].T\n",
    "    W = W - eta * gradW\n",
    "    b = b - eta * gradb\n",
    "    losses_train.append(loss(y_train, softmax(W, b, x_train)))\n",
    "    losses_valid.append(loss(y_test, softmax(W, b, x_test)))"
   ]
  },
  {
   "cell_type": "markdown",
   "metadata": {
    "deletable": true,
    "editable": true
   },
   "source": [
    "# Нарисуйте графики ошибки (loss) от номера шага градиентного спуска. Как падала ошибка на обучающей и тестовой выборках? На каком шаге ошибка на обучающей выборке оказалась минимальной?"
   ]
  },
  {
   "cell_type": "code",
   "execution_count": 11,
   "metadata": {
    "collapsed": false,
    "deletable": true,
    "editable": true
   },
   "outputs": [
    {
     "data": {
      "image/png": "[encoded data removed]",
      "text/plain": [
       "<matplotlib.figure.Figure at 0x7f5369104940>"
      ]
     },
     "metadata": {},
     "output_type": "display_data"
    }
   ],
   "source": [
    "plt.figure(figsize=(12,8))\n",
    "plt.plot(losses_train, label='TRAIN')\n",
    "plt.plot(losses_valid, label='TEST')\n",
    "plt.legend()\n",
    "plt.xlabel('Номер шага')\n",
    "plt.ylabel('Значение')\n",
    "plt.title('Зависимость ошибки от номера шага')\n",
    "plt.show()"
   ]
  },
  {
   "cell_type": "code",
   "execution_count": 12,
   "metadata": {
    "collapsed": false,
    "deletable": true,
    "editable": true
   },
   "outputs": [
    {
     "name": "stdout",
     "output_type": "stream",
     "text": [
      "Шаг, на котором был достигнут минимум ошибки для обучающей выборки 4999\n",
      "Шаг, на котором был достигнут минимум ошибки для тестовой выборки 3839\n"
     ]
    }
   ],
   "source": [
    "print('Шаг, на котором был достигнут минимум ошибки для обучающей выборки',\n",
    "      np.argmin(losses_train))\n",
    "print('Шаг, на котором был достигнут минимум ошибки для тестовой выборки',\n",
    "      np.argmin(losses_valid))"
   ]
  },
  {
   "cell_type": "markdown",
   "metadata": {},
   "source": [
    "Заметим, что после 3839 шага модель начинает переобучаться - увеличивается значение функции потерь."
   ]
  },
  {
   "cell_type": "code",
   "execution_count": 16,
   "metadata": {
    "collapsed": false,
    "deletable": true,
    "editable": true
   },
   "outputs": [
    {
     "data": {
      "image/png": "[encoded data removed]",
      "text/plain": [
       "<matplotlib.figure.Figure at 0x7f53691c2cf8>"
      ]
     },
     "metadata": {},
     "output_type": "display_data"
    }
   ],
   "source": [
    "plt.figure(figsize=(12,8))\n",
    "plt.plot(np.arange(2999, 4999), losses_valid[-2000:], label='TEST')\n",
    "\n",
    "plt.xlabel('Номер шага')\n",
    "plt.ylabel('Значение')\n",
    "plt.legend()\n",
    "plt.title('Переобучение')\n",
    "plt.show()"
   ]
  },
  {
   "cell_type": "markdown",
   "metadata": {
    "deletable": true,
    "editable": true
   },
   "source": [
    "# Реализуйте выбор шага градиентного спуска методом Армихо. Ускорило ли использование метода Армихо с начальными параметрами\n",
    "$$ s=100, \\beta=\\alpha=0.5$$\n",
    "# достижение минимума на обучающей выборке по сравнению с фиксированным шагом 100? А на валидационной?"
   ]
  },
  {
   "cell_type": "markdown",
   "metadata": {
    "deletable": true,
    "editable": true
   },
   "source": [
    "Выбор шага методом Армихо происходит по следующиму принципу:  \n",
    "* На каждой итерации проверяется условие\n",
    "$$f(x + \\Delta x) > f(x) + \\alpha s \\nabla f(x)^{T}\\Delta x$$\n",
    "* Если оно выполнено, то для шаг изменяется по правилу\n",
    "$$s = \\beta s$$\n",
    "\n",
    "В нашем случае минимизируется функция $loss$, а скалярное произведение в конце условия есть просто сумма квадратов всех элементов матрицы градиента."
   ]
  },
  {
   "cell_type": "code",
   "execution_count": 17,
   "metadata": {
    "collapsed": false,
    "deletable": true,
    "editable": true
   },
   "outputs": [],
   "source": [
    "def armijo (W, b, x, y, alpha=0.5, beta=0.5):\n",
    "    s = 100\n",
    "    grad = gradients(W, b, x, y)\n",
    "    gradW = grad.T[:-1].T\n",
    "    gradb = grad.T[-1].T\n",
    "    while (loss(y, softmax(W - s * gradW, b - s * gradb, x)) >=\\\n",
    "           loss(y, softmax(W, b, x)) - beta * s * np.sum(grad * grad)):\n",
    "        s *= alpha\n",
    "    return s"
   ]
  },
  {
   "cell_type": "code",
   "execution_count": 25,
   "metadata": {
    "collapsed": false,
    "deletable": true,
    "editable": true
   },
   "outputs": [
    {
     "name": "stderr",
     "output_type": "stream",
     "text": [
      "100%|██████████| 1000/1000 [00:43<00:00, 23.14it/s]\n"
     ]
    }
   ],
   "source": [
    "# Градиентный спуск с выбором шага по правилу Армихо\n",
    "\n",
    "# Начальные параметры\n",
    "W = np.zeros((10, 64))\n",
    "b = np.zeros(10)\n",
    "\n",
    "# Потери на каждом шаге спуска\n",
    "losses_train=[]\n",
    "losses_valid=[]\n",
    "\n",
    "# Градиентный спуск\n",
    "for i in tqdm.tqdm(range(1000)):\n",
    "    grad = gradients(W, b, x_train, y_train)\n",
    "    gradW = grad.T[:-1].T \n",
    "    gradb = grad.T[-1].T\n",
    "    eta = armijo(W, b, x_train, y_train)\n",
    "    W = W - eta * gradW\n",
    "    b = b - eta * gradb\n",
    "    losses_train.append(loss(y_train, softmax(W, b, x_train)))\n",
    "    losses_valid.append(loss(y_test, softmax(W, b, x_test)))"
   ]
  },
  {
   "cell_type": "code",
   "execution_count": 26,
   "metadata": {
    "collapsed": false,
    "deletable": true,
    "editable": true
   },
   "outputs": [
    {
     "data": {
      "image/png": "[encoded data removed]",
      "text/plain": [
       "<matplotlib.figure.Figure at 0x7f53667f4e10>"
      ]
     },
     "metadata": {},
     "output_type": "display_data"
    }
   ],
   "source": [
    "plt.figure(figsize=(12,8))\n",
    "plt.plot(losses_train, label='TRAIN')\n",
    "plt.plot(losses_valid, label='TEST')\n",
    "plt.legend()\n",
    "plt.xlabel('Номер шага')\n",
    "plt.ylabel('Значение')\n",
    "plt.title('Зависимость ошибки от номера шага')\n",
    "plt.show()"
   ]
  },
  {
   "cell_type": "code",
   "execution_count": 27,
   "metadata": {
    "collapsed": false,
    "deletable": true,
    "editable": true,
    "scrolled": true
   },
   "outputs": [
    {
     "name": "stdout",
     "output_type": "stream",
     "text": [
      "Шаг, на котором был достигнут минимум ошибки для обучающей выборки 999\n",
      "Шаг, на котором был достигнут минимум ошибки для тестовой выборки 159\n"
     ]
    }
   ],
   "source": [
    "print('Шаг, на котором был достигнут минимум ошибки для обучающей выборки',\n",
    "      np.argmin(losses_train))\n",
    "print('Шаг, на котором был достигнут минимум ошибки для тестовой выборки',\n",
    "      np.argmin(losses_valid))"
   ]
  },
  {
   "cell_type": "markdown",
   "metadata": {
    "deletable": true,
    "editable": true
   },
   "source": [
    "Заметим, что после 159 шага модель начинает переобучаться - увеличивается значение функции потерь."
   ]
  },
  {
   "cell_type": "markdown",
   "metadata": {},
   "source": [
    "Проверим, что сходится быстрее: градиентный спуск с фиксированным шагом 100, или с выбором шага по правилу Армихо."
   ]
  },
  {
   "cell_type": "code",
   "execution_count": 33,
   "metadata": {
    "collapsed": false
   },
   "outputs": [
    {
     "name": "stderr",
     "output_type": "stream",
     "text": [
      "100%|██████████| 5000/5000 [01:39<00:00, 50.26it/s]\n"
     ]
    }
   ],
   "source": [
    "# Градиентный спуск с фиксированным шагом\n",
    "\n",
    "eta = 100\n",
    "\n",
    "# Начальные параметры\n",
    "W = np.zeros((10, 64))\n",
    "b = np.zeros(10)\n",
    "\n",
    "# Потери на каждом шаге спуска\n",
    "losses_train=[]\n",
    "losses_valid=[]\n",
    "\n",
    "# Градиентный спуск\n",
    "for i in tqdm.tqdm(range(5000)):\n",
    "    grad = gradients(W, b, x_train, y_train)\n",
    "    gradW = grad.T[:-1].T \n",
    "    gradb = grad.T[-1].T\n",
    "    W = W - eta * gradW\n",
    "    b = b - eta * gradb\n",
    "    losses_train.append(loss(y_train, softmax(W, b, x_train)))\n",
    "    losses_valid.append(loss(y_test, softmax(W, b, x_test)))"
   ]
  },
  {
   "cell_type": "code",
   "execution_count": 42,
   "metadata": {
    "collapsed": false
   },
   "outputs": [
    {
     "data": {
      "image/png": "[encoded data removed]",
      "text/plain": [
       "<matplotlib.figure.Figure at 0x7f536679e7f0>"
      ]
     },
     "metadata": {},
     "output_type": "display_data"
    }
   ],
   "source": [
    "plt.figure(figsize=(12,8))\n",
    "plt.plot(losses_valid[4900:], label='TEST')\n",
    "plt.legend()\n",
    "plt.xlabel('Номер шага')\n",
    "plt.ylabel('Значение')\n",
    "plt.title('Зависимость ошибки от номера шага')\n",
    "plt.show()"
   ]
  },
  {
   "cell_type": "markdown",
   "metadata": {},
   "source": [
    "Видим, что даже за 5000 итераций градиентный спуск с фиксированным шагом 100 не достигает своего минимума (отметим, что на 5000 итерации ошибка данного подхода больше, чем ошибка при использовании метода Армихо)."
   ]
  },
  {
   "cell_type": "markdown",
   "metadata": {
    "deletable": true,
    "editable": true
   },
   "source": [
    "# Какую долю картинок из валидационной выборки удается предсказать правильно? Приведите примеры из валидационной выборки, где модель ошибается и где работает правильно"
   ]
  },
  {
   "cell_type": "markdown",
   "metadata": {
    "collapsed": true,
    "deletable": true,
    "editable": true
   },
   "source": [
    "Еще раз обучим модель (теперь обучение будем проводить точно до минимума ошибки), а затем узнаем, как часто мы ошибаемся на тестовой выборке."
   ]
  },
  {
   "cell_type": "code",
   "execution_count": 145,
   "metadata": {
    "collapsed": false
   },
   "outputs": [
    {
     "name": "stderr",
     "output_type": "stream",
     "text": [
      "100%|██████████| 3840/3840 [01:15<00:00, 50.90it/s]\n"
     ]
    }
   ],
   "source": [
    "# Градиентный спуск с фиксированным шагом\n",
    "\n",
    "eta = 1\n",
    "\n",
    "# Начальные параметры\n",
    "W = np.zeros((10, 64))\n",
    "b = np.zeros(10)\n",
    "\n",
    "# Потери на каждом шаге спуска\n",
    "losses_train=[]\n",
    "losses_valid=[]\n",
    "\n",
    "# Градиентный спуск\n",
    "for i in tqdm.tqdm(range(3840)):\n",
    "    grad = gradients(W, b, x_train, y_train)\n",
    "    gradW = grad.T[:-1].T \n",
    "    gradb = grad.T[-1].T\n",
    "    W = W - eta * gradW\n",
    "    b = b - eta * gradb\n",
    "    losses_train.append(loss(y_train, softmax(W, b, x_train)))\n",
    "    losses_valid.append(loss(y_test, softmax(W, b, x_test)))"
   ]
  },
  {
   "cell_type": "code",
   "execution_count": 147,
   "metadata": {
    "collapsed": false
   },
   "outputs": [],
   "source": [
    "test = softmax(W, b, x_test)\n",
    "\n",
    "score = 0\n",
    "correct_index = []\n",
    "incorrect_index = []\n",
    "correct_values = []\n",
    "incorrect_values = []\n",
    "incorrect_real = []\n",
    "\n",
    "for i in range(len(test)):\n",
    "    k = np.argmax(test[i])\n",
    "    m = np.argmax(y_test[i])\n",
    "    if k == m:\n",
    "        score += 1\n",
    "        correct_values.append(k)\n",
    "        correct_index.append(i + len(x_train))\n",
    "    else:\n",
    "        incorrect_values.append(k)\n",
    "        incorrect_real.append(m)\n",
    "        incorrect_index.append(i + len(x_train))\n",
    "        \n",
    "score /= len(test)"
   ]
  },
  {
   "cell_type": "code",
   "execution_count": 148,
   "metadata": {
    "collapsed": false
   },
   "outputs": [
    {
     "name": "stdout",
     "output_type": "stream",
     "text": [
      "Точность прогнозов 0.9562\n"
     ]
    }
   ],
   "source": [
    "print('Точность прогнозов', round(score, 4))"
   ]
  },
  {
   "cell_type": "markdown",
   "metadata": {},
   "source": [
    "Пример картинок, на которых происходит неправильное распознавание."
   ]
  },
  {
   "cell_type": "code",
   "execution_count": 149,
   "metadata": {
    "collapsed": false
   },
   "outputs": [
    {
     "data": {
      "image/png": "[encoded data removed]",
      "text/plain": [
       "<matplotlib.figure.Figure at 0x7f5366820dd8>"
      ]
     },
     "metadata": {},
     "output_type": "display_data"
    }
   ],
   "source": [
    "plt.figure(figsize=(20,4))\n",
    "\n",
    "for index, (image, label) in enumerate(zip(digits.data[incorrect_index[:5]],\n",
    "                                           digits.target[incorrect_index[:5]])):\n",
    "    plt.subplot(1, 5, index + 1)\n",
    "    plt.imshow(np.reshape(image, (8,8)), cmap=plt.cm.gray)"
   ]
  },
  {
   "cell_type": "code",
   "execution_count": 127,
   "metadata": {
    "collapsed": false
   },
   "outputs": [
    {
     "name": "stdout",
     "output_type": "stream",
     "text": [
      "Предсказанные [9, 1, 4, 4, 1]\n",
      "Реальные [5, 2, 7, 7, 6]\n"
     ]
    }
   ],
   "source": [
    "print('Предсказанные', incorrect_values[:5])\n",
    "print('Реальные', incorrect_real[:5])"
   ]
  },
  {
   "cell_type": "markdown",
   "metadata": {},
   "source": [
    "Пример картинок, на которых распознавание произошло корректно."
   ]
  },
  {
   "cell_type": "code",
   "execution_count": 153,
   "metadata": {
    "collapsed": false,
    "deletable": true,
    "editable": true
   },
   "outputs": [
    {
     "data": {
      "image/png": "[encoded data removed]",
      "text/plain": [
       "<matplotlib.figure.Figure at 0x7f5369203438>"
      ]
     },
     "metadata": {},
     "output_type": "display_data"
    }
   ],
   "source": [
    "plt.figure(figsize=(20,4))\n",
    "\n",
    "for index, (image, label) in enumerate(zip(digits.data[correct_index[-5:]],\n",
    "                                           digits.target[correct_index[-5:]])):\n",
    "    plt.subplot(1, 5, index + 1)\n",
    "    plt.imshow(np.reshape(image, (8,8)), cmap=plt.cm.gray)"
   ]
  },
  {
   "cell_type": "code",
   "execution_count": 152,
   "metadata": {
    "collapsed": false,
    "deletable": true,
    "editable": true
   },
   "outputs": [
    {
     "name": "stdout",
     "output_type": "stream",
     "text": [
      "Предсказанные [5, 2, 1, 1, 2]\n"
     ]
    }
   ],
   "source": [
    "print('Предсказанные', correct_values[-5:])"
   ]
  },
  {
   "cell_type": "code",
   "execution_count": null,
   "metadata": {
    "collapsed": true
   },
   "outputs": [],
   "source": []
  },
  {
   "cell_type": "code",
   "execution_count": 154,
   "metadata": {
    "collapsed": true
   },
   "outputs": [],
   "source": [
    "# Дальше идут просто пустые ячейки, чтобы корректно в pdf конвертировать"
   ]
  },
  {
   "cell_type": "code",
   "execution_count": null,
   "metadata": {
    "collapsed": true
   },
   "outputs": [],
   "source": []
  },
  {
   "cell_type": "code",
   "execution_count": null,
   "metadata": {
    "collapsed": true
   },
   "outputs": [],
   "source": []
  },
  {
   "cell_type": "code",
   "execution_count": null,
   "metadata": {
    "collapsed": true
   },
   "outputs": [],
   "source": []
  },
  {
   "cell_type": "code",
   "execution_count": null,
   "metadata": {
    "collapsed": true
   },
   "outputs": [],
   "source": []
  },
  {
   "cell_type": "code",
   "execution_count": null,
   "metadata": {
    "collapsed": true
   },
   "outputs": [],
   "source": []
  },
  {
   "cell_type": "code",
   "execution_count": null,
   "metadata": {
    "collapsed": true
   },
   "outputs": [],
   "source": []
  },
  {
   "cell_type": "code",
   "execution_count": null,
   "metadata": {
    "collapsed": true
   },
   "outputs": [],
   "source": []
  },
  {
   "cell_type": "code",
   "execution_count": null,
   "metadata": {
    "collapsed": true
   },
   "outputs": [],
   "source": []
  },
  {
   "cell_type": "code",
   "execution_count": null,
   "metadata": {
    "collapsed": true
   },
   "outputs": [],
   "source": []
  },
  {
   "cell_type": "code",
   "execution_count": null,
   "metadata": {
    "collapsed": true
   },
   "outputs": [],
   "source": []
  },
  {
   "cell_type": "code",
   "execution_count": null,
   "metadata": {
    "collapsed": true
   },
   "outputs": [],
   "source": []
  },
  {
   "cell_type": "code",
   "execution_count": null,
   "metadata": {
    "collapsed": true
   },
   "outputs": [],
   "source": []
  },
  {
   "cell_type": "code",
   "execution_count": null,
   "metadata": {
    "collapsed": true
   },
   "outputs": [],
   "source": []
  },
  {
   "cell_type": "code",
   "execution_count": null,
   "metadata": {
    "collapsed": true
   },
   "outputs": [],
   "source": []
  },
  {
   "cell_type": "code",
   "execution_count": null,
   "metadata": {
    "collapsed": true
   },
   "outputs": [],
   "source": []
  },
  {
   "cell_type": "code",
   "execution_count": null,
   "metadata": {
    "collapsed": true
   },
   "outputs": [],
   "source": []
  },
  {
   "cell_type": "code",
   "execution_count": null,
   "metadata": {
    "collapsed": true
   },
   "outputs": [],
   "source": []
  },
  {
   "cell_type": "code",
   "execution_count": null,
   "metadata": {
    "collapsed": true
   },
   "outputs": [],
   "source": []
  },
  {
   "cell_type": "code",
   "execution_count": null,
   "metadata": {
    "collapsed": true
   },
   "outputs": [],
   "source": []
  },
  {
   "cell_type": "code",
   "execution_count": null,
   "metadata": {
    "collapsed": true
   },
   "outputs": [],
   "source": []
  },
  {
   "cell_type": "code",
   "execution_count": null,
   "metadata": {
    "collapsed": true
   },
   "outputs": [],
   "source": []
  },
  {
   "cell_type": "code",
   "execution_count": null,
   "metadata": {
    "collapsed": true
   },
   "outputs": [],
   "source": []
  },
  {
   "cell_type": "code",
   "execution_count": null,
   "metadata": {
    "collapsed": true
   },
   "outputs": [],
   "source": []
  },
  {
   "cell_type": "code",
   "execution_count": null,
   "metadata": {
    "collapsed": true
   },
   "outputs": [],
   "source": []
  },
  {
   "cell_type": "code",
   "execution_count": null,
   "metadata": {
    "collapsed": true
   },
   "outputs": [],
   "source": []
  },
  {
   "cell_type": "code",
   "execution_count": null,
   "metadata": {
    "collapsed": true
   },
   "outputs": [],
   "source": []
  },
  {
   "cell_type": "code",
   "execution_count": null,
   "metadata": {
    "collapsed": true
   },
   "outputs": [],
   "source": []
  },
  {
   "cell_type": "code",
   "execution_count": null,
   "metadata": {
    "collapsed": true
   },
   "outputs": [],
   "source": []
  }
 ],
 "metadata": {
  "kernelspec": {
   "display_name": "Python 3",
   "language": "python",
   "name": "python3"
  },
  "language_info": {
   "codemirror_mode": {
    "name": "ipython",
    "version": 3
   },
   "file_extension": ".py",
   "mimetype": "text/x-python",
   "name": "python",
   "nbconvert_exporter": "python",
   "pygments_lexer": "ipython3",
   "version": "3.5.2"
  }
 },
 "nbformat": 4,
 "nbformat_minor": 1
}
