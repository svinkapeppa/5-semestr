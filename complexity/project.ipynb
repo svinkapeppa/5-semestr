{
 "cells": [
  {
   "cell_type": "code",
   "execution_count": 1,
   "metadata": {
    "collapsed": true,
    "deletable": true,
    "editable": true
   },
   "outputs": [],
   "source": [
    "import numpy as np\n",
    "from math import gcd, sqrt"
   ]
  },
  {
   "cell_type": "markdown",
   "metadata": {
    "deletable": true,
    "editable": true
   },
   "source": [
    "First step is to check if $n = a^{b}$. We do it as a brute force search by power $(b)$ and binary search by base $(a)$. Time complexity is $\\mathcal{O}^{\\sim}(log^{3}n)$."
   ]
  },
  {
   "cell_type": "code",
   "execution_count": 2,
   "metadata": {
    "collapsed": true,
    "deletable": true,
    "editable": true
   },
   "outputs": [],
   "source": [
    "def checkpower(i, n):\n",
    "    left = 2\n",
    "    right = n\n",
    "    flag = False\n",
    "\n",
    "    while left <= right and not flag:\n",
    "        mid = int((left + right) / 2)\n",
    "        temp = np.power(mid, i)\n",
    "        if temp == n:\n",
    "            flag = True\n",
    "        else:\n",
    "            if n < temp:\n",
    "                right = int((left + right) / 2) - 1\n",
    "            else:\n",
    "                left = int((left + right) / 2) + 1\n",
    "\n",
    "    return flag"
   ]
  },
  {
   "cell_type": "code",
   "execution_count": 3,
   "metadata": {
    "collapsed": false,
    "deletable": true,
    "editable": true
   },
   "outputs": [],
   "source": [
    "def checkperfectpower(n):\n",
    "    for i in np.arange(2, np.log2(n) + 1):\n",
    "        if checkpower(i, n):\n",
    "            return True\n",
    "    return False"
   ]
  },
  {
   "cell_type": "markdown",
   "metadata": {
    "deletable": true,
    "editable": true
   },
   "source": [
    "Second step. Time complexity is $\\mathcal{O}^{\\sim}(log^{7}n)$."
   ]
  },
  {
   "cell_type": "code",
   "execution_count": 4,
   "metadata": {
    "collapsed": true,
    "deletable": true,
    "editable": true
   },
   "outputs": [],
   "source": [
    "def getord(r, n, threshold):\n",
    "    if gcd(r, n) > 1:\n",
    "        return False\n",
    "    for i in np.arange(1, threshold):\n",
    "        if np.mod(np.power(n, i), r) == 1:\n",
    "            return False\n",
    "    return True"
   ]
  },
  {
   "cell_type": "code",
   "execution_count": 5,
   "metadata": {
    "collapsed": true,
    "deletable": true,
    "editable": true
   },
   "outputs": [],
   "source": [
    "def smallestr(n):    \n",
    "    rmax = max(3, int(np.ceil(np.power(np.log2(n), 5))))\n",
    "    threshold = np.power(np.log2(n), 2)\n",
    "    for r in np.arange(2, rmax + 1):\n",
    "        if getord(r, n, threshold):\n",
    "            return r"
   ]
  },
  {
   "cell_type": "markdown",
   "metadata": {
    "deletable": true,
    "editable": true
   },
   "source": [
    "Third step. Time complexity is $\\mathcal{O}(log^{6}n)$."
   ]
  },
  {
   "cell_type": "code",
   "execution_count": 6,
   "metadata": {
    "collapsed": true,
    "deletable": true,
    "editable": true
   },
   "outputs": [],
   "source": [
    "def elimination(r, n):\n",
    "    for a in np.arange(2, min(r, n - 1) + 1):\n",
    "        if np.mod(n, a) == 0:\n",
    "            return True\n",
    "    return False"
   ]
  },
  {
   "cell_type": "markdown",
   "metadata": {
    "deletable": true,
    "editable": true
   },
   "source": [
    "Forth step. Time complexity is $\\mathcal{O}(log\\ n)$."
   ]
  },
  {
   "cell_type": "markdown",
   "metadata": {},
   "source": [
    "Fifth step. Time complexity is $\\mathcal{O}(log^{\\frac{21}{2}}n)$."
   ]
  },
  {
   "cell_type": "code",
   "execution_count": 7,
   "metadata": {
    "collapsed": true
   },
   "outputs": [],
   "source": [
    "def euler(n):\n",
    "    amount = 0\n",
    "    for k in range(1, n + 1):\n",
    "        if gcd(n, k) == 1:\n",
    "            amount += 1\n",
    "    return amount"
   ]
  },
  {
   "cell_type": "code",
   "execution_count": 8,
   "metadata": {
    "collapsed": true
   },
   "outputs": [],
   "source": [
    "def polynomial_coef(n, a):\n",
    "    ex = [1]\n",
    "    for i in range(n):\n",
    "        ex.append((ex[-1] * (n - i) * a) / (i + 1))\n",
    "    return ex"
   ]
  },
  {
   "cell_type": "code",
   "execution_count": null,
   "metadata": {
    "collapsed": false
   },
   "outputs": [],
   "source": [
    "def reduce(polynomial, divisor):\n",
    "    # TODO:\n",
    "        # DIVIDE POLYNOMIAL BY DIVISOR"
   ]
  },
  {
   "cell_type": "code",
   "execution_count": 10,
   "metadata": {
    "collapsed": false
   },
   "outputs": [],
   "source": [
    "def modul(n, r):\n",
    "    for a in np.arange(1, np.floor(sqrt(euler(n)) * np.log2(n)) + 1):\n",
    "        coef = polynomial_coef(n, a)\n",
    "        coef[0] -= 1\n",
    "        coef[-1] -= a\n",
    "        # TODO:\n",
    "            # REDUCE COEFS\n",
    "            # CHECK DIVISIBILITY BY N"
   ]
  },
  {
   "cell_type": "markdown",
   "metadata": {},
   "source": [
    "To sum up:"
   ]
  },
  {
   "cell_type": "code",
   "execution_count": 11,
   "metadata": {
    "collapsed": true,
    "deletable": true,
    "editable": true
   },
   "outputs": [],
   "source": [
    "def AKS(n):\n",
    "    if checkperfectpower(n):\n",
    "        print('COMPOSITE')\n",
    "    else:\n",
    "        r = smallestr(n)\n",
    "        if elimination(r, n):\n",
    "            print('COMPOSITE')\n",
    "        else:\n",
    "            if n <= r:\n",
    "                print('PRIME')\n",
    "            else:\n",
    "                print('COMPOSITE')"
   ]
  },
  {
   "cell_type": "code",
   "execution_count": null,
   "metadata": {
    "collapsed": true,
    "deletable": true,
    "editable": true
   },
   "outputs": [],
   "source": []
  }
 ],
 "metadata": {
  "kernelspec": {
   "display_name": "Python 3",
   "language": "python",
   "name": "python3"
  },
  "language_info": {
   "codemirror_mode": {
    "name": "ipython",
    "version": 3
   },
   "file_extension": ".py",
   "mimetype": "text/x-python",
   "name": "python",
   "nbconvert_exporter": "python",
   "pygments_lexer": "ipython3",
   "version": "3.5.2"
  }
 },
 "nbformat": 4,
 "nbformat_minor": 2
}
