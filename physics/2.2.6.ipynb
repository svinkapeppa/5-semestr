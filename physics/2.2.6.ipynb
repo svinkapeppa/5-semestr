{
 "cells": [
  {
   "cell_type": "code",
   "execution_count": 2,
   "metadata": {
    "collapsed": true,
    "deletable": true,
    "editable": true
   },
   "outputs": [],
   "source": [
    "import numpy as np\n",
    "import matplotlib.pyplot as plt\n",
    "from math import sqrt\n",
    "%matplotlib inline"
   ]
  },
  {
   "cell_type": "code",
   "execution_count": 3,
   "metadata": {
    "collapsed": true,
    "deletable": true,
    "editable": true
   },
   "outputs": [],
   "source": [
    "def getklow(x, y):\n",
    "    return np.mean(x * y) / np.mean(x ** 2)\n",
    "\n",
    "def geterrklow(x, y, n):\n",
    "    return sqrt(np.mean(y ** 2) / np.mean(x ** 2) - getklow(x, y) ** 2) / sqrt(n)"
   ]
  },
  {
   "cell_type": "code",
   "execution_count": 4,
   "metadata": {
    "collapsed": true,
    "deletable": true,
    "editable": true
   },
   "outputs": [],
   "source": [
    "def getkfull(x, y):\n",
    "    return (np.mean(x * y) - (np.mean(x) * np.mean(y))) / (np.mean(x ** 2) - (np.mean(x) ** 2))\n",
    "\n",
    "def geterrkfull(x, y, n):\n",
    "    return sqrt(((np.mean(y ** 2) - (np.mean(y) ** 2)) / (np.mean(x ** 2) - (np.mean(x) ** 2))\\\n",
    "                 - (getkfull(x, y) ** 2))) / sqrt(n)\n",
    "\n",
    "def geta(x, y):\n",
    "    return np.mean(y) - getkfull(x, y) * np.mean(x)\n",
    "\n",
    "def geterra(x, y):\n",
    "    return geterrkfull(x, y) * sqrt(np.mean(x ** 2) - (np.mean(x) ** 2))"
   ]
  },
  {
   "cell_type": "code",
   "execution_count": 5,
   "metadata": {
    "collapsed": true,
    "deletable": true,
    "editable": true
   },
   "outputs": [],
   "source": [
    "'''\n",
    "The radius of the ball\n",
    "[millimeters]\n",
    "'''\n",
    "\n",
    "rsteel = np.array([0.85, 1, 0.9, 0.75, 0.95, 0.7, 0.75]) / 2\n",
    "rglass = np.array([2.1, 2.1, 2.1, 2.1, 2.15, 2.05, 2.05]) / 2"
   ]
  },
  {
   "cell_type": "code",
   "execution_count": 6,
   "metadata": {
    "collapsed": true,
    "deletable": true,
    "editable": true
   },
   "outputs": [],
   "source": [
    "psteel = 7.8\n",
    "pglass = 2.5\n",
    "glycerin = np.array([1.26, 1.256, 1.252, 1.247, 1.243])"
   ]
  },
  {
   "cell_type": "code",
   "execution_count": 7,
   "metadata": {
    "collapsed": true,
    "deletable": true,
    "editable": true
   },
   "outputs": [],
   "source": [
    "'''\n",
    "Length of the path\n",
    "[meters]\n",
    "'''\n",
    "\n",
    "S = 0.1\n",
    "dS = 0.0005"
   ]
  },
  {
   "cell_type": "code",
   "execution_count": 8,
   "metadata": {
    "collapsed": true,
    "deletable": true,
    "editable": true
   },
   "outputs": [],
   "source": [
    "def err(x):\n",
    "    desired = np.mean(x)\n",
    "    error = 0\n",
    "    \n",
    "    for i in x:\n",
    "        error += (desired - i) ** 2\n",
    "        \n",
    "    error = sqrt(error) / len(x)\n",
    "    \n",
    "    return error\n",
    "\n",
    "def harderr(x, t, errt):\n",
    "    return x * sqrt((dS / S) ** 2 + (errt / t) ** 2)"
   ]
  },
  {
   "cell_type": "markdown",
   "metadata": {
    "deletable": true,
    "editable": true
   },
   "source": [
    "** Glass **"
   ]
  },
  {
   "cell_type": "code",
   "execution_count": 9,
   "metadata": {
    "collapsed": false,
    "deletable": true,
    "editable": true
   },
   "outputs": [
    {
     "name": "stdout",
     "output_type": "stream",
     "text": [
      "MEAN =  18.67 \n",
      "ERR =  0.028284271247462554 \n",
      "V =  5.35618639529 \n",
      "ERR =  0.0279832412034 \n",
      "R =  1.05 \n",
      "ERR =  0.05\n"
     ]
    }
   ],
   "source": [
    "alpha = np.array([18.63, 18.71])\n",
    "beta = 2.1 / 2\n",
    "print('MEAN = ', np.mean(alpha), '\\nERR = ', err(alpha),\n",
    "      '\\nV = ', 1000 * S / np.mean(alpha), '\\nERR = ', harderr(1000 * S / np.mean(alpha), np.mean(alpha), err(alpha)),\n",
    "      '\\nR = ', beta, '\\nERR = ', 0.05)"
   ]
  },
  {
   "cell_type": "code",
   "execution_count": 10,
   "metadata": {
    "collapsed": false,
    "deletable": true,
    "editable": true
   },
   "outputs": [
    {
     "name": "stdout",
     "output_type": "stream",
     "text": [
      "MEAN =  18.86 \n",
      "ERR =  0.03535533905932788 \n",
      "V =  5.30222693531 \n",
      "ERR =  0.0283131974275 \n",
      "R =  1.05 \n",
      "ERR =  0.05\n"
     ]
    }
   ],
   "source": [
    "alpha = np.array([18.81, 18.91])\n",
    "beta = 2.1 / 2\n",
    "print('MEAN = ', np.mean(alpha), '\\nERR = ', err(alpha),\n",
    "      '\\nV = ', 1000 * S / np.mean(alpha), '\\nERR = ', harderr(1000 * S / np.mean(alpha), np.mean(alpha), err(alpha)),\n",
    "      '\\nR = ', beta, '\\nERR = ', 0.05)"
   ]
  },
  {
   "cell_type": "code",
   "execution_count": 11,
   "metadata": {
    "collapsed": false,
    "deletable": true,
    "editable": true
   },
   "outputs": [
    {
     "name": "stdout",
     "output_type": "stream",
     "text": [
      "MEAN =  19.05 \n",
      "ERR =  0.014142135623730649 \n",
      "V =  5.24934383202 \n",
      "ERR =  0.0265344398896 \n",
      "R =  1.05 \n",
      "ERR =  0.05\n"
     ]
    }
   ],
   "source": [
    "alpha = np.array([19.03, 19.07])\n",
    "beta = 2.1 / 2\n",
    "print('MEAN = ', np.mean(alpha), '\\nERR = ', err(alpha),\n",
    "      '\\nV = ', 1000 * S / np.mean(alpha), '\\nERR = ', harderr(1000 * S / np.mean(alpha), np.mean(alpha), err(alpha)),\n",
    "      '\\nR = ', beta, '\\nERR = ', 0.05)"
   ]
  },
  {
   "cell_type": "code",
   "execution_count": 12,
   "metadata": {
    "collapsed": false,
    "deletable": true,
    "editable": true
   },
   "outputs": [
    {
     "name": "stdout",
     "output_type": "stream",
     "text": [
      "MEAN =  10.485 \n",
      "ERR =  0.060104076400856514 \n",
      "V =  9.53743443014 \n",
      "ERR =  0.0725473833754 \n",
      "R =  1.05 \n",
      "ERR =  0.05\n"
     ]
    }
   ],
   "source": [
    "alpha = np.array([10.4, 10.57])\n",
    "beta = 2.1 / 2\n",
    "print('MEAN = ', np.mean(alpha), '\\nERR = ', err(alpha),\n",
    "      '\\nV = ', 1000 * S / np.mean(alpha), '\\nERR = ', harderr(1000 * S / np.mean(alpha), np.mean(alpha), err(alpha)),\n",
    "      '\\nR = ', beta, '\\nERR = ', 0.05)"
   ]
  },
  {
   "cell_type": "code",
   "execution_count": 13,
   "metadata": {
    "collapsed": false,
    "deletable": true,
    "editable": true
   },
   "outputs": [
    {
     "name": "stdout",
     "output_type": "stream",
     "text": [
      "MEAN =  5.935 \n",
      "ERR =  0.003535533905932976 \n",
      "V =  16.849199663 \n",
      "ERR =  0.084841817941 \n",
      "R =  1.075 \n",
      "ERR =  0.05\n"
     ]
    }
   ],
   "source": [
    "alpha = np.array([5.94, 5.93])\n",
    "beta = 2.15 / 2\n",
    "print('MEAN = ', np.mean(alpha), '\\nERR = ', err(alpha),\n",
    "      '\\nV = ', 1000 * S / np.mean(alpha), '\\nERR = ', harderr(1000 * S / np.mean(alpha), np.mean(alpha), err(alpha)),\n",
    "      '\\nR = ', beta, '\\nERR = ', 0.05)"
   ]
  },
  {
   "cell_type": "code",
   "execution_count": 14,
   "metadata": {
    "collapsed": false,
    "deletable": true,
    "editable": true
   },
   "outputs": [
    {
     "name": "stdout",
     "output_type": "stream",
     "text": [
      "MEAN =  3.035 \n",
      "ERR =  0.04596194077712555 \n",
      "V =  32.9489291598 \n",
      "ERR =  0.52547059843 \n",
      "R =  1.025 \n",
      "ERR =  0.05\n"
     ]
    }
   ],
   "source": [
    "alpha = np.array([2.97, 3.10])\n",
    "beta = 2.05 / 2\n",
    "print('MEAN = ', np.mean(alpha), '\\nERR = ', err(alpha),\n",
    "      '\\nV = ', 1000 * S / np.mean(alpha), '\\nERR = ', harderr(1000 * S / np.mean(alpha), np.mean(alpha), err(alpha)),\n",
    "      '\\nR = ', beta, '\\nERR = ', 0.05)"
   ]
  },
  {
   "cell_type": "code",
   "execution_count": 15,
   "metadata": {
    "collapsed": false,
    "deletable": true,
    "editable": true
   },
   "outputs": [
    {
     "name": "stdout",
     "output_type": "stream",
     "text": [
      "MEAN =  1.935 \n",
      "ERR =  0.04596194077712555 \n",
      "V =  51.6795865633 \n",
      "ERR =  1.25444380837 \n",
      "R =  1.025 \n",
      "ERR =  0.05\n"
     ]
    }
   ],
   "source": [
    "alpha = np.array([1.87, 2.])\n",
    "beta = 2.05 / 2\n",
    "print('MEAN = ', np.mean(alpha), '\\nERR = ', err(alpha),\n",
    "      '\\nV = ', 1000 * S / np.mean(alpha), '\\nERR = ', harderr(1000 * S / np.mean(alpha), np.mean(alpha), err(alpha)),\n",
    "      '\\nR = ', beta, '\\nERR = ', 0.05)"
   ]
  },
  {
   "cell_type": "markdown",
   "metadata": {
    "deletable": true,
    "editable": true
   },
   "source": [
    "** Steel **"
   ]
  },
  {
   "cell_type": "code",
   "execution_count": 16,
   "metadata": {
    "collapsed": false,
    "deletable": true,
    "editable": true
   },
   "outputs": [
    {
     "name": "stdout",
     "output_type": "stream",
     "text": [
      "MEAN =  22.595 \n",
      "ERR =  0.04596194077712524 \n",
      "V =  4.42575791104 \n",
      "ERR =  0.023890003482 \n",
      "R =  0.425 \n",
      "ERR =  0.05\n"
     ]
    }
   ],
   "source": [
    "alpha = np.array([22.66, 22.53])\n",
    "beta = 0.85 / 2\n",
    "print('MEAN = ', np.mean(alpha), '\\nERR = ', err(alpha),\n",
    "      '\\nV = ', 1000 * S / np.mean(alpha), '\\nERR = ', harderr(1000 * S / np.mean(alpha), np.mean(alpha), err(alpha)),\n",
    "      '\\nR = ', beta, '\\nERR = ', 0.05)"
   ]
  },
  {
   "cell_type": "code",
   "execution_count": 17,
   "metadata": {
    "collapsed": false,
    "deletable": true,
    "editable": true
   },
   "outputs": [
    {
     "name": "stdout",
     "output_type": "stream",
     "text": [
      "MEAN =  19.72 \n",
      "ERR =  0.049497474683058526 \n",
      "V =  5.07099391481 \n",
      "ERR =  0.0283704638876 \n",
      "R =  0.5 \n",
      "ERR =  0.05\n"
     ]
    }
   ],
   "source": [
    "alpha = np.array([19.79, 19.65])\n",
    "beta = 1 / 2\n",
    "print('MEAN = ', np.mean(alpha), '\\nERR = ', err(alpha),\n",
    "      '\\nV = ', 1000 * S / np.mean(alpha), '\\nERR = ', harderr(1000 * S / np.mean(alpha), np.mean(alpha), err(alpha)),\n",
    "      '\\nR = ', beta, '\\nERR = ', 0.05)"
   ]
  },
  {
   "cell_type": "code",
   "execution_count": 18,
   "metadata": {
    "collapsed": false,
    "deletable": true,
    "editable": true
   },
   "outputs": [
    {
     "name": "stdout",
     "output_type": "stream",
     "text": [
      "MEAN =  19.59 \n",
      "ERR =  0.042426406871191945 \n",
      "V =  5.10464522716 \n",
      "ERR =  0.0278146176784 \n",
      "R =  0.45 \n",
      "ERR =  0.05\n"
     ]
    }
   ],
   "source": [
    "alpha = np.array([19.65, 19.53])\n",
    "beta = 0.9 / 2\n",
    "print('MEAN = ', np.mean(alpha), '\\nERR = ', err(alpha),\n",
    "      '\\nV = ', 1000 * S / np.mean(alpha), '\\nERR = ', harderr(1000 * S / np.mean(alpha), np.mean(alpha), err(alpha)),\n",
    "      '\\nR = ', beta, '\\nERR = ', 0.05)"
   ]
  },
  {
   "cell_type": "code",
   "execution_count": 19,
   "metadata": {
    "collapsed": false,
    "deletable": true,
    "editable": true
   },
   "outputs": [
    {
     "name": "stdout",
     "output_type": "stream",
     "text": [
      "MEAN =  15.07 \n",
      "ERR =  0.0 \n",
      "V =  6.63570006636 \n",
      "ERR =  0.0331785003318 \n",
      "R =  0.375 \n",
      "ERR =  0.05\n"
     ]
    }
   ],
   "source": [
    "alpha = np.array([15.07, 15.07])\n",
    "beta = 0.75 / 2\n",
    "print('MEAN = ', np.mean(alpha), '\\nERR = ', err(alpha),\n",
    "      '\\nV = ', 1000 * S / np.mean(alpha), '\\nERR = ', harderr(1000 * S / np.mean(alpha), np.mean(alpha), err(alpha)),\n",
    "      '\\nR = ', beta, '\\nERR = ', 0.05)"
   ]
  },
  {
   "cell_type": "code",
   "execution_count": 20,
   "metadata": {
    "collapsed": false,
    "deletable": true,
    "editable": true
   },
   "outputs": [
    {
     "name": "stdout",
     "output_type": "stream",
     "text": [
      "MEAN =  5.94 \n",
      "ERR =  0.0636396103067895 \n",
      "V =  16.835016835 \n",
      "ERR =  0.19904102821 \n",
      "R =  0.475 \n",
      "ERR =  0.05\n"
     ]
    }
   ],
   "source": [
    "alpha = np.array([5.85, 6.03])\n",
    "beta = 0.95 / 2\n",
    "print('MEAN = ', np.mean(alpha), '\\nERR = ', err(alpha),\n",
    "      '\\nV = ', 1000 * S / np.mean(alpha), '\\nERR = ', harderr(1000 * S / np.mean(alpha), np.mean(alpha), err(alpha)),\n",
    "      '\\nR = ', beta, '\\nERR = ', 0.05)"
   ]
  },
  {
   "cell_type": "code",
   "execution_count": 21,
   "metadata": {
    "collapsed": false,
    "deletable": true,
    "editable": true
   },
   "outputs": [
    {
     "name": "stdout",
     "output_type": "stream",
     "text": [
      "MEAN =  4.965 \n",
      "ERR =  0.06717514421272185 \n",
      "V =  20.1409869084 \n",
      "ERR =  0.290514996634 \n",
      "R =  0.35 \n",
      "ERR =  0.05\n"
     ]
    }
   ],
   "source": [
    "alpha = np.array([4.87, 5.06])\n",
    "beta = 0.7 / 2\n",
    "print('MEAN = ', np.mean(alpha), '\\nERR = ', err(alpha),\n",
    "      '\\nV = ', 1000 * S / np.mean(alpha), '\\nERR = ', harderr(1000 * S / np.mean(alpha), np.mean(alpha), err(alpha)),\n",
    "      '\\nR = ', beta, '\\nERR = ', 0.05)"
   ]
  },
  {
   "cell_type": "code",
   "execution_count": 22,
   "metadata": {
    "collapsed": false,
    "deletable": true,
    "editable": true
   },
   "outputs": [
    {
     "name": "stdout",
     "output_type": "stream",
     "text": [
      "MEAN =  2.675 \n",
      "ERR =  0.03181980515339475 \n",
      "V =  37.3831775701 \n",
      "ERR =  0.482369140901 \n",
      "R =  0.375 \n",
      "ERR =  0.05\n"
     ]
    }
   ],
   "source": [
    "alpha = np.array([2.63, 2.72])\n",
    "beta = 0.75 / 2\n",
    "print('MEAN = ', np.mean(alpha), '\\nERR = ', err(alpha),\n",
    "      '\\nV = ', 1000 * S / np.mean(alpha), '\\nERR = ', harderr(1000 * S / np.mean(alpha), np.mean(alpha), err(alpha)),\n",
    "      '\\nR = ', beta, '\\nERR = ', 0.05)"
   ]
  },
  {
   "cell_type": "markdown",
   "metadata": {
    "collapsed": true,
    "deletable": true,
    "editable": true
   },
   "source": [
    "** Viscosity **"
   ]
  },
  {
   "cell_type": "code",
   "execution_count": 23,
   "metadata": {
    "collapsed": true,
    "deletable": true,
    "editable": true
   },
   "outputs": [],
   "source": [
    "def eta(r, v, p, T):\n",
    "    g = glycerin[int((T - 293) / 10)]\n",
    "    \n",
    "    return (2 * 9.8  * (r ** 2) * (p - g)) / (9 * v)\n",
    "\n",
    "def etaerr(r, v, errv, p, T):\n",
    "    return eta(r, v, p, T) * sqrt(4 * ((0.05 / r) ** 2) + ((errv / v) ** 2))"
   ]
  },
  {
   "cell_type": "code",
   "execution_count": 24,
   "metadata": {
    "collapsed": false,
    "deletable": true,
    "editable": true
   },
   "outputs": [
    {
     "name": "stdout",
     "output_type": "stream",
     "text": [
      "GLASS \n",
      "\n",
      "ETA =  0.555455223881 \n",
      "ERR =  0.0529917714501 \n",
      "\n",
      "ETA =  0.561743396226 \n",
      "ERR =  0.0535937782505 \n",
      "\n",
      "ETA =  0.567093333333 \n",
      "ERR =  0.0541060175516 \n",
      "\n",
      "ETA =  0.313086373166 \n",
      "ERR =  0.0299061147192 \n",
      "\n",
      "ETA =  0.186399683482 \n",
      "ERR =  0.0173620749045 \n",
      "\n",
      "ETA =  0.0870075510032 \n",
      "ERR =  0.00859060656488 \n",
      "\n",
      "ETA =  0.0556511400284 \n",
      "ERR =  0.00559374791168 \n",
      "\n"
     ]
    }
   ],
   "source": [
    "print('GLASS', '\\n')\n",
    "\n",
    "print('ETA = ', eta(2.1 / 2, 5.36, 2.5, 293),\n",
    "      '\\nERR = ', etaerr(2.1 / 2, 5.36, 0.03, 2.5, 293), '\\n')\n",
    "print('ETA = ', eta(2.1 / 2, 5.3, 2.5, 293),\n",
    "      '\\nERR = ', etaerr(2.1 / 2, 5.3, 0.03, 2.5, 293), '\\n')\n",
    "print('ETA = ', eta(2.1  / 2, 5.25, 2.5, 293),\n",
    "      '\\nERR = ', etaerr(2.1 / 2, 5.25, 0.03, 2.5, 293), '\\n')\n",
    "\n",
    "print('ETA = ', eta(2.1 / 2, 9.54, 2.5, 303),\n",
    "      '\\nERR = ', etaerr(2.1 / 2, 9.54, 0.07, 2.5, 303), '\\n')\n",
    "print('ETA = ', eta(2.15 / 2, 16.85, 2.5, 313),\n",
    "      '\\nERR = ', etaerr(2.15 / 2, 16.85, 0.08, 2.5, 313), '\\n')\n",
    "print('ETA = ', eta(2.05 / 2, 32.95, 2.5, 323),\n",
    "      '\\nERR = ', etaerr(2.05 / 2, 32.95, 0.5, 2.5, 323), '\\n')\n",
    "print('ETA = ', eta(2.05 / 2, 51.68, 2.5, 333),\n",
    "      '\\nERR = ', etaerr(2.05 / 2, 51.68, 1.25, 2.5, 333), '\\n')"
   ]
  },
  {
   "cell_type": "code",
   "execution_count": 25,
   "metadata": {
    "collapsed": false,
    "deletable": true,
    "editable": true
   },
   "outputs": [
    {
     "name": "stdout",
     "output_type": "stream",
     "text": [
      "STELL \n",
      "\n",
      "ETA =  0.58071820918 \n",
      "ERR =  0.136696159488 \n",
      "\n",
      "ETA =  0.698169934641 \n",
      "ERR =  0.139694369196 \n",
      "\n",
      "ETA =  0.565517647059 \n",
      "ERR =  0.125714608716 \n",
      "\n",
      "ETA =  0.301822289157 \n",
      "ERR =  0.0804974949928 \n",
      "\n",
      "ETA =  0.191058940354 \n",
      "ERR =  0.0402868879224 \n",
      "\n",
      "ETA =  0.0868021240207 \n",
      "ERR =  0.0248940552993 \n",
      "\n",
      "ETA =  0.0537207397004 \n",
      "ERR =  0.0143435413347 \n",
      "\n"
     ]
    }
   ],
   "source": [
    "rsteel = np.array([0.85, 1, 0.9, 0.75, 0.95, 0.7, 0.75]) / 2\n",
    "\n",
    "print('STELL', '\\n')\n",
    "print('ETA = ', eta(0.85 / 2, 4.43, 7.8, 293),\n",
    "      '\\nERR = ', etaerr(0.85 / 2, 4.43, 0.03, 7.8, 293), '\\n')\n",
    "print('ETA = ', eta(1 / 2, 5.1, 7.8, 293),\n",
    "      '\\nERR = ', etaerr(1 / 2, 5.1, 0.03, 7.8, 293), '\\n')\n",
    "print('ETA = ', eta(0.9 / 2, 5.1, 7.8, 293),\n",
    "      '\\nERR = ', etaerr(0.9 / 2, 5.1, 0.03, 7.8, 293), '\\n')\n",
    "print('ETA = ', eta(0.75 / 2, 6.64, 7.8, 303),\n",
    "      '\\nERR = ', etaerr(0.75 / 2, 6.64, 0.03, 7.8, 303), '\\n')\n",
    "print('ETA = ', eta(0.95 / 2, 16.84, 7.8, 313),\n",
    "      '\\nERR = ', etaerr(0.95 / 2, 16.84, 0.2, 7.8, 313), '\\n')\n",
    "print('ETA = ', eta(0.7 / 2, 20.14, 7.8, 323),\n",
    "      '\\nERR = ', etaerr(0.7 / 2, 20.14, 0.5, 7.8, 323), '\\n')\n",
    "print('ETA = ', eta(0.75 / 2, 37.38, 7.8, 333),\n",
    "      '\\nERR = ', etaerr(0.75 / 2, 37.38, 0.5, 7.8, 333), '\\n')"
   ]
  },
  {
   "cell_type": "code",
   "execution_count": null,
   "metadata": {
    "collapsed": true,
    "deletable": true,
    "editable": true
   },
   "outputs": [],
   "source": []
  }
 ],
 "metadata": {
  "kernelspec": {
   "display_name": "Python 3",
   "language": "python",
   "name": "python3"
  },
  "language_info": {
   "codemirror_mode": {
    "name": "ipython",
    "version": 3
   },
   "file_extension": ".py",
   "mimetype": "text/x-python",
   "name": "python",
   "nbconvert_exporter": "python",
   "pygments_lexer": "ipython3",
   "version": "3.5.2"
  }
 },
 "nbformat": 4,
 "nbformat_minor": 2
}
