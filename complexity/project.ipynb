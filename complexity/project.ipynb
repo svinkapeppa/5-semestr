{
 "cells": [
  {
   "cell_type": "code",
   "execution_count": 1,
   "metadata": {
    "collapsed": true
   },
   "outputs": [],
   "source": [
    "import numpy as np\n",
    "from math import gcd"
   ]
  },
  {
   "cell_type": "markdown",
   "metadata": {},
   "source": [
    "First step is to check if $n = a^{b}$. We do it as a brute force search by power $(b)$ and binary search by base $(a)$. Time complexity is $\\mathcal{O}^{\\sim}(log^{3}n)$."
   ]
  },
  {
   "cell_type": "code",
   "execution_count": 2,
   "metadata": {
    "collapsed": true
   },
   "outputs": [],
   "source": [
    "def checkpower(i, n):\n",
    "    left = 2\n",
    "    right = n\n",
    "    flag = False\n",
    "\n",
    "    while left <= right and not flag:\n",
    "        mid = int((left + right) / 2)\n",
    "        temp = np.power(mid, i)\n",
    "        if temp == n:\n",
    "            flag = True\n",
    "        else:\n",
    "            if n < temp:\n",
    "                right = int((left + right) / 2) - 1\n",
    "            else:\n",
    "                left = int((left + right) / 2) + 1\n",
    "\n",
    "    return flag"
   ]
  },
  {
   "cell_type": "code",
   "execution_count": 3,
   "metadata": {
    "collapsed": false
   },
   "outputs": [],
   "source": [
    "def checkperfectpower(n):\n",
    "    for i in np.arange(2, np.log2(n) + 1):\n",
    "        if checkpower(i, n):\n",
    "            return True\n",
    "    return False"
   ]
  },
  {
   "cell_type": "markdown",
   "metadata": {},
   "source": [
    "Second step. Time complexity is $\\mathcal{O}^{\\sim}(log^{7}n)$."
   ]
  },
  {
   "cell_type": "code",
   "execution_count": 4,
   "metadata": {
    "collapsed": true
   },
   "outputs": [],
   "source": [
    "def getord(r, n, threshold):\n",
    "    if gcd(r, n) > 1:\n",
    "        return False\n",
    "    for i in np.arange(1, threshold):\n",
    "        if np.mod(np.power(n, i), r) == 1:\n",
    "            return False\n",
    "    return True"
   ]
  },
  {
   "cell_type": "code",
   "execution_count": 5,
   "metadata": {
    "collapsed": true
   },
   "outputs": [],
   "source": [
    "def smallestr(n):    \n",
    "    rmax = max(3, int(np.ceil(np.power(np.log2(n), 5))))\n",
    "    threshold = np.power(np.log2(n), 2)\n",
    "    for r in np.arange(2, rmax + 1):\n",
    "        if getord(r, n, threshold):\n",
    "            return r"
   ]
  },
  {
   "cell_type": "code",
   "execution_count": 6,
   "metadata": {
    "collapsed": true
   },
   "outputs": [],
   "source": [
    "def AKS(n):\n",
    "    if checkperfectpower(n):\n",
    "        print('COMPOSITE')\n",
    "    else:\n",
    "        print('PRIME')"
   ]
  },
  {
   "cell_type": "code",
   "execution_count": null,
   "metadata": {
    "collapsed": true
   },
   "outputs": [],
   "source": []
  }
 ],
 "metadata": {
  "kernelspec": {
   "display_name": "Python 3",
   "language": "python",
   "name": "python3"
  },
  "language_info": {
   "codemirror_mode": {
    "name": "ipython",
    "version": 3
   },
   "file_extension": ".py",
   "mimetype": "text/x-python",
   "name": "python",
   "nbconvert_exporter": "python",
   "pygments_lexer": "ipython3",
   "version": "3.5.2"
  }
 },
 "nbformat": 4,
 "nbformat_minor": 2
}
