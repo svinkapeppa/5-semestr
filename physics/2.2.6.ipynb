{
 "cells": [
  {
   "cell_type": "code",
   "execution_count": 1,
   "metadata": {
    "collapsed": true
   },
   "outputs": [],
   "source": [
    "import numpy as np\n",
    "import matplotlib.pyplot as plt\n",
    "from math import sqrt\n",
    "%matplotlib inline"
   ]
  },
  {
   "cell_type": "code",
   "execution_count": 3,
   "metadata": {
    "collapsed": true
   },
   "outputs": [],
   "source": [
    "def getklow(x, y):\n",
    "    return np.mean(x * y) / np.mean(x ** 2)\n",
    "\n",
    "def geterrklow(x, y, n):\n",
    "    return sqrt(np.mean(y ** 2) / np.mean(x ** 2) - getklow(x, y) ** 2) / sqrt(n)"
   ]
  },
  {
   "cell_type": "code",
   "execution_count": 4,
   "metadata": {
    "collapsed": true
   },
   "outputs": [],
   "source": [
    "def getkfull(x, y):\n",
    "    return (np.mean(x * y) - (np.mean(x) * np.mean(y))) / (np.mean(x ** 2) - (np.mean(x) ** 2))\n",
    "\n",
    "def geterrkfull(x, y, n):\n",
    "    return sqrt(((np.mean(y ** 2) - (np.mean(y) ** 2)) / (np.mean(x ** 2) - (np.mean(x) ** 2))\\\n",
    "                 - (getkfull(x, y) ** 2))) / sqrt(n)\n",
    "\n",
    "def geta(x, y):\n",
    "    return np.mean(y) - getkfull(x, y) * np.mean(x)\n",
    "\n",
    "def geterra(x, y):\n",
    "    return geterrkfull(x, y) * sqrt(np.mean(x ** 2) - (np.mean(x) ** 2))"
   ]
  },
  {
   "cell_type": "code",
   "execution_count": 10,
   "metadata": {
    "collapsed": true
   },
   "outputs": [],
   "source": [
    "'''\n",
    "The radius of the ball\n",
    "[millimeters]\n",
    "'''\n",
    "\n",
    "rsteel = np.array([0.85, 1, 0.9, 0.75, 0.95, 0.7, 0.75]) / 2\n",
    "rglass = np.array([2.1, 2.1, 2.1, 2.1, 2.15, 2.05, 2.05]) / 2"
   ]
  },
  {
   "cell_type": "code",
   "execution_count": 11,
   "metadata": {
    "collapsed": true
   },
   "outputs": [],
   "source": [
    "psteel = 7.8\n",
    "pglass = 2.5\n",
    "glycerin = np.array([1.26, 1.256, 1.252, 1.247, 1.243])"
   ]
  },
  {
   "cell_type": "code",
   "execution_count": 41,
   "metadata": {
    "collapsed": true
   },
   "outputs": [],
   "source": [
    "'''\n",
    "Length of the path\n",
    "[meters]\n",
    "'''\n",
    "\n",
    "S = 0.1\n",
    "dS = 0.0005"
   ]
  },
  {
   "cell_type": "code",
   "execution_count": 45,
   "metadata": {
    "collapsed": true
   },
   "outputs": [],
   "source": [
    "def err(x):\n",
    "    desired = np.mean(x)\n",
    "    error = 0\n",
    "    \n",
    "    for i in x:\n",
    "        error += (desired - i) ** 2\n",
    "        \n",
    "    error = sqrt(error) / len(x)\n",
    "    \n",
    "    return error\n",
    "\n",
    "def harderr(x, t, errt):\n",
    "    return x * sqrt((dS / S) ** 2 + (errt / t) ** 2)"
   ]
  },
  {
   "cell_type": "markdown",
   "metadata": {},
   "source": [
    "** Glass **"
   ]
  },
  {
   "cell_type": "code",
   "execution_count": 46,
   "metadata": {
    "collapsed": false
   },
   "outputs": [
    {
     "name": "stdout",
     "output_type": "stream",
     "text": [
      "MEAN =  18.67 \n",
      "ERR =  0.028284271247462554 \n",
      "V =  5.35618639529 \n",
      "ERR =  0.0279832412034 \n",
      "R =  2.1 \n",
      "ERR =  0.05\n"
     ]
    }
   ],
   "source": [
    "alpha = np.array([18.63, 18.71])\n",
    "beta = 2.1\n",
    "print('MEAN = ', np.mean(alpha), '\\nERR = ', err(alpha),\n",
    "      '\\nV = ', 1000 * S / np.mean(alpha), '\\nERR = ', harderr(1000 * S / np.mean(alpha), np.mean(alpha), err(alpha)),\n",
    "      '\\nR = ', beta, '\\nERR = ', 0.05)"
   ]
  },
  {
   "cell_type": "code",
   "execution_count": 47,
   "metadata": {
    "collapsed": false
   },
   "outputs": [
    {
     "name": "stdout",
     "output_type": "stream",
     "text": [
      "MEAN =  18.86 \n",
      "ERR =  0.03535533905932788 \n",
      "V =  5.30222693531 \n",
      "ERR =  0.0283131974275 \n",
      "R =  2.1 \n",
      "ERR =  0.05\n"
     ]
    }
   ],
   "source": [
    "alpha = np.array([18.81, 18.91])\n",
    "beta = 2.1\n",
    "print('MEAN = ', np.mean(alpha), '\\nERR = ', err(alpha),\n",
    "      '\\nV = ', 1000 * S / np.mean(alpha), '\\nERR = ', harderr(1000 * S / np.mean(alpha), np.mean(alpha), err(alpha)),\n",
    "      '\\nR = ', beta, '\\nERR = ', 0.05)"
   ]
  },
  {
   "cell_type": "code",
   "execution_count": 48,
   "metadata": {
    "collapsed": false
   },
   "outputs": [
    {
     "name": "stdout",
     "output_type": "stream",
     "text": [
      "MEAN =  19.05 \n",
      "ERR =  0.014142135623730649 \n",
      "V =  5.24934383202 \n",
      "ERR =  0.0265344398896 \n",
      "R =  2.1 \n",
      "ERR =  0.05\n"
     ]
    }
   ],
   "source": [
    "alpha = np.array([19.03, 19.07])\n",
    "beta = 2.1\n",
    "print('MEAN = ', np.mean(alpha), '\\nERR = ', err(alpha),\n",
    "      '\\nV = ', 1000 * S / np.mean(alpha), '\\nERR = ', harderr(1000 * S / np.mean(alpha), np.mean(alpha), err(alpha)),\n",
    "      '\\nR = ', beta, '\\nERR = ', 0.05)"
   ]
  },
  {
   "cell_type": "code",
   "execution_count": 49,
   "metadata": {
    "collapsed": false
   },
   "outputs": [
    {
     "name": "stdout",
     "output_type": "stream",
     "text": [
      "MEAN =  10.485 \n",
      "ERR =  0.060104076400856514 \n",
      "V =  9.53743443014 \n",
      "ERR =  0.0725473833754 \n",
      "R =  2.1 \n",
      "ERR =  0.05\n"
     ]
    }
   ],
   "source": [
    "alpha = np.array([10.4, 10.57])\n",
    "beta = 2.1\n",
    "print('MEAN = ', np.mean(alpha), '\\nERR = ', err(alpha),\n",
    "      '\\nV = ', 1000 * S / np.mean(alpha), '\\nERR = ', harderr(1000 * S / np.mean(alpha), np.mean(alpha), err(alpha)),\n",
    "      '\\nR = ', beta, '\\nERR = ', 0.05)"
   ]
  },
  {
   "cell_type": "code",
   "execution_count": 50,
   "metadata": {
    "collapsed": false
   },
   "outputs": [
    {
     "name": "stdout",
     "output_type": "stream",
     "text": [
      "MEAN =  5.935 \n",
      "ERR =  0.003535533905932976 \n",
      "V =  16.849199663 \n",
      "ERR =  0.084841817941 \n",
      "R =  2.15 \n",
      "ERR =  0.05\n"
     ]
    }
   ],
   "source": [
    "alpha = np.array([5.94, 5.93])\n",
    "beta = 2.15\n",
    "print('MEAN = ', np.mean(alpha), '\\nERR = ', err(alpha),\n",
    "      '\\nV = ', 1000 * S / np.mean(alpha), '\\nERR = ', harderr(1000 * S / np.mean(alpha), np.mean(alpha), err(alpha)),\n",
    "      '\\nR = ', beta, '\\nERR = ', 0.05)"
   ]
  },
  {
   "cell_type": "code",
   "execution_count": 51,
   "metadata": {
    "collapsed": false
   },
   "outputs": [
    {
     "name": "stdout",
     "output_type": "stream",
     "text": [
      "MEAN =  3.035 \n",
      "ERR =  0.04596194077712555 \n",
      "V =  32.9489291598 \n",
      "ERR =  0.52547059843 \n",
      "R =  2.05 \n",
      "ERR =  0.05\n"
     ]
    }
   ],
   "source": [
    "alpha = np.array([2.97, 3.10])\n",
    "beta = 2.05\n",
    "print('MEAN = ', np.mean(alpha), '\\nERR = ', err(alpha),\n",
    "      '\\nV = ', 1000 * S / np.mean(alpha), '\\nERR = ', harderr(1000 * S / np.mean(alpha), np.mean(alpha), err(alpha)),\n",
    "      '\\nR = ', beta, '\\nERR = ', 0.05)"
   ]
  },
  {
   "cell_type": "code",
   "execution_count": 52,
   "metadata": {
    "collapsed": false
   },
   "outputs": [
    {
     "name": "stdout",
     "output_type": "stream",
     "text": [
      "MEAN =  1.935 \n",
      "ERR =  0.04596194077712555 \n",
      "V =  51.6795865633 \n",
      "ERR =  1.25444380837 \n",
      "R =  2.05 \n",
      "ERR =  0.05\n"
     ]
    }
   ],
   "source": [
    "alpha = np.array([1.87, 2.])\n",
    "beta = 2.05\n",
    "print('MEAN = ', np.mean(alpha), '\\nERR = ', err(alpha),\n",
    "      '\\nV = ', 1000 * S / np.mean(alpha), '\\nERR = ', harderr(1000 * S / np.mean(alpha), np.mean(alpha), err(alpha)),\n",
    "      '\\nR = ', beta, '\\nERR = ', 0.05)"
   ]
  },
  {
   "cell_type": "markdown",
   "metadata": {},
   "source": [
    "** Steel **"
   ]
  },
  {
   "cell_type": "code",
   "execution_count": 53,
   "metadata": {
    "collapsed": false
   },
   "outputs": [
    {
     "name": "stdout",
     "output_type": "stream",
     "text": [
      "MEAN =  22.595 \n",
      "ERR =  0.04596194077712524 \n",
      "V =  4.42575791104 \n",
      "ERR =  0.023890003482 \n",
      "R =  0.85 \n",
      "ERR =  0.05\n"
     ]
    }
   ],
   "source": [
    "alpha = np.array([22.66, 22.53])\n",
    "beta = 0.85\n",
    "print('MEAN = ', np.mean(alpha), '\\nERR = ', err(alpha),\n",
    "      '\\nV = ', 1000 * S / np.mean(alpha), '\\nERR = ', harderr(1000 * S / np.mean(alpha), np.mean(alpha), err(alpha)),\n",
    "      '\\nR = ', beta, '\\nERR = ', 0.05)"
   ]
  },
  {
   "cell_type": "code",
   "execution_count": 54,
   "metadata": {
    "collapsed": false
   },
   "outputs": [
    {
     "name": "stdout",
     "output_type": "stream",
     "text": [
      "MEAN =  19.72 \n",
      "ERR =  0.049497474683058526 \n",
      "V =  5.07099391481 \n",
      "ERR =  0.0283704638876 \n",
      "R =  1 \n",
      "ERR =  0.05\n"
     ]
    }
   ],
   "source": [
    "alpha = np.array([19.79, 19.65])\n",
    "beta = 1\n",
    "print('MEAN = ', np.mean(alpha), '\\nERR = ', err(alpha),\n",
    "      '\\nV = ', 1000 * S / np.mean(alpha), '\\nERR = ', harderr(1000 * S / np.mean(alpha), np.mean(alpha), err(alpha)),\n",
    "      '\\nR = ', beta, '\\nERR = ', 0.05)"
   ]
  },
  {
   "cell_type": "code",
   "execution_count": 55,
   "metadata": {
    "collapsed": false
   },
   "outputs": [
    {
     "name": "stdout",
     "output_type": "stream",
     "text": [
      "MEAN =  19.59 \n",
      "ERR =  0.042426406871191945 \n",
      "V =  5.10464522716 \n",
      "ERR =  0.0278146176784 \n",
      "R =  0.9 \n",
      "ERR =  0.05\n"
     ]
    }
   ],
   "source": [
    "alpha = np.array([19.65, 19.53])\n",
    "beta = 0.9\n",
    "print('MEAN = ', np.mean(alpha), '\\nERR = ', err(alpha),\n",
    "      '\\nV = ', 1000 * S / np.mean(alpha), '\\nERR = ', harderr(1000 * S / np.mean(alpha), np.mean(alpha), err(alpha)),\n",
    "      '\\nR = ', beta, '\\nERR = ', 0.05)"
   ]
  },
  {
   "cell_type": "code",
   "execution_count": 56,
   "metadata": {
    "collapsed": false
   },
   "outputs": [
    {
     "name": "stdout",
     "output_type": "stream",
     "text": [
      "MEAN =  15.07 \n",
      "ERR =  0.0 \n",
      "V =  6.63570006636 \n",
      "ERR =  0.0331785003318 \n",
      "R =  0.75 \n",
      "ERR =  0.05\n"
     ]
    }
   ],
   "source": [
    "alpha = np.array([15.07, 15.07])\n",
    "beta = 0.75\n",
    "print('MEAN = ', np.mean(alpha), '\\nERR = ', err(alpha),\n",
    "      '\\nV = ', 1000 * S / np.mean(alpha), '\\nERR = ', harderr(1000 * S / np.mean(alpha), np.mean(alpha), err(alpha)),\n",
    "      '\\nR = ', beta, '\\nERR = ', 0.05)"
   ]
  },
  {
   "cell_type": "code",
   "execution_count": 57,
   "metadata": {
    "collapsed": false
   },
   "outputs": [
    {
     "name": "stdout",
     "output_type": "stream",
     "text": [
      "MEAN =  5.94 \n",
      "ERR =  0.0636396103067895 \n",
      "V =  16.835016835 \n",
      "ERR =  0.19904102821 \n",
      "R =  0.95 \n",
      "ERR =  0.05\n"
     ]
    }
   ],
   "source": [
    "alpha = np.array([5.85, 6.03])\n",
    "beta = 0.95\n",
    "print('MEAN = ', np.mean(alpha), '\\nERR = ', err(alpha),\n",
    "      '\\nV = ', 1000 * S / np.mean(alpha), '\\nERR = ', harderr(1000 * S / np.mean(alpha), np.mean(alpha), err(alpha)),\n",
    "      '\\nR = ', beta, '\\nERR = ', 0.05)"
   ]
  },
  {
   "cell_type": "code",
   "execution_count": 58,
   "metadata": {
    "collapsed": false
   },
   "outputs": [
    {
     "name": "stdout",
     "output_type": "stream",
     "text": [
      "MEAN =  4.965 \n",
      "ERR =  0.06717514421272185 \n",
      "V =  20.1409869084 \n",
      "ERR =  0.290514996634 \n",
      "R =  0.7 \n",
      "ERR =  0.05\n"
     ]
    }
   ],
   "source": [
    "alpha = np.array([4.87, 5.06])\n",
    "beta = 0.7\n",
    "print('MEAN = ', np.mean(alpha), '\\nERR = ', err(alpha),\n",
    "      '\\nV = ', 1000 * S / np.mean(alpha), '\\nERR = ', harderr(1000 * S / np.mean(alpha), np.mean(alpha), err(alpha)),\n",
    "      '\\nR = ', beta, '\\nERR = ', 0.05)"
   ]
  },
  {
   "cell_type": "code",
   "execution_count": 59,
   "metadata": {
    "collapsed": false
   },
   "outputs": [
    {
     "name": "stdout",
     "output_type": "stream",
     "text": [
      "MEAN =  2.675 \n",
      "ERR =  0.03181980515339475 \n",
      "V =  37.3831775701 \n",
      "ERR =  0.482369140901 \n",
      "R =  0.75 \n",
      "ERR =  0.05\n"
     ]
    }
   ],
   "source": [
    "alpha = np.array([2.63, 2.72])\n",
    "beta = 0.75\n",
    "print('MEAN = ', np.mean(alpha), '\\nERR = ', err(alpha),\n",
    "      '\\nV = ', 1000 * S / np.mean(alpha), '\\nERR = ', harderr(1000 * S / np.mean(alpha), np.mean(alpha), err(alpha)),\n",
    "      '\\nR = ', beta, '\\nERR = ', 0.05)"
   ]
  },
  {
   "cell_type": "code",
   "execution_count": null,
   "metadata": {
    "collapsed": true
   },
   "outputs": [],
   "source": []
  }
 ],
 "metadata": {
  "kernelspec": {
   "display_name": "Python 3",
   "language": "python",
   "name": "python3"
  },
  "language_info": {
   "codemirror_mode": {
    "name": "ipython",
    "version": 3
   },
   "file_extension": ".py",
   "mimetype": "text/x-python",
   "name": "python",
   "nbconvert_exporter": "python",
   "pygments_lexer": "ipython3",
   "version": "3.5.2"
  }
 },
 "nbformat": 4,
 "nbformat_minor": 2
}
