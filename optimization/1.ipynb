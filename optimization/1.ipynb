{
 "cells": [
  {
   "cell_type": "code",
   "execution_count": 1,
   "metadata": {
    "collapsed": true,
    "deletable": true,
    "editable": true
   },
   "outputs": [],
   "source": [
    "import numpy as np\n",
    "import matplotlib.pyplot as plt\n",
    "import matplotlib.lines as mlines\n",
    "from math import sin\n",
    "%matplotlib inline"
   ]
  },
  {
   "cell_type": "markdown",
   "metadata": {
    "deletable": true,
    "editable": true
   },
   "source": [
    "# ============================================================\n",
    "# Задача на Симплекс метод\n",
    "\n",
    "## 1) На вход Вашему функцию должны приходить:\n",
    "\n",
    "0. число переменных = n\n",
    "1. матрица A (n x m) (tsv, вещественные числа)\n",
    "2. вектор  b  ограничений типа неравнство\n",
    "4. вектор c функции полезности для задачи max cx \n",
    "5. алгоритм выбора входящей переменной (правило Бленда, Лексикографический метод)\n",
    "6. (не обязательный параметр) стартовую базисную точку\n",
    "\n",
    "## 2) На выход программа должна выдавать:\n",
    "\n",
    "### Обязательная часть (0.7 баллов):\n",
    "0. Ответ и оптимальную точку при положительных компонентах вектора b\n",
    "1. Количество итераций потребовавшихся для решения задачи\n",
    "2. при n=2 выдавать процесс решения (draw=True)\n",
    "3. Напишите программу которая будет отвечать на вопрос оптимально ли приведенное решение, например\n",
    "\n",
    "### Дополнительная часть  (0.4 балл):\n",
    "0. Максимально использовать матричные вычисления (0.2 балла)\n",
    "1. Работать в случае отрицательных чисел в векторе b (0.2 балла)"
   ]
  },
  {
   "cell_type": "code",
   "execution_count": 2,
   "metadata": {
    "collapsed": true,
    "deletable": true,
    "editable": true
   },
   "outputs": [],
   "source": [
    "def isoptimal(zstar):\n",
    "    for z in zstar:\n",
    "        if (z < 0):\n",
    "            return False\n",
    "    return True"
   ]
  },
  {
   "cell_type": "code",
   "execution_count": 3,
   "metadata": {
    "collapsed": true,
    "deletable": true,
    "editable": true
   },
   "outputs": [],
   "source": [
    "def getenteringindex(size, zstar, nonbasic):\n",
    "    index = size + 1\n",
    "    for i in range(len(zstar)):\n",
    "        if zstar[i] < 0 and nonbasic[i] < index:\n",
    "            index = i + 1\n",
    "    return index"
   ]
  },
  {
   "cell_type": "code",
   "execution_count": 4,
   "metadata": {
    "collapsed": true,
    "deletable": true,
    "editable": true
   },
   "outputs": [],
   "source": [
    "def getleavingindex(size, primalstepdirection, xstar, basic):\n",
    "    values = primalstepdirection / xstar\n",
    "    nans = np.isnan(values)\n",
    "    values[nans] = 0\n",
    "    value = np.max(values)\n",
    "    index = size + 1\n",
    "    for i in range(len(xstar)):\n",
    "        if values[i] == value and basic[i] < index:\n",
    "            index = i\n",
    "    return (1 / values[index]), index + 1"
   ]
  },
  {
   "cell_type": "code",
   "execution_count": 5,
   "metadata": {
    "collapsed": true,
    "deletable": true,
    "editable": true
   },
   "outputs": [],
   "source": [
    "def lexical(primalstepdirection, xstar, N, basic):\n",
    "    values = primalstepdirection / xstar\n",
    "    nans = np.isnan(values)\n",
    "    values[nans] = 0\n",
    "    value = np.max(values)\n",
    "    rows = []\n",
    "    indexes = []\n",
    "    for i in range(len(xstar)):\n",
    "        if values[i] == value:\n",
    "            row = [xstar[i] / basic[i]]\n",
    "            row += list(N[i] / (-basic[i]))\n",
    "            rows += [row]\n",
    "            indexes += [i]\n",
    "    index = np.argmin(rows, axis=0)[0]\n",
    "    return (1 / value), indexes[index] + 1"
   ]
  },
  {
   "cell_type": "code",
   "execution_count": 6,
   "metadata": {
    "collapsed": true,
    "deletable": true,
    "editable": true
   },
   "outputs": [],
   "source": [
    "def changebasis(basic, nonbasic,\n",
    "                enteringindex, leavingindex):\n",
    "    temp = basic[leavingindex - 1]\n",
    "    basic[leavingindex - 1] = nonbasic[enteringindex - 1]\n",
    "    nonbasic[enteringindex - 1] = temp"
   ]
  },
  {
   "cell_type": "code",
   "execution_count": 7,
   "metadata": {
    "collapsed": true,
    "deletable": true,
    "editable": true
   },
   "outputs": [],
   "source": [
    "def changematrix(B, N,\n",
    "                 enteringindex, leavingindex):\n",
    "    temp = B[:, leavingindex - 1].copy()\n",
    "    B[:, leavingindex - 1] = N[:, enteringindex - 1]\n",
    "    N[:, enteringindex - 1] = temp"
   ]
  },
  {
   "cell_type": "code",
   "execution_count": 8,
   "metadata": {
    "collapsed": true,
    "deletable": true,
    "editable": true
   },
   "outputs": [],
   "source": [
    "def solution(n, m, c, basic, nonbasic, xstar):\n",
    "    answer = np.zeros(n + m)\n",
    "    answer[basic - 1] = xstar\n",
    "    answer[nonbasic - 1] = 0\n",
    "    return answer[:n], c @ (answer[:n]).T"
   ]
  },
  {
   "cell_type": "code",
   "execution_count": 9,
   "metadata": {
    "collapsed": true,
    "deletable": true,
    "editable": true
   },
   "outputs": [],
   "source": [
    "def getpoint(n, m, xstar, basic, nonbasic):\n",
    "    values = np.zeros(n + m)\n",
    "    values[basic - 1] = xstar\n",
    "    values[nonbasic - 1] = 0\n",
    "    return list(values[:n])"
   ]
  },
  {
   "cell_type": "code",
   "execution_count": 10,
   "metadata": {
    "collapsed": true,
    "deletable": true,
    "editable": true
   },
   "outputs": [],
   "source": [
    "def ok(A, b, x, y):\n",
    "    vector = np.array([x, y])\n",
    "    values = A @ vector.T\n",
    "    for i in range(len(values)):\n",
    "        if values[i] > b[i]:\n",
    "            return False\n",
    "    return True"
   ]
  },
  {
   "cell_type": "code",
   "execution_count": 11,
   "metadata": {
    "collapsed": true,
    "deletable": true,
    "editable": true
   },
   "outputs": [],
   "source": [
    "def getpoints(a, b):\n",
    "    y = 0\n",
    "    x = 0\n",
    "    other = []\n",
    "    if a[1] != 0:\n",
    "        y = b / a[1]\n",
    "    if a[0] != 0:\n",
    "        x = b / a[0]\n",
    "    if x > 0 and y > 0:\n",
    "        other = [[0, y], [x, 0]]\n",
    "    elif x > 0 and y < 0:\n",
    "        other = [[x, 0], [10 * x, (b - a[0] * 10 * x) / a[1]]]\n",
    "    elif y > 0 and x < 0:\n",
    "        other = [[0, y], [(b - a[1] * 10 * y) / a[0], 10 * y]]\n",
    "    elif y == 0 and x > 0:\n",
    "        other = [[x, 0], [x, 10]]\n",
    "    elif x == 0 and y > 0:\n",
    "        other = [[0, y], [10, y]]\n",
    "    return other"
   ]
  },
  {
   "cell_type": "code",
   "execution_count": 12,
   "metadata": {
    "collapsed": true,
    "deletable": true,
    "editable": true
   },
   "outputs": [],
   "source": [
    "def line(p1, p2):\n",
    "    A = (p1[1] - p2[1])\n",
    "    B = (p2[0] - p1[0])\n",
    "    C = (p1[0] * p2[1] - p2[0] * p1[1])\n",
    "    return A, B, -C"
   ]
  },
  {
   "cell_type": "code",
   "execution_count": 13,
   "metadata": {
    "collapsed": true
   },
   "outputs": [],
   "source": [
    "def intersection(L1, L2):\n",
    "    D  = L1[0] * L2[1] - L1[1] * L2[0]\n",
    "    Dx = L1[2] * L2[1] - L1[1] * L2[2]\n",
    "    Dy = L1[0] * L2[2] - L1[2] * L2[0]\n",
    "    if D != 0:\n",
    "        x = Dx / D\n",
    "        y = Dy / D\n",
    "        return x, y\n",
    "    else:\n",
    "        return 0, 0"
   ]
  },
  {
   "cell_type": "code",
   "execution_count": 14,
   "metadata": {
    "collapsed": true
   },
   "outputs": [],
   "source": [
    "def pivot(xstar, zstar, N, basic, nonbasic):\n",
    "    m = len(basic)\n",
    "    leavingindex = np.argmin(xstar)\n",
    "    row = N[leavingindex]\n",
    "    N = N - row\n",
    "    N[leavingindex] = -row\n",
    "    N[:, 0] = -np.ones(m)\n",
    "    changebasis(basic, nonbasic, 1, leavingindex + 1)\n",
    "    value = -xstar[leavingindex]\n",
    "    xstar = xstar + value\n",
    "    xstar[leavingindex] = value\n",
    "    zstar = row\n",
    "    zstar[0] = 1\n",
    "    return xstar, zstar, N, basic, nonbasic"
   ]
  },
  {
   "cell_type": "code",
   "execution_count": 195,
   "metadata": {
    "collapsed": false
   },
   "outputs": [],
   "source": [
    "def auxiliary(A, b):\n",
    "    n = A.shape[1]\n",
    "    m = A.shape[0]\n",
    "    basic = np.arange(n + 1, n + m + 1)\n",
    "    nonbasic = np.arange(0, n + 1)\n",
    "    xstar = b.copy()\n",
    "    zstar = [-1] + [0] * n\n",
    "    B = np.eye(m)\n",
    "    N = np.c_[-np.ones(m), A.copy()]\n",
    "    xstar, zstar, N, basic, nonbasic = pivot(xstar, zstar, N,  basic, nonbasic)\n",
    "    while True:\n",
    "        if (isoptimal(zstar)):\n",
    "            for i in range(n + 1):\n",
    "                if nonbasic[i] == 0:\n",
    "                    N = np.delete(N, i, 1)\n",
    "                    nonbasic = np.delete(nonbasic, i, 0)\n",
    "                    break\n",
    "            return basic, nonbasic, N, xstar\n",
    "        else:\n",
    "            enteringindex = np.argmin(zstar)\n",
    "            vector = np.eye(n + 1)[enteringindex]\n",
    "            primalstepdirection = np.linalg.inv(B) @ N @ vector.T\n",
    "            values = primalstepdirection / xstar\n",
    "            leavingindex = np.argmax(values)\n",
    "            t = 1 / values[leavingindex]\n",
    "            vector = np.eye(m)[leavingindex]\n",
    "            dualstepdirection = -(np.linalg.inv(B) @ N).T @ vector.T\n",
    "            s = zstar[enteringindex] / dualstepdirection[enteringindex]\n",
    "            xstar = xstar - t * primalstepdirection\n",
    "            zstar = zstar - s * dualstepdirection\n",
    "            zstar[enteringindex] = s\n",
    "            xstar[leavingindex] = t\n",
    "            changebasis(basic, nonbasic,\n",
    "                        enteringindex + 1, leavingindex + 1)\n",
    "            changematrix(B, N, enteringindex + 1,\n",
    "                         leavingindex + 1)\n",
    "            value = B[leavingindex][leavingindex]\n",
    "            B[leavingindex] = B[leavingindex] / value\n",
    "            N[leavingindex] = N[leavingindex] / value\n",
    "            for i in range(m):\n",
    "                if i == leavingindex:\n",
    "                    continue\n",
    "                temp = B[i][leavingindex]\n",
    "                B[i][leavingindex] = 0\n",
    "                N[i] = N[i] - temp * N[leavingindex]"
   ]
  },
  {
   "cell_type": "code",
   "execution_count": 196,
   "metadata": {
    "collapsed": false,
    "deletable": true,
    "editable": true
   },
   "outputs": [],
   "source": [
    "def simplex(n, A, b, c, method='bland', start_point=None, draw=False):\n",
    "    supplement = 0\n",
    "    if start_point != None:\n",
    "        b = b - A @ start_point.T\n",
    "        supplement = c @ start_point.T\n",
    "    m = A.shape[0]\n",
    "    basic = np.arange(n + 1, n + m + 1)\n",
    "    nonbasic = np.arange(1, n + 1)\n",
    "    xstar = b.copy()\n",
    "    zstar = -(c.copy())\n",
    "    B = np.eye(m)\n",
    "    N = A.copy()\n",
    "    iteration = 0\n",
    "    points = [[0, 0]]\n",
    "    aux = False\n",
    "    if not isoptimal(xstar):\n",
    "        aux = True\n",
    "        oldnonbasic = nonbasic.copy()\n",
    "        temp = zstar.copy()\n",
    "        newzstar = np.zeros(n)\n",
    "        basic, nonbasic, N, xstar = auxiliary(N, xstar)\n",
    "        for i in range(n):\n",
    "            if oldnonbasic[i] in basic:\n",
    "                index = -1\n",
    "                for j in range(m):\n",
    "                    if oldnonbasic[i] == basic[j]:\n",
    "                        index = j\n",
    "                newzstar -= temp[i] * N[index]\n",
    "            else:\n",
    "                index = -1\n",
    "                for j in range(n):\n",
    "                    if nonbasic[j] == oldnonbasic[i]:\n",
    "                        index = j\n",
    "                newzstar[index] += temp[i]\n",
    "        zstar = newzstar.copy()\n",
    "    while True:\n",
    "        if (isoptimal(zstar)):\n",
    "            point, value = solution(n, m, c, basic, nonbasic, xstar)\n",
    "            if start_point != None:\n",
    "                value += supplement\n",
    "                point += start_point\n",
    "            if draw and n == 2 and not aux:\n",
    "                points = np.array(points)\n",
    "                if start_point != None:\n",
    "                    points += start_point\n",
    "                    b = b + A @ start_point.T\n",
    "                for i in range(iteration + 1):\n",
    "                    xmin = -0.1\n",
    "                    xmax = -1\n",
    "                    ymin = -0.1\n",
    "                    ymax = -1\n",
    "                    plt.plot([0, 10], [0, 0], c='blue', alpha=0.2)\n",
    "                    plt.plot([0, 0], [0, 10], c='blue', alpha=0.2)\n",
    "                    if ok(A, b, 0, 0):\n",
    "                        plt.scatter(0, 0, c='black')\n",
    "                    for j in range(m):\n",
    "                        y = 0\n",
    "                        x = 0\n",
    "                        dots = []\n",
    "                        if A[j][1] != 0:\n",
    "                            y = b[j] / A[j][1]\n",
    "                        if A[j][0] != 0:\n",
    "                            x = b[j] / A[j][0]\n",
    "                        if x > 0 and y > 0:\n",
    "                            plt.plot([0, x], [y, 0], c='blue', alpha=0.2)\n",
    "                            if ok(A, b, 0, y):\n",
    "                                plt.scatter(0, y, c='black')\n",
    "                                if y > ymax:\n",
    "                                    ymax = y\n",
    "                            if ok(A, b, x, 0):\n",
    "                                plt.scatter(x, 0, c='black')\n",
    "                                if x > xmax:\n",
    "                                    xmax = x\n",
    "                            dots = [[0, y], [x, 0]]\n",
    "                        elif x > 0 and y < 0:\n",
    "                            plt.plot([x, 10 * x], [0, (b[j] - A[j][0] * 10 * x) / A[j][1]], c='blue', alpha=0.2)\n",
    "                            if ok(A, b, x, 0):\n",
    "                                plt.scatter(x, 0, c='black')\n",
    "                                if x > xmax:\n",
    "                                    xmax = x\n",
    "                            dots = [[x, 0], [10 * x, (b[j] - A[j][0] * 10 * x) / A[j][1]]]\n",
    "                        elif y > 0 and x < 0:\n",
    "                            plt.plot([0, (b[j] - A[j][1] * 10 * y) / A[j][0]], [y, 10 * y], c='blue', alpha=0.2)\n",
    "                            if ok(A, b, 0, y):\n",
    "                                plt.scatter(0, y, c='black')\n",
    "                                if y > ymax:\n",
    "                                    ymax = y\n",
    "                            dots = [[0, y], [(b[j] - A[j][1] * 10 * y) / A[j][0], 10 * y]]\n",
    "                        elif y == 0 and x > 0:\n",
    "                            plt.plot([x, x], [0, 10], c='blue', alpha=0.2)\n",
    "                            if ok(A, b, x, 0):\n",
    "                                plt.scatter(x, 0, c='black')\n",
    "                                if x > xmax:\n",
    "                                    xmax = x\n",
    "                            dots = [[x, 0], [x, 10]]\n",
    "                        elif x == 0 and y > 0:\n",
    "                            plt.plot([0, 10], [y, y], c='blue', alpha=0.2)\n",
    "                            if ok(A, b, 0, y):\n",
    "                                plt.scatter(0, y, c='black')\n",
    "                                if y > ymax:\n",
    "                                    ymax = y\n",
    "                            dots = [[0, y], [10, y]]\n",
    "                        for k in range(m):    \n",
    "                            if k == j:\n",
    "                                continue\n",
    "                            else:\n",
    "                                L1 = line(dots[0], dots[1])\n",
    "                                dots = getpoints(A[k], b[k])\n",
    "                                L2 = line(dots[0], dots[1])\n",
    "                                x, y = intersection(L1, L2)\n",
    "                                if ok(A, b, x, y):\n",
    "                                    plt.scatter(x, y, c='black')\n",
    "                                    if y > ymax:\n",
    "                                        ymax = y\n",
    "                                    if x > xmax:\n",
    "                                        xmax = x\n",
    "                    plt.scatter(points[i][0], points[i][1], c='red')\n",
    "                    plt.xlim((xmin, xmax + 1))\n",
    "                    plt.ylim((ymin, ymax + 1))\n",
    "                    plt.title('iteration = %d; point = (%.2f, %.2f)' % (i, points[i][0], points[i][1]))\n",
    "                    plt.show()\n",
    "            return value, point, iteration\n",
    "            break\n",
    "        else:\n",
    "            iteration += 1\n",
    "            enteringindex = getenteringindex(n + m, zstar, nonbasic)\n",
    "            vector = np.eye(n)[enteringindex - 1]\n",
    "            primalstepdirection = np.linalg.inv(B) @ N @ vector.T\n",
    "            t = 0\n",
    "            leavingindex = 0\n",
    "            if method == 'bland':\n",
    "                t, leavingindex = getleavingindex(n + m, primalstepdirection, xstar, basic)\n",
    "            elif method == 'lexical':\n",
    "                t, leavingindex = lexical(primalstepdirection, xstar, N, basic)\n",
    "            vector = np.eye(m)[leavingindex - 1]\n",
    "            dualstepdirection = -(np.linalg.inv(B) @ N).T @ vector.T\n",
    "            s = zstar[enteringindex - 1] / dualstepdirection[enteringindex - 1]\n",
    "            xstar = xstar - t * primalstepdirection\n",
    "            zstar = zstar - s * dualstepdirection\n",
    "            zstar[enteringindex - 1] = s\n",
    "            xstar[leavingindex - 1] = t\n",
    "            changebasis(basic, nonbasic,\n",
    "                        enteringindex, leavingindex)\n",
    "            changematrix(B, N,\n",
    "                         enteringindex, leavingindex)\n",
    "            if draw and n == 2 and not aux:\n",
    "                points += [getpoint(n, m, xstar, basic, nonbasic)]"
   ]
  },
  {
   "cell_type": "code",
   "execution_count": 18,
   "metadata": {
    "collapsed": true,
    "deletable": true,
    "editable": true
   },
   "outputs": [],
   "source": [
    "def checkoptimal(A, b, c, x):\n",
    "    value, point, iteration = simplex(A.shape[1], A, b, c)\n",
    "    return np.array_equal(point, x)"
   ]
  },
  {
   "cell_type": "markdown",
   "metadata": {
    "deletable": true,
    "editable": true
   },
   "source": [
    "## Тесты"
   ]
  },
  {
   "cell_type": "code",
   "execution_count": 44,
   "metadata": {
    "collapsed": false
   },
   "outputs": [
    {
     "data": {
      "text/plain": [
       "(-3.0000000000000004, array([ 1.33333333,  0.33333333]), 0)"
      ]
     },
     "execution_count": 44,
     "metadata": {},
     "output_type": "execute_result"
    }
   ],
   "source": [
    "A = np.array([[-1, 1], [-1, -2], [0, 1]])\n",
    "b = np.array([-1, -2, 1])\n",
    "c = np.array([-2, -1])\n",
    "simplex(2, A, b, c)"
   ]
  },
  {
   "cell_type": "code",
   "execution_count": 19,
   "metadata": {
    "collapsed": false
   },
   "outputs": [
    {
     "data": {
      "text/plain": [
       "(0.60000000000000053, array([ 0. ,  2.8,  3.4]), 2)"
      ]
     },
     "execution_count": 19,
     "metadata": {},
     "output_type": "execute_result"
    }
   ],
   "source": [
    "A = np.array([[2, -1, 2], [2, -3, 1], [-1, 1, -2]])\n",
    "b = np.array([4, -5, -1])\n",
    "c = np.array([1, -1, 1])\n",
    "simplex(3, A, b, c)"
   ]
  },
  {
   "cell_type": "code",
   "execution_count": 20,
   "metadata": {
    "collapsed": false
   },
   "outputs": [
    {
     "data": {
      "text/plain": [
       "(1.2000000000000002, array([ 0.,  0.,  3.]), 2)"
      ]
     },
     "execution_count": 20,
     "metadata": {},
     "output_type": "execute_result"
    }
   ],
   "source": [
    "A = np.array([[0.2, -0.2, -0.6], [-0.6, -0.4, -0.2], [1, 0, 1]])\n",
    "b = np.array([1.6, 2.2, 3])\n",
    "c = np.array([0.2, -0.2, 0.4])\n",
    "simplex(3, A, b, c)"
   ]
  },
  {
   "cell_type": "code",
   "execution_count": 21,
   "metadata": {
    "collapsed": false,
    "deletable": true,
    "editable": true
   },
   "outputs": [
    {
     "data": {
      "text/plain": [
       "True"
      ]
     },
     "execution_count": 21,
     "metadata": {},
     "output_type": "execute_result"
    }
   ],
   "source": [
    "A = np.array([[1, -1], [2, -1], [0, 1]])\n",
    "b = np.array([1, 3, 5])\n",
    "c = np.array([4, 3])\n",
    "x = np.array([4, 5])\n",
    "checkoptimal(A, b, c, x)"
   ]
  },
  {
   "cell_type": "code",
   "execution_count": 22,
   "metadata": {
    "collapsed": false,
    "deletable": true,
    "editable": true
   },
   "outputs": [
    {
     "name": "stderr",
     "output_type": "stream",
     "text": [
      "/usr/local/lib/python3.5/dist-packages/ipykernel/__main__.py:3: FutureWarning: comparison to `None` will result in an elementwise object comparison in the future.\n",
      "  app.launch_new_instance()\n",
      "/usr/local/lib/python3.5/dist-packages/ipykernel/__main__.py:2: RuntimeWarning: divide by zero encountered in true_divide\n",
      "  from ipykernel import kernelapp as app\n",
      "/usr/local/lib/python3.5/dist-packages/ipykernel/__main__.py:39: FutureWarning: comparison to `None` will result in an elementwise object comparison in the future.\n"
     ]
    },
    {
     "data": {
      "text/plain": [
       "(31.0, array([ 4.,  5.]), 3)"
      ]
     },
     "execution_count": 22,
     "metadata": {},
     "output_type": "execute_result"
    }
   ],
   "source": [
    "A = np.array([[1, -1], [2, -1], [0, 1]])\n",
    "b = np.array([1, 3, 5])\n",
    "c = np.array([4, 3])\n",
    "start_point = np.array([1, 1])\n",
    "simplex(2, A, b, c, method='lexical', start_point=start_point)"
   ]
  },
  {
   "cell_type": "code",
   "execution_count": 23,
   "metadata": {
    "collapsed": false,
    "deletable": true,
    "editable": true
   },
   "outputs": [
    {
     "data": {
      "image/png": "[encoded data removed]",
      "text/plain": [
       "<matplotlib.figure.Figure at 0x7fabe19717b8>"
      ]
     },
     "metadata": {},
     "output_type": "display_data"
    },
    {
     "data": {
      "image/png": "[encoded data removed]",
      "text/plain": [
       "<matplotlib.figure.Figure at 0x7fabdf67f780>"
      ]
     },
     "metadata": {},
     "output_type": "display_data"
    },
    {
     "data": {
      "image/png": "[encoded data removed]",
      "text/plain": [
       "<matplotlib.figure.Figure at 0x7fabdf5a2f60>"
      ]
     },
     "metadata": {},
     "output_type": "display_data"
    },
    {
     "data": {
      "image/png": "[encoded data removed]",
      "text/plain": [
       "<matplotlib.figure.Figure at 0x7fabdf50c898>"
      ]
     },
     "metadata": {},
     "output_type": "display_data"
    },
    {
     "data": {
      "text/plain": [
       "(31.0, array([ 4.,  5.]), 3)"
      ]
     },
     "execution_count": 23,
     "metadata": {},
     "output_type": "execute_result"
    }
   ],
   "source": [
    "A = np.array([[1, -1], [2, -1], [0, 1]])\n",
    "b = np.array([1, 3, 5])\n",
    "c = np.array([4, 3])\n",
    "simplex(2, A, b, c, draw=True)"
   ]
  },
  {
   "cell_type": "code",
   "execution_count": 24,
   "metadata": {
    "collapsed": false,
    "deletable": true,
    "editable": true
   },
   "outputs": [
    {
     "name": "stderr",
     "output_type": "stream",
     "text": [
      "/usr/local/lib/python3.5/dist-packages/ipykernel/__main__.py:3: FutureWarning: comparison to `None` will result in an elementwise object comparison in the future.\n",
      "  app.launch_new_instance()\n",
      "/usr/local/lib/python3.5/dist-packages/ipykernel/__main__.py:2: RuntimeWarning: divide by zero encountered in true_divide\n",
      "  from ipykernel import kernelapp as app\n",
      "/usr/local/lib/python3.5/dist-packages/ipykernel/__main__.py:39: FutureWarning: comparison to `None` will result in an elementwise object comparison in the future.\n"
     ]
    },
    {
     "data": {
      "text/plain": [
       "(31.0, array([ 4.,  5.]), 3)"
      ]
     },
     "execution_count": 24,
     "metadata": {},
     "output_type": "execute_result"
    }
   ],
   "source": [
    "A = np.array([[1, -1], [2, -1], [0, 1]])\n",
    "b = np.array([1, 3, 5])\n",
    "c = np.array([4, 3])\n",
    "start_point = np.array([1, 1])\n",
    "simplex(2, A, b, c, start_point=start_point)"
   ]
  },
  {
   "cell_type": "code",
   "execution_count": 25,
   "metadata": {
    "collapsed": false,
    "deletable": true,
    "editable": true
   },
   "outputs": [
    {
     "name": "stderr",
     "output_type": "stream",
     "text": [
      "/usr/local/lib/python3.5/dist-packages/ipykernel/__main__.py:3: FutureWarning: comparison to `None` will result in an elementwise object comparison in the future.\n",
      "  app.launch_new_instance()\n",
      "/usr/local/lib/python3.5/dist-packages/ipykernel/__main__.py:2: RuntimeWarning: divide by zero encountered in true_divide\n",
      "  from ipykernel import kernelapp as app\n",
      "/usr/local/lib/python3.5/dist-packages/ipykernel/__main__.py:39: FutureWarning: comparison to `None` will result in an elementwise object comparison in the future.\n",
      "/usr/local/lib/python3.5/dist-packages/ipykernel/__main__.py:44: FutureWarning: comparison to `None` will result in an elementwise object comparison in the future.\n"
     ]
    },
    {
     "data": {
      "image/png": "[encoded data removed]",
      "text/plain": [
       "<matplotlib.figure.Figure at 0x7fabdf435c88>"
      ]
     },
     "metadata": {},
     "output_type": "display_data"
    },
    {
     "data": {
      "image/png": "[encoded data removed]",
      "text/plain": [
       "<matplotlib.figure.Figure at 0x7fabdf668da0>"
      ]
     },
     "metadata": {},
     "output_type": "display_data"
    },
    {
     "data": {
      "text/plain": [
       "(22.0, array([ 2.2,  0. ]), 1)"
      ]
     },
     "execution_count": 25,
     "metadata": {},
     "output_type": "execute_result"
    }
   ],
   "source": [
    "A = np.array([[1, 1], [5, 2], [0, 1]])\n",
    "b = np.array([4, 11, 4])\n",
    "c = np.array([10, 3])\n",
    "start_point = np.array([2.2, 0])\n",
    "simplex(2, A, b, c, method='lexical', start_point=start_point, draw=True)"
   ]
  },
  {
   "cell_type": "code",
   "execution_count": 26,
   "metadata": {
    "collapsed": false,
    "deletable": true,
    "editable": true
   },
   "outputs": [
    {
     "name": "stderr",
     "output_type": "stream",
     "text": [
      "/usr/local/lib/python3.5/dist-packages/ipykernel/__main__.py:3: FutureWarning: comparison to `None` will result in an elementwise object comparison in the future.\n",
      "  app.launch_new_instance()\n",
      "/usr/local/lib/python3.5/dist-packages/ipykernel/__main__.py:2: RuntimeWarning: divide by zero encountered in true_divide\n",
      "  from ipykernel import kernelapp as app\n",
      "/usr/local/lib/python3.5/dist-packages/ipykernel/__main__.py:39: FutureWarning: comparison to `None` will result in an elementwise object comparison in the future.\n"
     ]
    },
    {
     "data": {
      "text/plain": [
       "(22.0, array([ 2.2,  0. ]), 1)"
      ]
     },
     "execution_count": 26,
     "metadata": {},
     "output_type": "execute_result"
    }
   ],
   "source": [
    "A = np.array([[1, 1], [5, 2], [0, 1]])\n",
    "b = np.array([4, 11, 4])\n",
    "c = np.array([10, 3])\n",
    "simplex(2, A, b, c)\n",
    "\n",
    "A = np.array([[1, 1], [5, 2], [0, 1]])\n",
    "b = np.array([4, 11, 4])\n",
    "c = np.array([10, 3])\n",
    "start_point = np.array([2.2, 0])\n",
    "simplex(2, A, b, c, start_point=start_point)"
   ]
  },
  {
   "cell_type": "code",
   "execution_count": 27,
   "metadata": {
    "collapsed": false,
    "deletable": true,
    "editable": true
   },
   "outputs": [
    {
     "name": "stderr",
     "output_type": "stream",
     "text": [
      "/usr/local/lib/python3.5/dist-packages/ipykernel/__main__.py:2: RuntimeWarning: divide by zero encountered in true_divide\n",
      "  from ipykernel import kernelapp as app\n"
     ]
    },
    {
     "data": {
      "text/plain": [
       "(1.0, array([ 1.,  0.,  1.,  0.]), 5)"
      ]
     },
     "execution_count": 27,
     "metadata": {},
     "output_type": "execute_result"
    }
   ],
   "source": [
    "A = np.array([[0.5, -5.5, -2.5, 9], [0.5, -1.5, -0.5, 1], [1, 0, 0, 0]])\n",
    "b = np.array([0, 0, 1])\n",
    "c = np.array([10, -57, -9, -24])\n",
    "start_point = np.array([1, 0, 1, 0])\n",
    "simplex(4, A, b, c, method='lexical', start_point=None)"
   ]
  },
  {
   "cell_type": "code",
   "execution_count": 28,
   "metadata": {
    "collapsed": false,
    "deletable": true,
    "editable": true
   },
   "outputs": [
    {
     "name": "stderr",
     "output_type": "stream",
     "text": [
      "/usr/local/lib/python3.5/dist-packages/ipykernel/__main__.py:2: RuntimeWarning: divide by zero encountered in true_divide\n",
      "  from ipykernel import kernelapp as app\n",
      "/usr/local/lib/python3.5/dist-packages/ipykernel/__main__.py:3: FutureWarning: comparison to `None` will result in an elementwise object comparison in the future.\n",
      "  app.launch_new_instance()\n",
      "/usr/local/lib/python3.5/dist-packages/ipykernel/__main__.py:39: FutureWarning: comparison to `None` will result in an elementwise object comparison in the future.\n"
     ]
    },
    {
     "data": {
      "text/plain": [
       "(1.0, array([ 1.,  0.,  1.,  0.]), 2)"
      ]
     },
     "execution_count": 28,
     "metadata": {},
     "output_type": "execute_result"
    }
   ],
   "source": [
    "A = np.array([[0.5, -5.5, -2.5, 9], [0.5, -1.5, -0.5, 1], [1, 0, 0, 0]])\n",
    "b = np.array([0, 0, 1])\n",
    "c = np.array([10, -57, -9, -24])\n",
    "simplex(4, A, b, c)\n",
    "\n",
    "A = np.array([[0.5, -5.5, -2.5, 9], [0.5, -1.5, -0.5, 1], [1, 0, 0, 0]])\n",
    "b = np.array([0, 0, 1])\n",
    "c = np.array([10, -57, -9, -24])\n",
    "start_point = np.array([1, 0, 1, 0])\n",
    "simplex(4, A, b, c, start_point=start_point)"
   ]
  },
  {
   "cell_type": "code",
   "execution_count": 29,
   "metadata": {
    "collapsed": false,
    "deletable": true,
    "editable": true
   },
   "outputs": [
    {
     "name": "stderr",
     "output_type": "stream",
     "text": [
      "/usr/local/lib/python3.5/dist-packages/ipykernel/__main__.py:2: RuntimeWarning: divide by zero encountered in true_divide\n",
      "  from ipykernel import kernelapp as app\n",
      "/usr/local/lib/python3.5/dist-packages/ipykernel/__main__.py:3: FutureWarning: comparison to `None` will result in an elementwise object comparison in the future.\n",
      "  app.launch_new_instance()\n",
      "/usr/local/lib/python3.5/dist-packages/ipykernel/__main__.py:39: FutureWarning: comparison to `None` will result in an elementwise object comparison in the future.\n"
     ]
    },
    {
     "data": {
      "text/plain": [
       "(7.0, array([ 0.,  1.,  0.,  0.]), 1)"
      ]
     },
     "execution_count": 29,
     "metadata": {},
     "output_type": "execute_result"
    }
   ],
   "source": [
    "A = np.array([[1, 1, 1, 1], [0.5, -5.5, -2.5, 9], [0.5, -1.5, -0.5, 1]])\n",
    "b = np.array([1, 0, 0])\n",
    "c = np.array([-1, 7, 1, 2])\n",
    "simplex(4, A, b, c)\n",
    "\n",
    "A = np.array([[1, 1, 1, 1], [0.5, -5.5, -2.5, 9], [0.5, -1.5, -0.5, 1]])\n",
    "b = np.array([1, 0, 0])\n",
    "c = np.array([-1, 7, 1, 2])\n",
    "start_point = np.array([0, 1, 0, 0])\n",
    "simplex(4, A, b, c, start_point=start_point)"
   ]
  },
  {
   "cell_type": "code",
   "execution_count": 30,
   "metadata": {
    "collapsed": false,
    "deletable": true,
    "editable": true
   },
   "outputs": [
    {
     "name": "stderr",
     "output_type": "stream",
     "text": [
      "/usr/local/lib/python3.5/dist-packages/ipykernel/__main__.py:2: RuntimeWarning: divide by zero encountered in true_divide\n",
      "  from ipykernel import kernelapp as app\n"
     ]
    },
    {
     "data": {
      "text/plain": [
       "(7.0, array([ 0.,  1.,  0.,  0.]), 1)"
      ]
     },
     "execution_count": 30,
     "metadata": {},
     "output_type": "execute_result"
    }
   ],
   "source": [
    "A = np.array([[1, 1, 1, 1], [0.5, -5.5, -2.5, 9], [0.5, -1.5, -0.5, 1]])\n",
    "b = np.array([1, 0, 0])\n",
    "c = np.array([-1, 7, 1, 2])\n",
    "start_point = np.array([0, 1, 0, 0])\n",
    "simplex(4, A, b, c, method='lexical', start_point=None)"
   ]
  },
  {
   "cell_type": "markdown",
   "metadata": {
    "deletable": true,
    "editable": true
   },
   "source": [
    "# ==========================================================\n",
    "# Задача на МНК"
   ]
  },
  {
   "cell_type": "code",
   "execution_count": 108,
   "metadata": {
    "collapsed": true,
    "deletable": true,
    "editable": true
   },
   "outputs": [],
   "source": [
    "''' Пусть физический закон описывается зависимостью \n",
    "    некоторого измеряемого значения y(x, a) \n",
    "    от времени и координаты x при параметрах a:\n",
    "'''\n",
    "\n",
    "def function(t, a): \n",
    "    return a[2] * sin(t) + a[1] * t + a[0]"
   ]
  },
  {
   "cell_type": "code",
   "execution_count": 222,
   "metadata": {
    "collapsed": false,
    "deletable": true,
    "editable": true
   },
   "outputs": [],
   "source": [
    "''' Дан набор координат t размера m, значения распределены равномерно. \n",
    "    Пусть m = 200.\n",
    "'''\n",
    "\n",
    "m = 200\n",
    "time = np.array([i * 10.0 / m for i in range(m)])"
   ]
  },
  {
   "cell_type": "code",
   "execution_count": 223,
   "metadata": {
    "collapsed": true,
    "deletable": true,
    "editable": true
   },
   "outputs": [],
   "source": [
    "''' Для каждого момента времени t сгенерируйте соответствующее\n",
    "    значение y(t,a) при некоторых параметрах  a_0, a_1, a_2. Для примера:\n",
    "'''\n",
    "\n",
    "a = np.array([10, 100, 1000])"
   ]
  },
  {
   "cell_type": "code",
   "execution_count": 224,
   "metadata": {
    "collapsed": true,
    "deletable": true,
    "editable": true
   },
   "outputs": [],
   "source": [
    "''' Выберем параметр b.\n",
    "'''\n",
    "\n",
    "b = 500"
   ]
  },
  {
   "cell_type": "code",
   "execution_count": 225,
   "metadata": {
    "collapsed": true,
    "deletable": true,
    "editable": true
   },
   "outputs": [],
   "source": [
    "''' Результаты измерений отличаются от истинных значений \n",
    "    в силу действия случайной аддитивной помехи\n",
    "    (случайность подчиняется нормальному закону распределения N(0, b))\n",
    "'''\n",
    "\n",
    "def get_y(a, b):\n",
    "    y_real = np.array([function(i, a) for i in time])\n",
    "    y_corr = y_real + np.random.normal(0, b, m)\n",
    "    return y_real, y_corr"
   ]
  },
  {
   "cell_type": "code",
   "execution_count": 226,
   "metadata": {
    "collapsed": false,
    "deletable": true,
    "editable": true
   },
   "outputs": [],
   "source": [
    "''' Сгенерируем значения: исходные и с помехами.\n",
    "'''\n",
    "\n",
    "y_real, y_corr = get_y(a, b)"
   ]
  },
  {
   "cell_type": "code",
   "execution_count": 227,
   "metadata": {
    "collapsed": false,
    "deletable": true,
    "editable": true
   },
   "outputs": [],
   "source": [
    "''' По сгенерированному набору точек y_corr дайте оценку параметрам a\n",
    "    закона с учетом знания общей формулы тремя различными способами:\n",
    "    1) method = 0 -> сумма квадратов невязок будет минимальна;\n",
    "    2) method = 1 -> сумма абсолютных значений невязок будет минимальна;\n",
    "    3) method = 2 -> максимальное абсолютное значение невязки будет минимально.\n",
    "'''\n",
    "\n",
    "def get_params(y_corr, time, method=0):\n",
    "    if method == 0:\n",
    "        A = np.array([[1, t, sin(t)] for t in time])\n",
    "        return np.linalg.inv(A.T @ A) @ A.T @ y_corr\n",
    "    elif method == 1:\n",
    "        A = np.array([[1, t, sin(t)] for t in time])\n",
    "        E = np.eye(m)\n",
    "        B = np.vstack((np.hstack((-E, A)), np.hstack((-E, -A))))\n",
    "        b = np.hstack((y_corr, -y_corr))\n",
    "        c = -np.hstack((np.ones(m), np.zeros(3)))\n",
    "        start_point = np.hstack((y_corr, np.zeros(3)))\n",
    "        return simplex(len(c), B, b, c, start_point=start_point)\n",
    "    elif method == 2:\n",
    "        A = np.array([[1, t, sin(t)] for t in time])\n",
    "        E = np.array([np.ones(m)])\n",
    "        B = np.vstack((np.hstack((-E.T, A)), np.hstack((-E.T, -A))))\n",
    "        b = np.hstack((y_corr, -y_corr))\n",
    "        c = -np.hstack((np.ones(1), np.zeros(3)))\n",
    "        return simplex(len(c), B, b, c)"
   ]
  },
  {
   "cell_type": "code",
   "execution_count": 228,
   "metadata": {
    "collapsed": false
   },
   "outputs": [
    {
     "data": {
      "text/plain": [
       "(-1359.202328741829,\n",
       " array([ 1359.20232874,   155.39251655,    53.30362687,  1299.69423581]),\n",
       " 2)"
      ]
     },
     "execution_count": 228,
     "metadata": {},
     "output_type": "execute_result"
    }
   ],
   "source": [
    "get_params(y_corr, time, method=2)"
   ]
  },
  {
   "cell_type": "markdown",
   "metadata": {},
   "source": [
    "## Задание 1"
   ]
  },
  {
   "cell_type": "code",
   "execution_count": 231,
   "metadata": {
    "collapsed": false
   },
   "outputs": [
    {
     "name": "stderr",
     "output_type": "stream",
     "text": [
      "/usr/local/lib/python3.5/dist-packages/ipykernel/__main__.py:3: FutureWarning: comparison to `None` will result in an elementwise object comparison in the future.\n",
      "  app.launch_new_instance()\n",
      "/usr/local/lib/python3.5/dist-packages/ipykernel/__main__.py:2: RuntimeWarning: divide by zero encountered in true_divide\n",
      "  from ipykernel import kernelapp as app\n",
      "/usr/local/lib/python3.5/dist-packages/ipykernel/__main__.py:2: RuntimeWarning: invalid value encountered in true_divide\n",
      "  from ipykernel import kernelapp as app\n",
      "/usr/local/lib/python3.5/dist-packages/ipykernel/__main__.py:39: FutureWarning: comparison to `None` will result in an elementwise object comparison in the future.\n"
     ]
    },
    {
     "data": {
      "image/png": "[encoded data removed]",
      "text/plain": [
       "<matplotlib.figure.Figure at 0x7fabdf3b9e80>"
      ]
     },
     "metadata": {},
     "output_type": "display_data"
    }
   ],
   "source": [
    "plt.figure(figsize=(15,7))\n",
    "\n",
    "plt.scatter(time, y_corr, c='red', label='Скорректированные значения')\n",
    "\n",
    "y = np.array([function(t, a) for t in time])\n",
    "plt.plot(time, y, c='black', label='Истинные')\n",
    "\n",
    "astar = np.zeros((3,3))\n",
    "\n",
    "astar[0] = get_params(y_corr, time)\n",
    "y = np.array([function(t, astar[0]) for t in time])\n",
    "plt.plot(time, y, c='blue', label='МНК')\n",
    "\n",
    "astar[1] = get_params(y_corr, time, method=1)[1][-3:]\n",
    "y = np.array([function(t, astar[1]) for t in time])\n",
    "plt.plot(time, y, c='green', label='Минимум суммы абсюлютных значений невязок')\n",
    "\n",
    "astar[2] = get_params(y_corr, time, method=2)[1][-3:]\n",
    "y = np.array([function(t, astar[2]) for t in time])\n",
    "plt.plot(time, y, c='purple', label='Минимум максимальной по модулю невязки')\n",
    "\n",
    "plt.legend()\n",
    "plt.show()"
   ]
  },
  {
   "cell_type": "code",
   "execution_count": null,
   "metadata": {
    "collapsed": false
   },
   "outputs": [],
   "source": [
    "print('Отличие истинных параметров и параметров, полученных с помощью МНК:')\n",
    "print('\\tИстинные:', a)\n",
    "print('\\tИз МНК:', np.round(astar[0], 2))"
   ]
  },
  {
   "cell_type": "code",
   "execution_count": 40,
   "metadata": {
    "collapsed": false
   },
   "outputs": [
    {
     "data": {
      "image/png": "[encoded data removed]",
      "text/plain": [
       "<matplotlib.figure.Figure at 0x7fabdf2d6e10>"
      ]
     },
     "metadata": {},
     "output_type": "display_data"
    }
   ],
   "source": [
    "plt.figure(figsize=(15,7))\n",
    "\n",
    "plt.scatter(time, y_corr, c='red', label='Скорректированные значения')\n",
    "\n",
    "y = np.array([function(t, a) for t in time])\n",
    "plt.plot(time, y, c='black', label='Истинные')\n",
    "\n",
    "y_corrupt = y_corr.copy()\n",
    "y_corrupt[0] -= 50\n",
    "y_corrupt[-1] += 50\n",
    "astar = get_params(y_corrupt, time)\n",
    "y = np.array([function(t, astar) for t in time])\n",
    "plt.plot(time, y, c='blue', label='МНК')\n",
    "\n",
    "plt.title('Значения времени содержат выбросы')\n",
    "plt.legend()\n",
    "plt.show()"
   ]
  },
  {
   "cell_type": "code",
   "execution_count": 41,
   "metadata": {
    "collapsed": false
   },
   "outputs": [
    {
     "name": "stdout",
     "output_type": "stream",
     "text": [
      "Отличие истинных параметров и параметров, полученных с помощью МНК      при наличии выбросов\n",
      "\tИстинные: [  10  100 1000]\n",
      "\tИз МНК: [  -34.71   105.23  1057.84]\n"
     ]
    }
   ],
   "source": [
    "print('Отличие истинных параметров и параметров, полученных с помощью МНК\\\n",
    "      при наличии выбросов')\n",
    "print('\\tИстинные:', a)\n",
    "print('\\tИз МНК:', np.round(astar, 2))"
   ]
  },
  {
   "cell_type": "markdown",
   "metadata": {},
   "source": [
    "## Задание 2"
   ]
  },
  {
   "cell_type": "code",
   "execution_count": 42,
   "metadata": {
    "collapsed": false
   },
   "outputs": [],
   "source": [
    "A = np.array(np.random.normal(size=(200, 80)))\n",
    "b = np.array(np.random.normal(size=200))"
   ]
  },
  {
   "cell_type": "code",
   "execution_count": 43,
   "metadata": {
    "collapsed": false
   },
   "outputs": [
    {
     "data": {
      "image/png": "[encoded data removed]",
      "text/plain": [
       "<matplotlib.figure.Figure at 0x7fabe16afcc0>"
      ]
     },
     "metadata": {},
     "output_type": "display_data"
    }
   ],
   "source": [
    "plt.figure(figsize=(15, 7))\n",
    "x = np.linalg.inv(A.T @ A) @ A.T @ b.T\n",
    "plt.hist(A @ x - b, bins=10, normed=True)\n",
    "plt.show()"
   ]
  },
  {
   "cell_type": "markdown",
   "metadata": {
    "deletable": true,
    "editable": true
   },
   "source": [
    "## Задание 1 (0.2 балла)\n",
    "1.\tПостройте в одной координатной плоскости графики у(t, a) и  оценочные значения y(t,a*) для всех 3 методов\n",
    "\n",
    "2.\tВычислите как отличается каждый из оценочных параметров от своего истинного значения. Как меняется это отличие при изменении σ?\n",
    "3.\tСкорректируйте y_corr[0]  и y_corr[-1] пусть одно из них будет на 50 больше, а другое на 50 меньше. Постройте новые оценочные значения параметров  и соответствующие графики. Какая из оценок получилась более устойчивой к выбросам?\n",
    "\n",
    "## Задание 2 (0.2 балла)\n",
    "Возьмем случайную матрицу A  200x80 и случайный вектор b из распределения N(0,1). \n",
    "\n",
    "1. Решите переопределенную систему тремя способами, минимизируя l1, l2 и linf нормы вектора b – Ax.\n",
    "2. Постройте распределение ошибок для каждого решения.\n",
    "3. Какими свойствами обладают распределения?"
   ]
  },
  {
   "cell_type": "code",
   "execution_count": null,
   "metadata": {
    "collapsed": true
   },
   "outputs": [],
   "source": []
  }
 ],
 "metadata": {
  "kernelspec": {
   "display_name": "Python 3",
   "language": "python",
   "name": "python3"
  },
  "language_info": {
   "codemirror_mode": {
    "name": "ipython",
    "version": 3
   },
   "file_extension": ".py",
   "mimetype": "text/x-python",
   "name": "python",
   "nbconvert_exporter": "python",
   "pygments_lexer": "ipython3",
   "version": "3.5.2"
  }
 },
 "nbformat": 4,
 "nbformat_minor": 2
}
