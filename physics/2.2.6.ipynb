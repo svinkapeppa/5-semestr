{
 "cells": [
  {
   "cell_type": "code",
   "execution_count": 100,
   "metadata": {
    "collapsed": true,
    "deletable": true,
    "editable": true
   },
   "outputs": [],
   "source": [
    "import numpy as np\n",
    "import matplotlib.pyplot as plt\n",
    "from math import sqrt\n",
    "%matplotlib inline"
   ]
  },
  {
   "cell_type": "code",
   "execution_count": 101,
   "metadata": {
    "collapsed": true,
    "deletable": true,
    "editable": true
   },
   "outputs": [],
   "source": [
    "def getklow(x, y):\n",
    "    return np.mean(x * y) / np.mean(x ** 2)\n",
    "\n",
    "def geterrklow(x, y, n):\n",
    "    return sqrt(np.mean(y ** 2) / np.mean(x ** 2) - getklow(x, y) ** 2) / sqrt(n)"
   ]
  },
  {
   "cell_type": "code",
   "execution_count": 102,
   "metadata": {
    "collapsed": true,
    "deletable": true,
    "editable": true
   },
   "outputs": [],
   "source": [
    "def getkfull(x, y):\n",
    "    return (np.mean(x * y) - (np.mean(x) * np.mean(y))) / (np.mean(x ** 2) - (np.mean(x) ** 2))\n",
    "\n",
    "def geterrkfull(x, y, n):\n",
    "    return sqrt(((np.mean(y ** 2) - (np.mean(y) ** 2)) / (np.mean(x ** 2) - (np.mean(x) ** 2))\\\n",
    "                 - (getkfull(x, y) ** 2))) / sqrt(n)\n",
    "\n",
    "def geta(x, y):\n",
    "    return np.mean(y) - getkfull(x, y) * np.mean(x)\n",
    "\n",
    "def geterra(x, y):\n",
    "    return geterrkfull(x, y) * sqrt(np.mean(x ** 2) - (np.mean(x) ** 2))"
   ]
  },
  {
   "cell_type": "code",
   "execution_count": 103,
   "metadata": {
    "collapsed": true,
    "deletable": true,
    "editable": true
   },
   "outputs": [],
   "source": [
    "'''\n",
    "The radius of the ball\n",
    "[millimeters]\n",
    "'''\n",
    "\n",
    "rsteel = np.array([0.85, 1, 0.9, 0.75, 0.95, 0.7, 0.75]) / 2\n",
    "rglass = np.array([2.1, 2.1, 2.1, 2.1, 2.15, 2.05, 2.05]) / 2"
   ]
  },
  {
   "cell_type": "code",
   "execution_count": 104,
   "metadata": {
    "collapsed": true,
    "deletable": true,
    "editable": true
   },
   "outputs": [],
   "source": [
    "psteel = 7.8\n",
    "pglass = 2.5\n",
    "glycerin = np.array([1.26, 1.256, 1.252, 1.247, 1.243])"
   ]
  },
  {
   "cell_type": "code",
   "execution_count": 105,
   "metadata": {
    "collapsed": true,
    "deletable": true,
    "editable": true
   },
   "outputs": [],
   "source": [
    "'''\n",
    "Length of the path\n",
    "[meters]\n",
    "'''\n",
    "\n",
    "S = 0.1\n",
    "dS = 0.0005"
   ]
  },
  {
   "cell_type": "code",
   "execution_count": 106,
   "metadata": {
    "collapsed": true,
    "deletable": true,
    "editable": true
   },
   "outputs": [],
   "source": [
    "def err(x):\n",
    "    desired = np.mean(x)\n",
    "    error = 0\n",
    "    \n",
    "    for i in x:\n",
    "        error += (desired - i) ** 2\n",
    "        \n",
    "    error = sqrt(error) / len(x)\n",
    "    \n",
    "    return error\n",
    "\n",
    "def harderr(x, t, errt):\n",
    "    return x * sqrt((dS / S) ** 2 + (errt / t) ** 2)"
   ]
  },
  {
   "cell_type": "markdown",
   "metadata": {
    "deletable": true,
    "editable": true
   },
   "source": [
    "** Glass **"
   ]
  },
  {
   "cell_type": "code",
   "execution_count": 107,
   "metadata": {
    "collapsed": false,
    "deletable": true,
    "editable": true
   },
   "outputs": [
    {
     "name": "stdout",
     "output_type": "stream",
     "text": [
      "MEAN =  18.67 \n",
      "ERR =  0.028284271247462554 \n",
      "V =  5.35618639529 \n",
      "ERR =  0.0279832412034 \n",
      "R =  1.05 \n",
      "ERR =  0.05\n"
     ]
    }
   ],
   "source": [
    "alpha = np.array([18.63, 18.71])\n",
    "beta = 2.1 / 2\n",
    "print('MEAN = ', np.mean(alpha), '\\nERR = ', err(alpha),\n",
    "      '\\nV = ', 1000 * S / np.mean(alpha), '\\nERR = ', harderr(1000 * S / np.mean(alpha), np.mean(alpha), err(alpha)),\n",
    "      '\\nR = ', beta, '\\nERR = ', 0.05)"
   ]
  },
  {
   "cell_type": "code",
   "execution_count": 108,
   "metadata": {
    "collapsed": false,
    "deletable": true,
    "editable": true
   },
   "outputs": [
    {
     "name": "stdout",
     "output_type": "stream",
     "text": [
      "MEAN =  18.86 \n",
      "ERR =  0.03535533905932788 \n",
      "V =  5.30222693531 \n",
      "ERR =  0.0283131974275 \n",
      "R =  1.05 \n",
      "ERR =  0.05\n"
     ]
    }
   ],
   "source": [
    "alpha = np.array([18.81, 18.91])\n",
    "beta = 2.1 / 2\n",
    "print('MEAN = ', np.mean(alpha), '\\nERR = ', err(alpha),\n",
    "      '\\nV = ', 1000 * S / np.mean(alpha), '\\nERR = ', harderr(1000 * S / np.mean(alpha), np.mean(alpha), err(alpha)),\n",
    "      '\\nR = ', beta, '\\nERR = ', 0.05)"
   ]
  },
  {
   "cell_type": "code",
   "execution_count": 109,
   "metadata": {
    "collapsed": false,
    "deletable": true,
    "editable": true
   },
   "outputs": [
    {
     "name": "stdout",
     "output_type": "stream",
     "text": [
      "MEAN =  19.05 \n",
      "ERR =  0.014142135623730649 \n",
      "V =  5.24934383202 \n",
      "ERR =  0.0265344398896 \n",
      "R =  1.05 \n",
      "ERR =  0.05\n"
     ]
    }
   ],
   "source": [
    "alpha = np.array([19.03, 19.07])\n",
    "beta = 2.1 / 2\n",
    "print('MEAN = ', np.mean(alpha), '\\nERR = ', err(alpha),\n",
    "      '\\nV = ', 1000 * S / np.mean(alpha), '\\nERR = ', harderr(1000 * S / np.mean(alpha), np.mean(alpha), err(alpha)),\n",
    "      '\\nR = ', beta, '\\nERR = ', 0.05)"
   ]
  },
  {
   "cell_type": "code",
   "execution_count": 110,
   "metadata": {
    "collapsed": false,
    "deletable": true,
    "editable": true
   },
   "outputs": [
    {
     "name": "stdout",
     "output_type": "stream",
     "text": [
      "MEAN =  10.485 \n",
      "ERR =  0.060104076400856514 \n",
      "V =  9.53743443014 \n",
      "ERR =  0.0725473833754 \n",
      "R =  1.05 \n",
      "ERR =  0.05\n"
     ]
    }
   ],
   "source": [
    "alpha = np.array([10.4, 10.57])\n",
    "beta = 2.1 / 2\n",
    "print('MEAN = ', np.mean(alpha), '\\nERR = ', err(alpha),\n",
    "      '\\nV = ', 1000 * S / np.mean(alpha), '\\nERR = ', harderr(1000 * S / np.mean(alpha), np.mean(alpha), err(alpha)),\n",
    "      '\\nR = ', beta, '\\nERR = ', 0.05)"
   ]
  },
  {
   "cell_type": "code",
   "execution_count": 111,
   "metadata": {
    "collapsed": false,
    "deletable": true,
    "editable": true
   },
   "outputs": [
    {
     "name": "stdout",
     "output_type": "stream",
     "text": [
      "MEAN =  5.935 \n",
      "ERR =  0.003535533905932976 \n",
      "V =  16.849199663 \n",
      "ERR =  0.084841817941 \n",
      "R =  1.075 \n",
      "ERR =  0.05\n"
     ]
    }
   ],
   "source": [
    "alpha = np.array([5.94, 5.93])\n",
    "beta = 2.15 / 2\n",
    "print('MEAN = ', np.mean(alpha), '\\nERR = ', err(alpha),\n",
    "      '\\nV = ', 1000 * S / np.mean(alpha), '\\nERR = ', harderr(1000 * S / np.mean(alpha), np.mean(alpha), err(alpha)),\n",
    "      '\\nR = ', beta, '\\nERR = ', 0.05)"
   ]
  },
  {
   "cell_type": "code",
   "execution_count": 112,
   "metadata": {
    "collapsed": false,
    "deletable": true,
    "editable": true
   },
   "outputs": [
    {
     "name": "stdout",
     "output_type": "stream",
     "text": [
      "MEAN =  3.035 \n",
      "ERR =  0.04596194077712555 \n",
      "V =  32.9489291598 \n",
      "ERR =  0.52547059843 \n",
      "R =  1.025 \n",
      "ERR =  0.05\n"
     ]
    }
   ],
   "source": [
    "alpha = np.array([2.97, 3.10])\n",
    "beta = 2.05 / 2\n",
    "print('MEAN = ', np.mean(alpha), '\\nERR = ', err(alpha),\n",
    "      '\\nV = ', 1000 * S / np.mean(alpha), '\\nERR = ', harderr(1000 * S / np.mean(alpha), np.mean(alpha), err(alpha)),\n",
    "      '\\nR = ', beta, '\\nERR = ', 0.05)"
   ]
  },
  {
   "cell_type": "code",
   "execution_count": 113,
   "metadata": {
    "collapsed": false,
    "deletable": true,
    "editable": true
   },
   "outputs": [
    {
     "name": "stdout",
     "output_type": "stream",
     "text": [
      "MEAN =  1.935 \n",
      "ERR =  0.04596194077712555 \n",
      "V =  51.6795865633 \n",
      "ERR =  1.25444380837 \n",
      "R =  1.025 \n",
      "ERR =  0.05\n"
     ]
    }
   ],
   "source": [
    "alpha = np.array([1.87, 2.])\n",
    "beta = 2.05 / 2\n",
    "print('MEAN = ', np.mean(alpha), '\\nERR = ', err(alpha),\n",
    "      '\\nV = ', 1000 * S / np.mean(alpha), '\\nERR = ', harderr(1000 * S / np.mean(alpha), np.mean(alpha), err(alpha)),\n",
    "      '\\nR = ', beta, '\\nERR = ', 0.05)"
   ]
  },
  {
   "cell_type": "markdown",
   "metadata": {
    "deletable": true,
    "editable": true
   },
   "source": [
    "** Steel **"
   ]
  },
  {
   "cell_type": "code",
   "execution_count": 114,
   "metadata": {
    "collapsed": false,
    "deletable": true,
    "editable": true
   },
   "outputs": [
    {
     "name": "stdout",
     "output_type": "stream",
     "text": [
      "MEAN =  22.595 \n",
      "ERR =  0.04596194077712524 \n",
      "V =  4.42575791104 \n",
      "ERR =  0.023890003482 \n",
      "R =  0.425 \n",
      "ERR =  0.05\n"
     ]
    }
   ],
   "source": [
    "alpha = np.array([22.66, 22.53])\n",
    "beta = 0.85 / 2\n",
    "print('MEAN = ', np.mean(alpha), '\\nERR = ', err(alpha),\n",
    "      '\\nV = ', 1000 * S / np.mean(alpha), '\\nERR = ', harderr(1000 * S / np.mean(alpha), np.mean(alpha), err(alpha)),\n",
    "      '\\nR = ', beta, '\\nERR = ', 0.05)"
   ]
  },
  {
   "cell_type": "code",
   "execution_count": 115,
   "metadata": {
    "collapsed": false,
    "deletable": true,
    "editable": true
   },
   "outputs": [
    {
     "name": "stdout",
     "output_type": "stream",
     "text": [
      "MEAN =  19.72 \n",
      "ERR =  0.049497474683058526 \n",
      "V =  5.07099391481 \n",
      "ERR =  0.0283704638876 \n",
      "R =  0.5 \n",
      "ERR =  0.05\n"
     ]
    }
   ],
   "source": [
    "alpha = np.array([19.79, 19.65])\n",
    "beta = 1 / 2\n",
    "print('MEAN = ', np.mean(alpha), '\\nERR = ', err(alpha),\n",
    "      '\\nV = ', 1000 * S / np.mean(alpha), '\\nERR = ', harderr(1000 * S / np.mean(alpha), np.mean(alpha), err(alpha)),\n",
    "      '\\nR = ', beta, '\\nERR = ', 0.05)"
   ]
  },
  {
   "cell_type": "code",
   "execution_count": 116,
   "metadata": {
    "collapsed": false,
    "deletable": true,
    "editable": true
   },
   "outputs": [
    {
     "name": "stdout",
     "output_type": "stream",
     "text": [
      "MEAN =  19.59 \n",
      "ERR =  0.042426406871191945 \n",
      "V =  5.10464522716 \n",
      "ERR =  0.0278146176784 \n",
      "R =  0.45 \n",
      "ERR =  0.05\n"
     ]
    }
   ],
   "source": [
    "alpha = np.array([19.65, 19.53])\n",
    "beta = 0.9 / 2\n",
    "print('MEAN = ', np.mean(alpha), '\\nERR = ', err(alpha),\n",
    "      '\\nV = ', 1000 * S / np.mean(alpha), '\\nERR = ', harderr(1000 * S / np.mean(alpha), np.mean(alpha), err(alpha)),\n",
    "      '\\nR = ', beta, '\\nERR = ', 0.05)"
   ]
  },
  {
   "cell_type": "code",
   "execution_count": 117,
   "metadata": {
    "collapsed": false,
    "deletable": true,
    "editable": true
   },
   "outputs": [
    {
     "name": "stdout",
     "output_type": "stream",
     "text": [
      "MEAN =  15.07 \n",
      "ERR =  0.0 \n",
      "V =  6.63570006636 \n",
      "ERR =  0.0331785003318 \n",
      "R =  0.375 \n",
      "ERR =  0.05\n"
     ]
    }
   ],
   "source": [
    "alpha = np.array([15.07, 15.07])\n",
    "beta = 0.75 / 2\n",
    "print('MEAN = ', np.mean(alpha), '\\nERR = ', err(alpha),\n",
    "      '\\nV = ', 1000 * S / np.mean(alpha), '\\nERR = ', harderr(1000 * S / np.mean(alpha), np.mean(alpha), err(alpha)),\n",
    "      '\\nR = ', beta, '\\nERR = ', 0.05)"
   ]
  },
  {
   "cell_type": "code",
   "execution_count": 118,
   "metadata": {
    "collapsed": false,
    "deletable": true,
    "editable": true
   },
   "outputs": [
    {
     "name": "stdout",
     "output_type": "stream",
     "text": [
      "MEAN =  5.94 \n",
      "ERR =  0.0636396103067895 \n",
      "V =  16.835016835 \n",
      "ERR =  0.19904102821 \n",
      "R =  0.475 \n",
      "ERR =  0.05\n"
     ]
    }
   ],
   "source": [
    "alpha = np.array([5.85, 6.03])\n",
    "beta = 0.95 / 2\n",
    "print('MEAN = ', np.mean(alpha), '\\nERR = ', err(alpha),\n",
    "      '\\nV = ', 1000 * S / np.mean(alpha), '\\nERR = ', harderr(1000 * S / np.mean(alpha), np.mean(alpha), err(alpha)),\n",
    "      '\\nR = ', beta, '\\nERR = ', 0.05)"
   ]
  },
  {
   "cell_type": "code",
   "execution_count": 119,
   "metadata": {
    "collapsed": false,
    "deletable": true,
    "editable": true
   },
   "outputs": [
    {
     "name": "stdout",
     "output_type": "stream",
     "text": [
      "MEAN =  4.965 \n",
      "ERR =  0.06717514421272185 \n",
      "V =  20.1409869084 \n",
      "ERR =  0.290514996634 \n",
      "R =  0.35 \n",
      "ERR =  0.05\n"
     ]
    }
   ],
   "source": [
    "alpha = np.array([4.87, 5.06])\n",
    "beta = 0.7 / 2\n",
    "print('MEAN = ', np.mean(alpha), '\\nERR = ', err(alpha),\n",
    "      '\\nV = ', 1000 * S / np.mean(alpha), '\\nERR = ', harderr(1000 * S / np.mean(alpha), np.mean(alpha), err(alpha)),\n",
    "      '\\nR = ', beta, '\\nERR = ', 0.05)"
   ]
  },
  {
   "cell_type": "code",
   "execution_count": 120,
   "metadata": {
    "collapsed": false,
    "deletable": true,
    "editable": true
   },
   "outputs": [
    {
     "name": "stdout",
     "output_type": "stream",
     "text": [
      "MEAN =  2.675 \n",
      "ERR =  0.03181980515339475 \n",
      "V =  37.3831775701 \n",
      "ERR =  0.482369140901 \n",
      "R =  0.375 \n",
      "ERR =  0.05\n"
     ]
    }
   ],
   "source": [
    "alpha = np.array([2.63, 2.72])\n",
    "beta = 0.75 / 2\n",
    "print('MEAN = ', np.mean(alpha), '\\nERR = ', err(alpha),\n",
    "      '\\nV = ', 1000 * S / np.mean(alpha), '\\nERR = ', harderr(1000 * S / np.mean(alpha), np.mean(alpha), err(alpha)),\n",
    "      '\\nR = ', beta, '\\nERR = ', 0.05)"
   ]
  },
  {
   "cell_type": "markdown",
   "metadata": {
    "collapsed": true,
    "deletable": true,
    "editable": true
   },
   "source": [
    "** Viscosity **"
   ]
  },
  {
   "cell_type": "code",
   "execution_count": 121,
   "metadata": {
    "collapsed": true,
    "deletable": true,
    "editable": true
   },
   "outputs": [],
   "source": [
    "def eta(r, v, p, T):\n",
    "    g = glycerin[int((T - 293) / 10)]\n",
    "    \n",
    "    return (2 * 9.8  * (r ** 2) * (p - g)) / (9 * v)\n",
    "\n",
    "def etaerr(r, v, errv, p, T):\n",
    "    return eta(r, v, p, T) * sqrt(4 * ((0.05 / r) ** 2) + ((errv / v) ** 2))"
   ]
  },
  {
   "cell_type": "code",
   "execution_count": 122,
   "metadata": {
    "collapsed": false,
    "deletable": true,
    "editable": true
   },
   "outputs": [
    {
     "name": "stdout",
     "output_type": "stream",
     "text": [
      "GLASS \n",
      "\n",
      "ETA =  0.555455223881 \n",
      "ERR =  0.0529917714501 \n",
      "\n",
      "ETA =  0.561743396226 \n",
      "ERR =  0.0535937782505 \n",
      "\n",
      "ETA =  0.567093333333 \n",
      "ERR =  0.0541060175516 \n",
      "\n",
      "ETA =  0.313086373166 \n",
      "ERR =  0.0299061147192 \n",
      "\n",
      "ETA =  0.186399683482 \n",
      "ERR =  0.0173620749045 \n",
      "\n",
      "ETA =  0.0870075510032 \n",
      "ERR =  0.00859060656488 \n",
      "\n",
      "ETA =  0.0556511400284 \n",
      "ERR =  0.00559374791168 \n",
      "\n"
     ]
    }
   ],
   "source": [
    "print('GLASS', '\\n')\n",
    "\n",
    "print('ETA = ', eta(2.1 / 2, 5.36, 2.5, 293),\n",
    "      '\\nERR = ', etaerr(2.1 / 2, 5.36, 0.03, 2.5, 293), '\\n')\n",
    "print('ETA = ', eta(2.1 / 2, 5.3, 2.5, 293),\n",
    "      '\\nERR = ', etaerr(2.1 / 2, 5.3, 0.03, 2.5, 293), '\\n')\n",
    "print('ETA = ', eta(2.1  / 2, 5.25, 2.5, 293),\n",
    "      '\\nERR = ', etaerr(2.1 / 2, 5.25, 0.03, 2.5, 293), '\\n')\n",
    "print('ETA = ', eta(2.1 / 2, 9.54, 2.5, 303),\n",
    "      '\\nERR = ', etaerr(2.1 / 2, 9.54, 0.07, 2.5, 303), '\\n')\n",
    "print('ETA = ', eta(2.15 / 2, 16.85, 2.5, 313),\n",
    "      '\\nERR = ', etaerr(2.15 / 2, 16.85, 0.08, 2.5, 313), '\\n')\n",
    "print('ETA = ', eta(2.05 / 2, 32.95, 2.5, 323),\n",
    "      '\\nERR = ', etaerr(2.05 / 2, 32.95, 0.5, 2.5, 323), '\\n')\n",
    "print('ETA = ', eta(2.05 / 2, 51.68, 2.5, 333),\n",
    "      '\\nERR = ', etaerr(2.05 / 2, 51.68, 1.25, 2.5, 333), '\\n')"
   ]
  },
  {
   "cell_type": "code",
   "execution_count": 123,
   "metadata": {
    "collapsed": false,
    "deletable": true,
    "editable": true
   },
   "outputs": [
    {
     "name": "stdout",
     "output_type": "stream",
     "text": [
      "STELL \n",
      "\n",
      "ETA =  0.58071820918 \n",
      "ERR =  0.136696159488 \n",
      "\n",
      "ETA =  0.698169934641 \n",
      "ERR =  0.139694369196 \n",
      "\n",
      "ETA =  0.565517647059 \n",
      "ERR =  0.125714608716 \n",
      "\n",
      "ETA =  0.301822289157 \n",
      "ERR =  0.0804974949928 \n",
      "\n",
      "ETA =  0.191058940354 \n",
      "ERR =  0.0402868879224 \n",
      "\n",
      "ETA =  0.0868021240207 \n",
      "ERR =  0.0248940552993 \n",
      "\n",
      "ETA =  0.0537207397004 \n",
      "ERR =  0.0143435413347 \n",
      "\n"
     ]
    }
   ],
   "source": [
    "rsteel = np.array([0.85, 1, 0.9, 0.75, 0.95, 0.7, 0.75]) / 2\n",
    "\n",
    "print('STELL', '\\n')\n",
    "print('ETA = ', eta(0.85 / 2, 4.43, 7.8, 293),\n",
    "      '\\nERR = ', etaerr(0.85 / 2, 4.43, 0.03, 7.8, 293), '\\n')\n",
    "print('ETA = ', eta(1 / 2, 5.1, 7.8, 293),\n",
    "      '\\nERR = ', etaerr(1 / 2, 5.1, 0.03, 7.8, 293), '\\n')\n",
    "print('ETA = ', eta(0.9 / 2, 5.1, 7.8, 293),\n",
    "      '\\nERR = ', etaerr(0.9 / 2, 5.1, 0.03, 7.8, 293), '\\n')\n",
    "print('ETA = ', eta(0.75 / 2, 6.64, 7.8, 303),\n",
    "      '\\nERR = ', etaerr(0.75 / 2, 6.64, 0.03, 7.8, 303), '\\n')\n",
    "print('ETA = ', eta(0.95 / 2, 16.84, 7.8, 313),\n",
    "      '\\nERR = ', etaerr(0.95 / 2, 16.84, 0.2, 7.8, 313), '\\n')\n",
    "print('ETA = ', eta(0.7 / 2, 20.14, 7.8, 323),\n",
    "      '\\nERR = ', etaerr(0.7 / 2, 20.14, 0.5, 7.8, 323), '\\n')\n",
    "print('ETA = ', eta(0.75 / 2, 37.38, 7.8, 333),\n",
    "      '\\nERR = ', etaerr(0.75 / 2, 37.38, 0.5, 7.8, 333), '\\n')"
   ]
  },
  {
   "cell_type": "code",
   "execution_count": 124,
   "metadata": {
    "collapsed": true,
    "deletable": true,
    "editable": true
   },
   "outputs": [],
   "source": [
    "def tau(r, eta, p):\n",
    "    return (2 * p * (r ** 2)) / (9 * eta)\n",
    "\n",
    "def errtau(r, eta, erreta, p):\n",
    "    return tau(r, eta, p) * sqrt(4 * ((0.05 / r) ** 2) + ((erreta / eta) ** 2))"
   ]
  },
  {
   "cell_type": "code",
   "execution_count": 125,
   "metadata": {
    "collapsed": true
   },
   "outputs": [],
   "source": [
    "def path(v, t, tau):\n",
    "    return v * tau * ((t / tau) - 1 + np.exp(-(t / tau)))\n",
    "\n",
    "def errpath(v, errv, t, tau):\n",
    "    return path(v, t, tau) * (errv / v)"
   ]
  },
  {
   "cell_type": "code",
   "execution_count": 126,
   "metadata": {
    "collapsed": false
   },
   "outputs": [],
   "source": [
    "def Re(v, r, T, eta):\n",
    "    p = glycerin[int((T - 293) / 10)]\n",
    "    \n",
    "    return (v * r * p) / eta"
   ]
  },
  {
   "cell_type": "code",
   "execution_count": 127,
   "metadata": {
    "collapsed": false
   },
   "outputs": [
    {
     "name": "stdout",
     "output_type": "stream",
     "text": [
      "TAU =  1.1036036036036037 \n",
      "ERR =  0.14685427832918269\n",
      "TAU =  1.0898576512455516 \n",
      "ERR =  0.1482374840281868\n",
      "TAU =  1.080246913580247 \n",
      "ERR =  0.1454952224663678\n",
      "TAU =  1.9568690095846646 \n",
      "ERR =  0.2644082289281186\n",
      "TAU =  3.4516875746714453 \n",
      "ERR =  0.45013622964786754\n",
      "\n",
      "\n",
      "TAU =  0.5388697647733792 \n",
      "ERR =  0.1795052141917978\n",
      "TAU =  0.6208213944603629 \n",
      "ERR =  0.17584655561185156\n",
      "TAU =  0.6201413427561838 \n",
      "ERR =  0.1950638633911218\n",
      "TAU =  0.8071192052980133 \n",
      "ERR =  0.3033774949002887\n",
      "TAU =  2.0475567190226873 \n",
      "ERR =  0.6080236019047037\n",
      "TAU =  2.4406130268199235 \n",
      "ERR =  0.9889944268634394\n",
      "TAU =  4.513888888888889 \n",
      "ERR =  1.6788176207636987\n",
      "\n",
      "\n",
      "TAU =  6.708971902937421 \n",
      "ERR =  0.9539886696938445\n",
      "TAU =  10.422867063492063 \n",
      "ERR =  1.5103355058244163\n"
     ]
    }
   ],
   "source": [
    "print('TAU = ', tau(2.1 / 2, 0.555, 2.5), '\\nERR = ', errtau(2.1 / 2, 0.56, 0.053, 2.5))\n",
    "print('TAU = ', tau(2.1 / 2, 0.562, 2.5), '\\nERR = ', errtau(2.1 / 2, 0.56, 0.054, 2.5))\n",
    "print('TAU = ', tau(2.1 / 2, 0.567, 2.5), '\\nERR = ', errtau(2.1 / 2, 0.567, 0.054, 2.5))\n",
    "print('TAU = ', tau(2.1 / 2, 0.313, 2.5), '\\nERR = ', errtau(2.1 / 2, 0.313, 0.03, 2.5))\n",
    "print('TAU = ', tau(2.15 / 2, 0.186, 2.5), '\\nERR = ', errtau(2.15 / 2, 0.186, 0.017, 2.5))\n",
    "print('\\n')\n",
    "print('TAU = ', tau(0.85 / 2, 0.581, 7.8), '\\nERR = ', errtau(0.85 / 2, 0.581, 0.137, 7.8))\n",
    "print('TAU = ', tau(1 / 2, 0.698, 7.8), '\\nERR = ', errtau(1 / 2, 0.698, 0.14, 7.8))\n",
    "print('TAU = ', tau(0.9 / 2, 0.566, 7.8), '\\nERR = ', errtau(0.9 / 2, 0.566, 0.126, 7.8))\n",
    "print('TAU = ', tau(0.75 / 2, 0.302, 7.8), '\\nERR = ', errtau(0.75 / 2, 0.302, 0.08, 7.8))\n",
    "print('TAU = ', tau(0.95 / 2, 0.191, 7.8), '\\nERR = ', errtau(0.95 / 2, 0.191, 0.04, 7.8))\n",
    "print('TAU = ', tau(0.7 / 2, 0.087, 7.8), '\\nERR = ', errtau(0.7 / 2, 0.087, 0.025, 7.8))\n",
    "print('TAU = ', tau(0.75 / 2, 0.054, 7.8), '\\nERR = ', errtau(0.75 / 2, 0.054, 0.014, 7.8))\n",
    "print('\\n')\n",
    "print('TAU = ', tau(2.05 / 2, 0.087, 2.5), '\\nERR = ', errtau(2.05 / 2, 0.087, 0.009, 2.5))\n",
    "print('TAU = ', tau(2.05 / 2, 0.056, 2.5), '\\nERR = ', errtau(2.05 / 2, 0.056, 0.006, 2.5))"
   ]
  },
  {
   "cell_type": "code",
   "execution_count": 128,
   "metadata": {
    "collapsed": false
   },
   "outputs": [
    {
     "name": "stdout",
     "output_type": "stream",
     "text": [
      "S =  94.1752002508 \n",
      "ERR =  0.527100001404\n",
      "S =  94.1810001767 \n",
      "ERR =  0.533100001\n",
      "S =  94.3425001239 \n",
      "ERR =  0.539100000708\n",
      "S =  81.464801822 \n",
      "ERR =  0.597750118191\n",
      "S =  52.347974989 \n",
      "ERR =  0.24853637977\n",
      "\n",
      "\n",
      "S =  97.7258 \n",
      "ERR =  0.6618\n",
      "S =  97.41 \n",
      "ERR =  0.573\n",
      "S =  96.747 \n",
      "ERR =  0.5691\n",
      "S =  94.6864000447 \n",
      "ERR =  0.427800000202\n",
      "S =  67.4117502125 \n",
      "ERR =  0.800614610599\n",
      "S =  57.3639526413 \n",
      "ERR =  0.854477944012\n",
      "S =  24.6502705648 \n",
      "ERR =  0.329725395463\n",
      "\n",
      "\n",
      "S =  19.6195327511 \n",
      "ERR =  0.315579737727\n",
      "S =  8.77991965257 \n",
      "ERR =  0.212362607696\n"
     ]
    }
   ],
   "source": [
    "print('S = ', path(5.36, 18.67, 1.1), '\\nERR = ', errpath(5.36, 0.03, 18.67, 1.1))\n",
    "print('S = ', path(5.3, 18.86, 1.09), '\\nERR = ', errpath(5.3, 0.03, 18.86, 1.09))\n",
    "print('S = ', path(5.25, 19.05, 1.08), '\\nERR = ', errpath(5.25, 0.03, 19.05, 1.08))\n",
    "print('S = ', path(9.54, 10.49, 1.96), '\\nERR = ', errpath(9.54, 0.07, 10.49, 1.96))\n",
    "print('S = ', path(16.85, 5.94, 3.45), '\\nERR = ', errpath(16.85, 0.08, 5.94, 3.45))\n",
    "print('\\n')\n",
    "print('S = ', path(4.43, 22.6, 0.54), '\\nERR = ', errpath(4.43, 0.03, 22.6, 0.54))\n",
    "print('S = ', path(5.1, 19.72, 0.62), '\\nERR = ', errpath(5.1, 0.03, 19.72, 0.62))\n",
    "print('S = ', path(5.1, 19.59, 0.62), '\\nERR = ', errpath(5.1, 0.03, 19.59, 0.62))\n",
    "print('S = ', path(6.64, 15.07, 0.81), '\\nERR = ', errpath(6.64, 0.03, 15.07, 0.81))\n",
    "print('S = ', path(16.84, 5.94, 2.05), '\\nERR = ', errpath(16.84, 0.2, 5.94, 2.05))\n",
    "print('S = ', path(20.14, 4.97, 2.44), '\\nERR = ', errpath(20.14, 0.3, 4.97, 2.44))\n",
    "print('S = ', path(37.38, 2.68, 4.51), '\\nERR = ', errpath(37.38, 0.5, 2.68, 4.51))\n",
    "print('\\n')\n",
    "print('S = ', path(32.95, 3.04, 6.71), '\\nERR = ', errpath(32.95, 0.53, 3.04, 6.71))\n",
    "print('S = ', path(51.68, 1.94, 10.42), '\\nERR = ', errpath(51.68, 1.25, 1.94, 10.42))"
   ]
  },
  {
   "cell_type": "code",
   "execution_count": 129,
   "metadata": {
    "collapsed": false
   },
   "outputs": [
    {
     "name": "stdout",
     "output_type": "stream",
     "text": [
      "Re =  12.7770810811\n",
      "Re =  12.4766903915\n",
      "Re =  12.25\n",
      "Re =  40.1960127796\n",
      "Re =  121.926962366\n",
      "\n",
      "\n",
      "Re =  4.08307228916\n",
      "Re =  4.60315186246\n",
      "Re =  5.10901060071\n",
      "Re =  10.3557615894\n",
      "Re =  52.4332356021\n",
      "Re =  101.035666667\n",
      "Re =  322.662083333\n",
      "\n",
      "\n",
      "Re =  482.684045977\n",
      "Re =  1175.78921429\n"
     ]
    }
   ],
   "source": [
    "print('Re = ', Re(5.36, 2.1 / 2, 293, 0.555))\n",
    "print('Re = ', Re(5.3, 2.1 / 2, 293, 0.562))\n",
    "print('Re = ', Re(5.25, 2.1 / 2, 293, 0.567))\n",
    "print('Re = ', Re(9.54, 2.1 / 2, 303, 0.313))\n",
    "print('Re = ', Re(16.85, 2.15 / 2, 313, 0.186))\n",
    "print('\\n')\n",
    "print('Re = ', Re(4.43, 0.85 / 2, 293, 0.581))\n",
    "print('Re = ', Re(5.1, 1 / 2, 293, 0.698))\n",
    "print('Re = ', Re(5.1, 0.9 / 2, 293, 0.566))\n",
    "print('Re = ', Re(6.64, 0.75 / 2, 303, 0.302))\n",
    "print('Re = ', Re(16.84, 0.95 / 2, 313, 0.191))\n",
    "print('Re = ', Re(20.14, 0.7 / 2, 323, 0.087))\n",
    "print('Re = ', Re(37.38, 0.75 / 2, 333, 0.054))\n",
    "print('\\n')\n",
    "print('Re = ', Re(32.96, 2.05 / 2, 333, 0.087))\n",
    "print('Re = ', Re(51.68, 2.05 / 2, 333, 0.056))"
   ]
  },
  {
   "cell_type": "code",
   "execution_count": 130,
   "metadata": {
    "collapsed": false
   },
   "outputs": [],
   "source": [
    "T = np.array([293, 303, 313, 323, 333])\n",
    "x = 1 / T\n",
    "y = np.log(np.array([np.mean([0.555, 0.562, 0.567]), 0.313, 0.186, 0.087, 0.056]))\n",
    "z = np.log(np.array([np.mean([0.581, 0.698, 0.566]), 0.302, 0.191, 0.087, 0.054]))\n",
    "t = (y + z) / 2"
   ]
  },
  {
   "cell_type": "code",
   "execution_count": 131,
   "metadata": {
    "collapsed": true
   },
   "outputs": [],
   "source": [
    "k = getkfull(x, y)\n",
    "a = geta(x, y)\n",
    "\n",
    "kk = getkfull(x, z)\n",
    "aa = geta(x, z)\n",
    "\n",
    "kkk = getkfull(x, t)\n",
    "aaa = geta(x, t)"
   ]
  },
  {
   "cell_type": "code",
   "execution_count": 132,
   "metadata": {
    "collapsed": false
   },
   "outputs": [
    {
     "data": {
      "image/png": "[encoded data removed]",
      "text/plain": [
       "<matplotlib.figure.Figure at 0x7f26ea5da898>"
      ]
     },
     "metadata": {},
     "output_type": "display_data"
    }
   ],
   "source": [
    "fig = plt.figure(figsize=(20,20))\n",
    "\n",
    "ax = fig.gca()\n",
    "ax.set_xticks(np.arange(0.00299, 0.0035, 0.00001), minor=True)\n",
    "ax.set_yticks(np.arange(-7, 3, 0.05), minor=True)\n",
    "ax.grid(which='minor', alpha=0.4, linestyle='-')\n",
    "\n",
    "plt.xlim((0.00299, 0.0035))\n",
    "\n",
    "plt.scatter(x, y, label='Стекло', marker='s')\n",
    "plt.scatter(x, z, label='Сталь')\n",
    "plt.plot(x, k * x + a, label='Зависимость для стекла')\n",
    "plt.plot(x, kk * x + aa, label='Зависимость для стали')\n",
    "plt.plot(x, kkk * x + aaa, label='Зависимость')\n",
    "\n",
    "plt.xlabel(r'$\\frac{1}{T}\\ [K^{-1}]$', horizontalalignment='right', fontsize='x-large', x=1)\n",
    "h = plt.ylabel(r\"$ln\\eta\\ [ln[Па\\cdotс]]$\", verticalalignment='top', fontsize='x-large', horizontalalignment='right', y=1)\n",
    "h.set_rotation(0)\n",
    "\n",
    "plt.title(r'Зависимость $ln\\eta$ от $\\frac{1}{T}$')\n",
    "plt.legend()\n",
    "plt.grid()\n",
    "plt.savefig(\"First\")\n",
    "plt.show()"
   ]
  }
 ],
 "metadata": {
  "kernelspec": {
   "display_name": "Python 3",
   "language": "python",
   "name": "python3"
  },
  "language_info": {
   "codemirror_mode": {
    "name": "ipython",
    "version": 3
   },
   "file_extension": ".py",
   "mimetype": "text/x-python",
   "name": "python",
   "nbconvert_exporter": "python",
   "pygments_lexer": "ipython3",
   "version": "3.5.2"
  }
 },
 "nbformat": 4,
 "nbformat_minor": 2
}
