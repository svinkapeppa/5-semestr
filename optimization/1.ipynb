{
 "cells": [
  {
   "cell_type": "code",
   "execution_count": 1,
   "metadata": {
    "collapsed": true,
    "deletable": true,
    "editable": true
   },
   "outputs": [],
   "source": [
    "import numpy as np\n",
    "import matplotlib.pyplot as plt\n",
    "import matplotlib.lines as mlines\n",
    "from math import sin\n",
    "%matplotlib inline"
   ]
  },
  {
   "cell_type": "markdown",
   "metadata": {
    "deletable": true,
    "editable": true
   },
   "source": [
    "# ============================================================\n",
    "# Задача на Симплекс метод\n",
    "\n",
    "## 1) Вход:\n",
    "\n",
    "* число переменных = n\n",
    "* матрица A (n x m) (tsv, вещественные числа)\n",
    "* вектор  b  ограничений типа неравнство\n",
    "* вектор c функции полезности для задачи max cx \n",
    "* алгоритм выбора входящей переменной (правило Бленда, Лексикографический метод)\n",
    "* (не обязательный параметр) стартовую базисную точку\n",
    "\n",
    "## 2) На выход программа должна выдавать:\n",
    "\n",
    "### Обязательная часть (0.7 баллов):\n",
    "* Ответ и оптимальную точку при положительных компонентах вектора b\n",
    "* Количество итераций потребовавшихся для решения задачи\n",
    "* при n=2 выдавать процесс решения (draw=True)\n",
    "* Напишите программу которая будет отвечать на вопрос оптимально ли приведенное решение, например\n",
    "\n",
    "### Дополнительная часть  (0.4 балл):\n",
    "* Максимально использовать матричные вычисления (0.2 балла)\n",
    "* Работать в случае отрицательных чисел в векторе b (0.2 балла)"
   ]
  },
  {
   "cell_type": "code",
   "execution_count": 2,
   "metadata": {
    "collapsed": true,
    "deletable": true,
    "editable": true
   },
   "outputs": [],
   "source": [
    "'''\n",
    "    Проверка того, можно ли что-то еще увеличить в целевой функции.\n",
    "'''\n",
    "def isoptimal(zstar):\n",
    "    for z in zstar:\n",
    "        if (z < 0):\n",
    "            return False\n",
    "    return True"
   ]
  },
  {
   "cell_type": "code",
   "execution_count": 3,
   "metadata": {
    "collapsed": true,
    "deletable": true,
    "editable": true
   },
   "outputs": [],
   "source": [
    "'''\n",
    "    Определение индекса входящей переменной по правилу Бланда\n",
    "    (в лексикографическом методе ее можно брать любой).\n",
    "'''\n",
    "def getenteringindex(size, zstar, nonbasic):\n",
    "    index = size + 1\n",
    "    for i in range(len(zstar)):\n",
    "        if zstar[i] < 0 and nonbasic[i] < index:\n",
    "            index = i + 1\n",
    "    return index"
   ]
  },
  {
   "cell_type": "code",
   "execution_count": 4,
   "metadata": {
    "collapsed": true,
    "deletable": true,
    "editable": true
   },
   "outputs": [],
   "source": [
    "'''\n",
    "    Определение покидающей переменной по правилу Бланда.\n",
    "'''\n",
    "def getleavingindex(size, primalstepdirection, xstar, basic):\n",
    "    values = primalstepdirection / xstar\n",
    "    nans = np.isnan(values)\n",
    "    values[nans] = 0\n",
    "    value = np.max(values)\n",
    "    if value <= 0:\n",
    "        raise Exception('UNBOUNDED')\n",
    "    index = size + 1\n",
    "    for i in range(len(xstar)):\n",
    "        if values[i] == value and basic[i] < index:\n",
    "            index = i\n",
    "    return (1 / values[index]), index + 1"
   ]
  },
  {
   "cell_type": "code",
   "execution_count": 5,
   "metadata": {
    "collapsed": true,
    "deletable": true,
    "editable": true
   },
   "outputs": [],
   "source": [
    "'''\n",
    "    Определение покидающей переменной с использованием\n",
    "    лексикографического метода.\n",
    "'''\n",
    "def lexical(primalstepdirection, xstar, N, basic):\n",
    "    values = primalstepdirection / xstar\n",
    "    nans = np.isnan(values)\n",
    "    values[nans] = 0\n",
    "    value = np.max(values)\n",
    "    rows = []\n",
    "    indexes = []\n",
    "    for i in range(len(xstar)):\n",
    "        if values[i] == value:\n",
    "            row = [xstar[i] / basic[i]]\n",
    "            row += list(N[i] / (-basic[i]))\n",
    "            rows += [row]\n",
    "            indexes += [i]\n",
    "    index = np.argmin(rows, axis=0)[0]\n",
    "    return (1 / value), indexes[index] + 1"
   ]
  },
  {
   "cell_type": "code",
   "execution_count": 6,
   "metadata": {
    "collapsed": true,
    "deletable": true,
    "editable": true
   },
   "outputs": [],
   "source": [
    "'''\n",
    "    Смена базиса.\n",
    "'''\n",
    "def changebasis(basic, nonbasic,\n",
    "                enteringindex, leavingindex):\n",
    "    temp = basic[leavingindex - 1]\n",
    "    basic[leavingindex - 1] = nonbasic[enteringindex - 1]\n",
    "    nonbasic[enteringindex - 1] = temp"
   ]
  },
  {
   "cell_type": "code",
   "execution_count": 7,
   "metadata": {
    "collapsed": true,
    "deletable": true,
    "editable": true
   },
   "outputs": [],
   "source": [
    "'''\n",
    "    Изменение матриц.\n",
    "'''\n",
    "def changematrix(B, N,\n",
    "                 enteringindex, leavingindex):\n",
    "    temp = B[:, leavingindex - 1].copy()\n",
    "    B[:, leavingindex - 1] = N[:, enteringindex - 1]\n",
    "    N[:, enteringindex - 1] = temp"
   ]
  },
  {
   "cell_type": "code",
   "execution_count": 8,
   "metadata": {
    "collapsed": true,
    "deletable": true,
    "editable": true
   },
   "outputs": [],
   "source": [
    "'''\n",
    "    Определение решения.\n",
    "'''\n",
    "def solution(n, m, c, basic, nonbasic, xstar):\n",
    "    answer = np.zeros(n + m)\n",
    "    answer[basic - 1] = xstar\n",
    "    answer[nonbasic - 1] = 0\n",
    "    return answer[:n], c @ (answer[:n]).T"
   ]
  },
  {
   "cell_type": "code",
   "execution_count": 9,
   "metadata": {
    "collapsed": true,
    "deletable": true,
    "editable": true
   },
   "outputs": [],
   "source": [
    "'''\n",
    "    Получение точки, которая была обработана\n",
    "    на одной из итераций.\n",
    "'''\n",
    "def getpoint(n, m, xstar, basic, nonbasic):\n",
    "    values = np.zeros(n + m)\n",
    "    values[basic - 1] = xstar\n",
    "    values[nonbasic - 1] = 0\n",
    "    return list(values[:n])"
   ]
  },
  {
   "cell_type": "code",
   "execution_count": 10,
   "metadata": {
    "collapsed": true,
    "deletable": true,
    "editable": true
   },
   "outputs": [],
   "source": [
    "'''\n",
    "    Проверка угловой точки на то, является\n",
    "    ли она базисной.\n",
    "'''\n",
    "def ok(A, b, x, y):\n",
    "    vector = np.array([x, y])\n",
    "    values = A @ vector.T\n",
    "    for i in range(len(values)):\n",
    "        if values[i] > b[i]:\n",
    "            return False\n",
    "    return True"
   ]
  },
  {
   "cell_type": "code",
   "execution_count": 11,
   "metadata": {
    "collapsed": true,
    "deletable": true,
    "editable": true
   },
   "outputs": [],
   "source": [
    "'''\n",
    "    Функция, которая возвращает две точки прямой,\n",
    "    соответсвующей одной из строк матрицы.\n",
    "'''\n",
    "def getpoints(a, b):\n",
    "    y = 0\n",
    "    x = 0\n",
    "    other = []\n",
    "    if a[1] != 0:\n",
    "        y = b / a[1]\n",
    "    if a[0] != 0:\n",
    "        x = b / a[0]\n",
    "    if x > 0 and y > 0:\n",
    "        other = [[0, y], [x, 0]]\n",
    "    elif x > 0 and y < 0:\n",
    "        other = [[x, 0], [10 * x, (b - a[0] * 10 * x) / a[1]]]\n",
    "    elif y > 0 and x < 0:\n",
    "        other = [[0, y], [(b - a[1] * 10 * y) / a[0], 10 * y]]\n",
    "    elif y == 0 and x > 0:\n",
    "        other = [[x, 0], [x, 10]]\n",
    "    elif x == 0 and y > 0:\n",
    "        other = [[0, y], [10, y]]\n",
    "    return other"
   ]
  },
  {
   "cell_type": "code",
   "execution_count": 12,
   "metadata": {
    "collapsed": true,
    "deletable": true,
    "editable": true
   },
   "outputs": [],
   "source": [
    "'''\n",
    "    Функция, которая формирует величины, помогающие\n",
    "    проверять пересечение двух прямых.\n",
    "'''\n",
    "def line(p1, p2):\n",
    "    A = (p1[1] - p2[1])\n",
    "    B = (p2[0] - p1[0])\n",
    "    C = (p1[0] * p2[1] - p2[0] * p1[1])\n",
    "    return A, B, -C"
   ]
  },
  {
   "cell_type": "code",
   "execution_count": 13,
   "metadata": {
    "collapsed": true,
    "deletable": true,
    "editable": true
   },
   "outputs": [],
   "source": [
    "'''\n",
    "    Возвращает точку пересечения прямых.\n",
    "'''\n",
    "def intersection(L1, L2):\n",
    "    D  = L1[0] * L2[1] - L1[1] * L2[0]\n",
    "    Dx = L1[2] * L2[1] - L1[1] * L2[2]\n",
    "    Dy = L1[0] * L2[2] - L1[2] * L2[0]\n",
    "    if D != 0:\n",
    "        x = Dx / D\n",
    "        y = Dy / D\n",
    "        return x, y\n",
    "    else:\n",
    "        return 0, 0"
   ]
  },
  {
   "cell_type": "code",
   "execution_count": 14,
   "metadata": {
    "collapsed": true,
    "deletable": true,
    "editable": true
   },
   "outputs": [],
   "source": [
    "'''\n",
    "    Первый шаг в дуальном методе.\n",
    "'''\n",
    "def pivot(xstar, zstar, N, basic, nonbasic):\n",
    "    m = len(basic)\n",
    "    leavingindex = np.argmin(xstar)\n",
    "    row = N[leavingindex]\n",
    "    N = N - row\n",
    "    N[leavingindex] = -row\n",
    "    N[:, 0] = -np.ones(m)\n",
    "    changebasis(basic, nonbasic, 1, leavingindex + 1)\n",
    "    value = -xstar[leavingindex]\n",
    "    xstar = xstar + value\n",
    "    xstar[leavingindex] = value\n",
    "    zstar = row\n",
    "    zstar[0] = 1\n",
    "    return xstar, zstar, N, basic, nonbasic"
   ]
  },
  {
   "cell_type": "code",
   "execution_count": 15,
   "metadata": {
    "collapsed": false,
    "deletable": true,
    "editable": true
   },
   "outputs": [],
   "source": [
    "'''\n",
    "    1 фаза симплекс-алгоритма.\n",
    "'''\n",
    "def auxiliary(A, b):\n",
    "    n = A.shape[1]\n",
    "    m = A.shape[0]\n",
    "    basic = np.arange(n + 1, n + m + 1)\n",
    "    nonbasic = np.arange(0, n + 1)\n",
    "    xstar = b.copy()\n",
    "    zstar = [-1] + [0] * n\n",
    "    B = np.eye(m)\n",
    "    N = np.c_[-np.ones(m), A.copy()]\n",
    "    xstar, zstar, N, basic, nonbasic = pivot(xstar, zstar, N,  basic, nonbasic)\n",
    "    iteration = 0\n",
    "    while True:\n",
    "        if (isoptimal(zstar)):\n",
    "            flag = True\n",
    "            for i in range(n + 1):\n",
    "                if nonbasic[i] == 0:\n",
    "                    N = np.delete(N, i, 1)\n",
    "                    nonbasic = np.delete(nonbasic, i, 0)\n",
    "                    flag = False\n",
    "                    break\n",
    "            if flag:\n",
    "                raise Exception('INFEASIBLE')\n",
    "            return basic, nonbasic, N, xstar\n",
    "        else:\n",
    "            iteration += 1\n",
    "            enteringindex = np.argmin(zstar)\n",
    "            vector = np.eye(n + 1)[enteringindex]\n",
    "            primalstepdirection = np.linalg.inv(B) @ N @ vector.T\n",
    "            values = primalstepdirection / xstar\n",
    "            leavingindex = np.argmax(values)\n",
    "            t = 1 / values[leavingindex]\n",
    "            vector = np.eye(m)[leavingindex]\n",
    "            dualstepdirection = -(np.linalg.inv(B) @ N).T @ vector.T\n",
    "            s = zstar[enteringindex] / dualstepdirection[enteringindex]\n",
    "            xstar = xstar - t * primalstepdirection\n",
    "            zstar = zstar - s * dualstepdirection\n",
    "            zstar[enteringindex] = s\n",
    "            xstar[leavingindex] = t\n",
    "            changebasis(basic, nonbasic,\n",
    "                        enteringindex + 1, leavingindex + 1)\n",
    "            changematrix(B, N, enteringindex + 1,\n",
    "                         leavingindex + 1)\n",
    "            value = B[leavingindex][leavingindex]\n",
    "            B[leavingindex] = B[leavingindex] / value\n",
    "            N[leavingindex] = N[leavingindex] / value\n",
    "            for i in range(m):\n",
    "                if i == leavingindex:\n",
    "                    continue\n",
    "                temp = B[i][leavingindex]\n",
    "                B[i][leavingindex] = 0\n",
    "                N[i] = N[i] - temp * N[leavingindex]"
   ]
  },
  {
   "cell_type": "code",
   "execution_count": 16,
   "metadata": {
    "collapsed": false,
    "deletable": true,
    "editable": true
   },
   "outputs": [],
   "source": [
    "'''\n",
    "    Симплекс-алгоритм.\n",
    "'''\n",
    "def simplex(n, A, b, c, method='bland', start_point=None, draw=False):\n",
    "    supplement = 0\n",
    "    if start_point != None:\n",
    "        b = b - A @ start_point.T\n",
    "        supplement = c @ start_point.T\n",
    "    m = A.shape[0]\n",
    "    basic = np.arange(n + 1, n + m + 1)\n",
    "    nonbasic = np.arange(1, n + 1)\n",
    "    xstar = b.copy()\n",
    "    zstar = -(c.copy())\n",
    "    B = np.eye(m)\n",
    "    N = A.copy()\n",
    "    iteration = 0\n",
    "    points = [[0, 0]]\n",
    "    aux = False\n",
    "    if not isoptimal(xstar):\n",
    "        aux = True\n",
    "        oldnonbasic = nonbasic.copy()\n",
    "        temp = zstar.copy()\n",
    "        newzstar = np.zeros(n)\n",
    "        basic, nonbasic, N, xstar = auxiliary(N, xstar)\n",
    "        for i in range(n):\n",
    "            if oldnonbasic[i] in basic:\n",
    "                index = -1\n",
    "                for j in range(m):\n",
    "                    if oldnonbasic[i] == basic[j]:\n",
    "                        index = j\n",
    "                newzstar -= temp[i] * N[index]\n",
    "            else:\n",
    "                index = -1\n",
    "                for j in range(n):\n",
    "                    if nonbasic[j] == oldnonbasic[i]:\n",
    "                        index = j\n",
    "                newzstar[index] += temp[i]\n",
    "        zstar = newzstar.copy()\n",
    "    while True:\n",
    "        if (isoptimal(zstar)):\n",
    "            point, value = solution(n, m, c, basic, nonbasic, xstar)\n",
    "            if start_point != None:\n",
    "                value += supplement\n",
    "                point += start_point\n",
    "            if draw and n == 2 and not aux:\n",
    "                points = np.array(points)\n",
    "                if start_point != None:\n",
    "                    points += start_point\n",
    "                    b = b + A @ start_point.T\n",
    "                for i in range(iteration + 1):\n",
    "                    xmin = -0.1\n",
    "                    xmax = -1\n",
    "                    ymin = -0.1\n",
    "                    ymax = -1\n",
    "                    plt.plot([0, 10], [0, 0], c='blue', alpha=0.2)\n",
    "                    plt.plot([0, 0], [0, 10], c='blue', alpha=0.2)\n",
    "                    if ok(A, b, 0, 0):\n",
    "                        plt.scatter(0, 0, c='black')\n",
    "                    for j in range(m):\n",
    "                        y = 0\n",
    "                        x = 0\n",
    "                        dots = []\n",
    "                        if A[j][1] != 0:\n",
    "                            y = b[j] / A[j][1]\n",
    "                        if A[j][0] != 0:\n",
    "                            x = b[j] / A[j][0]\n",
    "                        if x > 0 and y > 0:\n",
    "                            plt.plot([0, x], [y, 0], c='blue', alpha=0.2)\n",
    "                            if ok(A, b, 0, y):\n",
    "                                plt.scatter(0, y, c='black')\n",
    "                                if y > ymax:\n",
    "                                    ymax = y\n",
    "                            if ok(A, b, x, 0):\n",
    "                                plt.scatter(x, 0, c='black')\n",
    "                                if x > xmax:\n",
    "                                    xmax = x\n",
    "                            dots = [[0, y], [x, 0]]\n",
    "                        elif x > 0 and y < 0:\n",
    "                            plt.plot([x, 10 * x], [0, (b[j] - A[j][0] * 10 * x) / A[j][1]], c='blue', alpha=0.2)\n",
    "                            if ok(A, b, x, 0):\n",
    "                                plt.scatter(x, 0, c='black')\n",
    "                                if x > xmax:\n",
    "                                    xmax = x\n",
    "                            dots = [[x, 0], [10 * x, (b[j] - A[j][0] * 10 * x) / A[j][1]]]\n",
    "                        elif y > 0 and x < 0:\n",
    "                            plt.plot([0, (b[j] - A[j][1] * 10 * y) / A[j][0]], [y, 10 * y], c='blue', alpha=0.2)\n",
    "                            if ok(A, b, 0, y):\n",
    "                                plt.scatter(0, y, c='black')\n",
    "                                if y > ymax:\n",
    "                                    ymax = y\n",
    "                            dots = [[0, y], [(b[j] - A[j][1] * 10 * y) / A[j][0], 10 * y]]\n",
    "                        elif y == 0 and x > 0:\n",
    "                            plt.plot([x, x], [0, 10], c='blue', alpha=0.2)\n",
    "                            if ok(A, b, x, 0):\n",
    "                                plt.scatter(x, 0, c='black')\n",
    "                                if x > xmax:\n",
    "                                    xmax = x\n",
    "                            dots = [[x, 0], [x, 10]]\n",
    "                        elif x == 0 and y > 0:\n",
    "                            plt.plot([0, 10], [y, y], c='blue', alpha=0.2)\n",
    "                            if ok(A, b, 0, y):\n",
    "                                plt.scatter(0, y, c='black')\n",
    "                                if y > ymax:\n",
    "                                    ymax = y\n",
    "                            dots = [[0, y], [10, y]]\n",
    "                        for k in range(m):    \n",
    "                            if k == j:\n",
    "                                continue\n",
    "                            else:\n",
    "                                L1 = line(dots[0], dots[1])\n",
    "                                dots = getpoints(A[k], b[k])\n",
    "                                L2 = line(dots[0], dots[1])\n",
    "                                x, y = intersection(L1, L2)\n",
    "                                if ok(A, b, x, y):\n",
    "                                    plt.scatter(x, y, c='black')\n",
    "                                    if y > ymax:\n",
    "                                        ymax = y\n",
    "                                    if x > xmax:\n",
    "                                        xmax = x\n",
    "                    plt.scatter(points[i][0], points[i][1], c='red')\n",
    "                    plt.xlim((xmin, xmax + 1))\n",
    "                    plt.ylim((ymin, ymax + 1))\n",
    "                    plt.title('iteration = %d; point = (%.2f, %.2f)' % (i, points[i][0], points[i][1]))\n",
    "                    plt.show()\n",
    "            return value, point, iteration\n",
    "            break\n",
    "        else:\n",
    "            iteration += 1\n",
    "            enteringindex = getenteringindex(n + m, zstar, nonbasic)\n",
    "            vector = np.eye(n)[enteringindex - 1]\n",
    "            primalstepdirection = np.linalg.inv(B) @ N @ vector.T\n",
    "            t = 0\n",
    "            leavingindex = 0\n",
    "            if method == 'bland':\n",
    "                t, leavingindex = getleavingindex(n + m, primalstepdirection, xstar, basic)\n",
    "            elif method == 'lexical':\n",
    "                t, leavingindex = lexical(primalstepdirection, xstar, N, basic)\n",
    "            vector = np.eye(m)[leavingindex - 1]\n",
    "            dualstepdirection = -(np.linalg.inv(B) @ N).T @ vector.T\n",
    "            s = zstar[enteringindex - 1] / dualstepdirection[enteringindex - 1]\n",
    "            xstar = xstar - t * primalstepdirection\n",
    "            zstar = zstar - s * dualstepdirection\n",
    "            zstar[enteringindex - 1] = s\n",
    "            xstar[leavingindex - 1] = t\n",
    "            changebasis(basic, nonbasic,\n",
    "                        enteringindex, leavingindex)\n",
    "            changematrix(B, N,\n",
    "                         enteringindex, leavingindex)\n",
    "            if draw and n == 2 and not aux:\n",
    "                points += [getpoint(n, m, xstar, basic, nonbasic)]"
   ]
  },
  {
   "cell_type": "code",
   "execution_count": 17,
   "metadata": {
    "collapsed": true,
    "deletable": true,
    "editable": true
   },
   "outputs": [],
   "source": [
    "'''\n",
    "    Проверка заданной точки на оптимальность.\n",
    "'''\n",
    "def checkoptimal(A, b, c, x):\n",
    "    value, point, iteration = simplex(A.shape[1], A, b, c)\n",
    "    flag = True\n",
    "    values = A @ x.T\n",
    "    for i in range(len(values)):\n",
    "        if values[i] > b[i]:\n",
    "            flag = False\n",
    "    if flag:\n",
    "        return np.array_equal(value, c @ x.T)"
   ]
  },
  {
   "cell_type": "markdown",
   "metadata": {
    "deletable": true,
    "editable": true
   },
   "source": [
    "## Тесты"
   ]
  },
  {
   "cell_type": "code",
   "execution_count": 18,
   "metadata": {
    "collapsed": false,
    "deletable": true,
    "editable": true
   },
   "outputs": [
    {
     "ename": "Exception",
     "evalue": "INFEASIBLE",
     "output_type": "error",
     "traceback": [
      "\u001b[0;31m---------------------------------------------------------------------------\u001b[0m",
      "\u001b[0;31mException\u001b[0m                                 Traceback (most recent call last)",
      "\u001b[0;32m<ipython-input-18-2daa2617097e>\u001b[0m in \u001b[0;36m<module>\u001b[0;34m()\u001b[0m\n\u001b[1;32m      2\u001b[0m \u001b[0mb\u001b[0m \u001b[0;34m=\u001b[0m \u001b[0mnp\u001b[0m\u001b[0;34m.\u001b[0m\u001b[0marray\u001b[0m\u001b[0;34m(\u001b[0m\u001b[0;34m[\u001b[0m\u001b[0;36m8\u001b[0m\u001b[0;34m,\u001b[0m \u001b[0;36m12\u001b[0m\u001b[0;34m,\u001b[0m \u001b[0;34m-\u001b[0m\u001b[0;36m12\u001b[0m\u001b[0;34m]\u001b[0m\u001b[0;34m)\u001b[0m\u001b[0;34m\u001b[0m\u001b[0m\n\u001b[1;32m      3\u001b[0m \u001b[0mc\u001b[0m \u001b[0;34m=\u001b[0m \u001b[0mnp\u001b[0m\u001b[0;34m.\u001b[0m\u001b[0marray\u001b[0m\u001b[0;34m(\u001b[0m\u001b[0;34m[\u001b[0m\u001b[0;36m1\u001b[0m\u001b[0;34m,\u001b[0m \u001b[0;36m1\u001b[0m\u001b[0;34m]\u001b[0m\u001b[0;34m)\u001b[0m\u001b[0;34m\u001b[0m\u001b[0m\n\u001b[0;32m----> 4\u001b[0;31m \u001b[0msimplex\u001b[0m\u001b[0;34m(\u001b[0m\u001b[0;36m2\u001b[0m\u001b[0;34m,\u001b[0m \u001b[0mA\u001b[0m\u001b[0;34m,\u001b[0m \u001b[0mb\u001b[0m\u001b[0;34m,\u001b[0m \u001b[0mc\u001b[0m\u001b[0;34m)\u001b[0m\u001b[0;34m\u001b[0m\u001b[0m\n\u001b[0m",
      "\u001b[0;32m<ipython-input-16-b7776db6d30b>\u001b[0m in \u001b[0;36msimplex\u001b[0;34m(n, A, b, c, method, start_point, draw)\u001b[0m\n\u001b[1;32m     22\u001b[0m         \u001b[0mtemp\u001b[0m \u001b[0;34m=\u001b[0m \u001b[0mzstar\u001b[0m\u001b[0;34m.\u001b[0m\u001b[0mcopy\u001b[0m\u001b[0;34m(\u001b[0m\u001b[0;34m)\u001b[0m\u001b[0;34m\u001b[0m\u001b[0m\n\u001b[1;32m     23\u001b[0m         \u001b[0mnewzstar\u001b[0m \u001b[0;34m=\u001b[0m \u001b[0mnp\u001b[0m\u001b[0;34m.\u001b[0m\u001b[0mzeros\u001b[0m\u001b[0;34m(\u001b[0m\u001b[0mn\u001b[0m\u001b[0;34m)\u001b[0m\u001b[0;34m\u001b[0m\u001b[0m\n\u001b[0;32m---> 24\u001b[0;31m         \u001b[0mbasic\u001b[0m\u001b[0;34m,\u001b[0m \u001b[0mnonbasic\u001b[0m\u001b[0;34m,\u001b[0m \u001b[0mN\u001b[0m\u001b[0;34m,\u001b[0m \u001b[0mxstar\u001b[0m \u001b[0;34m=\u001b[0m \u001b[0mauxiliary\u001b[0m\u001b[0;34m(\u001b[0m\u001b[0mN\u001b[0m\u001b[0;34m,\u001b[0m \u001b[0mxstar\u001b[0m\u001b[0;34m)\u001b[0m\u001b[0;34m\u001b[0m\u001b[0m\n\u001b[0m\u001b[1;32m     25\u001b[0m         \u001b[0;32mfor\u001b[0m \u001b[0mi\u001b[0m \u001b[0;32min\u001b[0m \u001b[0mrange\u001b[0m\u001b[0;34m(\u001b[0m\u001b[0mn\u001b[0m\u001b[0;34m)\u001b[0m\u001b[0;34m:\u001b[0m\u001b[0;34m\u001b[0m\u001b[0m\n\u001b[1;32m     26\u001b[0m             \u001b[0;32mif\u001b[0m \u001b[0moldnonbasic\u001b[0m\u001b[0;34m[\u001b[0m\u001b[0mi\u001b[0m\u001b[0;34m]\u001b[0m \u001b[0;32min\u001b[0m \u001b[0mbasic\u001b[0m\u001b[0;34m:\u001b[0m\u001b[0;34m\u001b[0m\u001b[0m\n",
      "\u001b[0;32m<ipython-input-15-718e7499cdbe>\u001b[0m in \u001b[0;36mauxiliary\u001b[0;34m(A, b)\u001b[0m\n\u001b[1;32m     23\u001b[0m                     \u001b[0;32mbreak\u001b[0m\u001b[0;34m\u001b[0m\u001b[0m\n\u001b[1;32m     24\u001b[0m             \u001b[0;32mif\u001b[0m \u001b[0mflag\u001b[0m\u001b[0;34m:\u001b[0m\u001b[0;34m\u001b[0m\u001b[0m\n\u001b[0;32m---> 25\u001b[0;31m                 \u001b[0;32mraise\u001b[0m \u001b[0mException\u001b[0m\u001b[0;34m(\u001b[0m\u001b[0;34m'INFEASIBLE'\u001b[0m\u001b[0;34m)\u001b[0m\u001b[0;34m\u001b[0m\u001b[0m\n\u001b[0m\u001b[1;32m     26\u001b[0m             \u001b[0;32mreturn\u001b[0m \u001b[0mbasic\u001b[0m\u001b[0;34m,\u001b[0m \u001b[0mnonbasic\u001b[0m\u001b[0;34m,\u001b[0m \u001b[0mN\u001b[0m\u001b[0;34m,\u001b[0m \u001b[0mxstar\u001b[0m\u001b[0;34m\u001b[0m\u001b[0m\n\u001b[1;32m     27\u001b[0m         \u001b[0;32melse\u001b[0m\u001b[0;34m:\u001b[0m\u001b[0;34m\u001b[0m\u001b[0m\n",
      "\u001b[0;31mException\u001b[0m: INFEASIBLE"
     ]
    }
   ],
   "source": [
    "A = np.array([[1, 2], [3, 2], [-1, -3]])\n",
    "b = np.array([8, 12, -12])\n",
    "c = np.array([1, 1])\n",
    "simplex(2, A, b, c)"
   ]
  },
  {
   "cell_type": "code",
   "execution_count": 19,
   "metadata": {
    "collapsed": false,
    "deletable": true,
    "editable": true
   },
   "outputs": [
    {
     "ename": "Exception",
     "evalue": "UNBOUNDED",
     "output_type": "error",
     "traceback": [
      "\u001b[0;31m---------------------------------------------------------------------------\u001b[0m",
      "\u001b[0;31mException\u001b[0m                                 Traceback (most recent call last)",
      "\u001b[0;32m<ipython-input-19-c99b9b6e4e9a>\u001b[0m in \u001b[0;36m<module>\u001b[0;34m()\u001b[0m\n\u001b[1;32m      2\u001b[0m \u001b[0mb\u001b[0m \u001b[0;34m=\u001b[0m \u001b[0mnp\u001b[0m\u001b[0;34m.\u001b[0m\u001b[0marray\u001b[0m\u001b[0;34m(\u001b[0m\u001b[0;34m[\u001b[0m\u001b[0;36m10\u001b[0m\u001b[0;34m,\u001b[0m \u001b[0;36m40\u001b[0m\u001b[0;34m]\u001b[0m\u001b[0;34m)\u001b[0m\u001b[0;34m\u001b[0m\u001b[0m\n\u001b[1;32m      3\u001b[0m \u001b[0mc\u001b[0m \u001b[0;34m=\u001b[0m \u001b[0mnp\u001b[0m\u001b[0;34m.\u001b[0m\u001b[0marray\u001b[0m\u001b[0;34m(\u001b[0m\u001b[0;34m[\u001b[0m\u001b[0;36m2\u001b[0m\u001b[0;34m,\u001b[0m \u001b[0;36m1\u001b[0m\u001b[0;34m]\u001b[0m\u001b[0;34m)\u001b[0m\u001b[0;34m\u001b[0m\u001b[0m\n\u001b[0;32m----> 4\u001b[0;31m \u001b[0msimplex\u001b[0m\u001b[0;34m(\u001b[0m\u001b[0;36m2\u001b[0m\u001b[0;34m,\u001b[0m \u001b[0mA\u001b[0m\u001b[0;34m,\u001b[0m \u001b[0mb\u001b[0m\u001b[0;34m,\u001b[0m \u001b[0mc\u001b[0m\u001b[0;34m)\u001b[0m\u001b[0;34m\u001b[0m\u001b[0m\n\u001b[0m",
      "\u001b[0;32m<ipython-input-16-b7776db6d30b>\u001b[0m in \u001b[0;36msimplex\u001b[0;34m(n, A, b, c, method, start_point, draw)\u001b[0m\n\u001b[1;32m    133\u001b[0m             \u001b[0mleavingindex\u001b[0m \u001b[0;34m=\u001b[0m \u001b[0;36m0\u001b[0m\u001b[0;34m\u001b[0m\u001b[0m\n\u001b[1;32m    134\u001b[0m             \u001b[0;32mif\u001b[0m \u001b[0mmethod\u001b[0m \u001b[0;34m==\u001b[0m \u001b[0;34m'bland'\u001b[0m\u001b[0;34m:\u001b[0m\u001b[0;34m\u001b[0m\u001b[0m\n\u001b[0;32m--> 135\u001b[0;31m                 \u001b[0mt\u001b[0m\u001b[0;34m,\u001b[0m \u001b[0mleavingindex\u001b[0m \u001b[0;34m=\u001b[0m \u001b[0mgetleavingindex\u001b[0m\u001b[0;34m(\u001b[0m\u001b[0mn\u001b[0m \u001b[0;34m+\u001b[0m \u001b[0mm\u001b[0m\u001b[0;34m,\u001b[0m \u001b[0mprimalstepdirection\u001b[0m\u001b[0;34m,\u001b[0m \u001b[0mxstar\u001b[0m\u001b[0;34m,\u001b[0m \u001b[0mbasic\u001b[0m\u001b[0;34m)\u001b[0m\u001b[0;34m\u001b[0m\u001b[0m\n\u001b[0m\u001b[1;32m    136\u001b[0m             \u001b[0;32melif\u001b[0m \u001b[0mmethod\u001b[0m \u001b[0;34m==\u001b[0m \u001b[0;34m'lexical'\u001b[0m\u001b[0;34m:\u001b[0m\u001b[0;34m\u001b[0m\u001b[0m\n\u001b[1;32m    137\u001b[0m                 \u001b[0mt\u001b[0m\u001b[0;34m,\u001b[0m \u001b[0mleavingindex\u001b[0m \u001b[0;34m=\u001b[0m \u001b[0mlexical\u001b[0m\u001b[0;34m(\u001b[0m\u001b[0mprimalstepdirection\u001b[0m\u001b[0;34m,\u001b[0m \u001b[0mxstar\u001b[0m\u001b[0;34m,\u001b[0m \u001b[0mN\u001b[0m\u001b[0;34m,\u001b[0m \u001b[0mbasic\u001b[0m\u001b[0;34m)\u001b[0m\u001b[0;34m\u001b[0m\u001b[0m\n",
      "\u001b[0;32m<ipython-input-4-79b2466e6cc5>\u001b[0m in \u001b[0;36mgetleavingindex\u001b[0;34m(size, primalstepdirection, xstar, basic)\u001b[0m\n\u001b[1;32m      8\u001b[0m     \u001b[0mvalue\u001b[0m \u001b[0;34m=\u001b[0m \u001b[0mnp\u001b[0m\u001b[0;34m.\u001b[0m\u001b[0mmax\u001b[0m\u001b[0;34m(\u001b[0m\u001b[0mvalues\u001b[0m\u001b[0;34m)\u001b[0m\u001b[0;34m\u001b[0m\u001b[0m\n\u001b[1;32m      9\u001b[0m     \u001b[0;32mif\u001b[0m \u001b[0mvalue\u001b[0m \u001b[0;34m<=\u001b[0m \u001b[0;36m0\u001b[0m\u001b[0;34m:\u001b[0m\u001b[0;34m\u001b[0m\u001b[0m\n\u001b[0;32m---> 10\u001b[0;31m         \u001b[0;32mraise\u001b[0m \u001b[0mException\u001b[0m\u001b[0;34m(\u001b[0m\u001b[0;34m'UNBOUNDED'\u001b[0m\u001b[0;34m)\u001b[0m\u001b[0;34m\u001b[0m\u001b[0m\n\u001b[0m\u001b[1;32m     11\u001b[0m     \u001b[0mindex\u001b[0m \u001b[0;34m=\u001b[0m \u001b[0msize\u001b[0m \u001b[0;34m+\u001b[0m \u001b[0;36m1\u001b[0m\u001b[0;34m\u001b[0m\u001b[0m\n\u001b[1;32m     12\u001b[0m     \u001b[0;32mfor\u001b[0m \u001b[0mi\u001b[0m \u001b[0;32min\u001b[0m \u001b[0mrange\u001b[0m\u001b[0;34m(\u001b[0m\u001b[0mlen\u001b[0m\u001b[0;34m(\u001b[0m\u001b[0mxstar\u001b[0m\u001b[0;34m)\u001b[0m\u001b[0;34m)\u001b[0m\u001b[0;34m:\u001b[0m\u001b[0;34m\u001b[0m\u001b[0m\n",
      "\u001b[0;31mException\u001b[0m: UNBOUNDED"
     ]
    }
   ],
   "source": [
    "A = np.array([[1, -1], [2, -1]])\n",
    "b = np.array([10, 40])\n",
    "c = np.array([2, 1])\n",
    "simplex(2, A, b, c)"
   ]
  },
  {
   "cell_type": "code",
   "execution_count": 20,
   "metadata": {
    "collapsed": false,
    "deletable": true,
    "editable": true
   },
   "outputs": [
    {
     "data": {
      "text/plain": [
       "(-3.0000000000000004, array([ 1.33333333,  0.33333333]), 0)"
      ]
     },
     "execution_count": 20,
     "metadata": {},
     "output_type": "execute_result"
    }
   ],
   "source": [
    "A = np.array([[-1, 1], [-1, -2], [0, 1]])\n",
    "b = np.array([-1, -2, 1])\n",
    "c = np.array([-2, -1])\n",
    "simplex(2, A, b, c)"
   ]
  },
  {
   "cell_type": "code",
   "execution_count": 21,
   "metadata": {
    "collapsed": false,
    "deletable": true,
    "editable": true
   },
   "outputs": [
    {
     "data": {
      "text/plain": [
       "(0.60000000000000053, array([ 0. ,  2.8,  3.4]), 2)"
      ]
     },
     "execution_count": 21,
     "metadata": {},
     "output_type": "execute_result"
    }
   ],
   "source": [
    "A = np.array([[2, -1, 2], [2, -3, 1], [-1, 1, -2]])\n",
    "b = np.array([4, -5, -1])\n",
    "c = np.array([1, -1, 1])\n",
    "simplex(3, A, b, c)"
   ]
  },
  {
   "cell_type": "code",
   "execution_count": 22,
   "metadata": {
    "collapsed": false,
    "deletable": true,
    "editable": true
   },
   "outputs": [
    {
     "data": {
      "text/plain": [
       "(1.2000000000000002, array([ 0.,  0.,  3.]), 2)"
      ]
     },
     "execution_count": 22,
     "metadata": {},
     "output_type": "execute_result"
    }
   ],
   "source": [
    "A = np.array([[0.2, -0.2, -0.6], [-0.6, -0.4, -0.2], [1, 0, 1]])\n",
    "b = np.array([1.6, 2.2, 3])\n",
    "c = np.array([0.2, -0.2, 0.4])\n",
    "simplex(3, A, b, c)"
   ]
  },
  {
   "cell_type": "code",
   "execution_count": 23,
   "metadata": {
    "collapsed": false,
    "deletable": true,
    "editable": true
   },
   "outputs": [
    {
     "data": {
      "text/plain": [
       "True"
      ]
     },
     "execution_count": 23,
     "metadata": {},
     "output_type": "execute_result"
    }
   ],
   "source": [
    "A = np.array([[1, -1], [2, -1], [0, 1]])\n",
    "b = np.array([1, 3, 5])\n",
    "c = np.array([4, 3])\n",
    "x = np.array([4, 5])\n",
    "checkoptimal(A, b, c, x)"
   ]
  },
  {
   "cell_type": "code",
   "execution_count": 24,
   "metadata": {
    "collapsed": false,
    "deletable": true,
    "editable": true
   },
   "outputs": [
    {
     "name": "stderr",
     "output_type": "stream",
     "text": [
      "/usr/local/lib/python3.5/dist-packages/ipykernel/__main__.py:6: FutureWarning: comparison to `None` will result in an elementwise object comparison in the future.\n",
      "/usr/local/lib/python3.5/dist-packages/ipykernel/__main__.py:6: RuntimeWarning: divide by zero encountered in true_divide\n",
      "/usr/local/lib/python3.5/dist-packages/ipykernel/__main__.py:42: FutureWarning: comparison to `None` will result in an elementwise object comparison in the future.\n"
     ]
    },
    {
     "data": {
      "text/plain": [
       "(31.0, array([ 4.,  5.]), 3)"
      ]
     },
     "execution_count": 24,
     "metadata": {},
     "output_type": "execute_result"
    }
   ],
   "source": [
    "A = np.array([[1, -1], [2, -1], [0, 1]])\n",
    "b = np.array([1, 3, 5])\n",
    "c = np.array([4, 3])\n",
    "start_point = np.array([1, 1])\n",
    "simplex(2, A, b, c, method='lexical', start_point=start_point)"
   ]
  },
  {
   "cell_type": "code",
   "execution_count": 25,
   "metadata": {
    "collapsed": false,
    "deletable": true,
    "editable": true
   },
   "outputs": [
    {
     "data": {
      "image/png": "[encoded data removed]",
      "text/plain": [
       "<matplotlib.figure.Figure at 0x7fbb93f34d30>"
      ]
     },
     "metadata": {},
     "output_type": "display_data"
    },
    {
     "data": {
      "image/png": "[encoded data removed]",
      "text/plain": [
       "<matplotlib.figure.Figure at 0x7fbb91e4be10>"
      ]
     },
     "metadata": {},
     "output_type": "display_data"
    },
    {
     "data": {
      "image/png": "[encoded data removed]",
      "text/plain": [
       "<matplotlib.figure.Figure at 0x7fbb91d7b898>"
      ]
     },
     "metadata": {},
     "output_type": "display_data"
    },
    {
     "data": {
      "image/png": "[encoded data removed]",
      "text/plain": [
       "<matplotlib.figure.Figure at 0x7fbb91e75160>"
      ]
     },
     "metadata": {},
     "output_type": "display_data"
    },
    {
     "data": {
      "text/plain": [
       "(31.0, array([ 4.,  5.]), 3)"
      ]
     },
     "execution_count": 25,
     "metadata": {},
     "output_type": "execute_result"
    }
   ],
   "source": [
    "A = np.array([[1, -1], [2, -1], [0, 1]])\n",
    "b = np.array([1, 3, 5])\n",
    "c = np.array([4, 3])\n",
    "simplex(2, A, b, c, draw=True)"
   ]
  },
  {
   "cell_type": "code",
   "execution_count": 26,
   "metadata": {
    "collapsed": false,
    "deletable": true,
    "editable": true
   },
   "outputs": [
    {
     "name": "stderr",
     "output_type": "stream",
     "text": [
      "/usr/local/lib/python3.5/dist-packages/ipykernel/__main__.py:6: FutureWarning: comparison to `None` will result in an elementwise object comparison in the future.\n",
      "/usr/local/lib/python3.5/dist-packages/ipykernel/__main__.py:5: RuntimeWarning: divide by zero encountered in true_divide\n",
      "/usr/local/lib/python3.5/dist-packages/ipykernel/__main__.py:42: FutureWarning: comparison to `None` will result in an elementwise object comparison in the future.\n"
     ]
    },
    {
     "data": {
      "text/plain": [
       "(31.0, array([ 4.,  5.]), 3)"
      ]
     },
     "execution_count": 26,
     "metadata": {},
     "output_type": "execute_result"
    }
   ],
   "source": [
    "A = np.array([[1, -1], [2, -1], [0, 1]])\n",
    "b = np.array([1, 3, 5])\n",
    "c = np.array([4, 3])\n",
    "start_point = np.array([1, 1])\n",
    "simplex(2, A, b, c, start_point=start_point)"
   ]
  },
  {
   "cell_type": "code",
   "execution_count": 27,
   "metadata": {
    "collapsed": false,
    "deletable": true,
    "editable": true
   },
   "outputs": [
    {
     "name": "stderr",
     "output_type": "stream",
     "text": [
      "/usr/local/lib/python3.5/dist-packages/ipykernel/__main__.py:6: FutureWarning: comparison to `None` will result in an elementwise object comparison in the future.\n",
      "/usr/local/lib/python3.5/dist-packages/ipykernel/__main__.py:6: RuntimeWarning: divide by zero encountered in true_divide\n",
      "/usr/local/lib/python3.5/dist-packages/ipykernel/__main__.py:42: FutureWarning: comparison to `None` will result in an elementwise object comparison in the future.\n",
      "/usr/local/lib/python3.5/dist-packages/ipykernel/__main__.py:47: FutureWarning: comparison to `None` will result in an elementwise object comparison in the future.\n"
     ]
    },
    {
     "data": {
      "image/png": "[encoded data removed]",
      "text/plain": [
       "<matplotlib.figure.Figure at 0x7fbb93f33588>"
      ]
     },
     "metadata": {},
     "output_type": "display_data"
    },
    {
     "data": {
      "image/png": "[encoded data removed]",
      "text/plain": [
       "<matplotlib.figure.Figure at 0x7fbb91e50048>"
      ]
     },
     "metadata": {},
     "output_type": "display_data"
    },
    {
     "data": {
      "text/plain": [
       "(22.0, array([ 2.2,  0. ]), 1)"
      ]
     },
     "execution_count": 27,
     "metadata": {},
     "output_type": "execute_result"
    }
   ],
   "source": [
    "A = np.array([[1, 1], [5, 2], [0, 1]])\n",
    "b = np.array([4, 11, 4])\n",
    "c = np.array([10, 3])\n",
    "start_point = np.array([2.2, 0])\n",
    "simplex(2, A, b, c, method='lexical', start_point=start_point, draw=True)"
   ]
  },
  {
   "cell_type": "code",
   "execution_count": 28,
   "metadata": {
    "collapsed": false,
    "deletable": true,
    "editable": true
   },
   "outputs": [
    {
     "name": "stderr",
     "output_type": "stream",
     "text": [
      "/usr/local/lib/python3.5/dist-packages/ipykernel/__main__.py:6: FutureWarning: comparison to `None` will result in an elementwise object comparison in the future.\n",
      "/usr/local/lib/python3.5/dist-packages/ipykernel/__main__.py:5: RuntimeWarning: divide by zero encountered in true_divide\n",
      "/usr/local/lib/python3.5/dist-packages/ipykernel/__main__.py:42: FutureWarning: comparison to `None` will result in an elementwise object comparison in the future.\n"
     ]
    },
    {
     "data": {
      "text/plain": [
       "(22.0, array([ 2.2,  0. ]), 1)"
      ]
     },
     "execution_count": 28,
     "metadata": {},
     "output_type": "execute_result"
    }
   ],
   "source": [
    "A = np.array([[1, 1], [5, 2], [0, 1]])\n",
    "b = np.array([4, 11, 4])\n",
    "c = np.array([10, 3])\n",
    "simplex(2, A, b, c)\n",
    "\n",
    "A = np.array([[1, 1], [5, 2], [0, 1]])\n",
    "b = np.array([4, 11, 4])\n",
    "c = np.array([10, 3])\n",
    "start_point = np.array([2.2, 0])\n",
    "simplex(2, A, b, c, start_point=start_point)"
   ]
  },
  {
   "cell_type": "code",
   "execution_count": 29,
   "metadata": {
    "collapsed": false,
    "deletable": true,
    "editable": true
   },
   "outputs": [
    {
     "name": "stderr",
     "output_type": "stream",
     "text": [
      "/usr/local/lib/python3.5/dist-packages/ipykernel/__main__.py:6: RuntimeWarning: divide by zero encountered in true_divide\n"
     ]
    },
    {
     "data": {
      "text/plain": [
       "(1.0, array([ 1.,  0.,  1.,  0.]), 5)"
      ]
     },
     "execution_count": 29,
     "metadata": {},
     "output_type": "execute_result"
    }
   ],
   "source": [
    "A = np.array([[0.5, -5.5, -2.5, 9], [0.5, -1.5, -0.5, 1], [1, 0, 0, 0]])\n",
    "b = np.array([0, 0, 1])\n",
    "c = np.array([10, -57, -9, -24])\n",
    "start_point = np.array([1, 0, 1, 0])\n",
    "simplex(4, A, b, c, method='lexical', start_point=None)"
   ]
  },
  {
   "cell_type": "code",
   "execution_count": 30,
   "metadata": {
    "collapsed": false,
    "deletable": true,
    "editable": true
   },
   "outputs": [
    {
     "name": "stderr",
     "output_type": "stream",
     "text": [
      "/usr/local/lib/python3.5/dist-packages/ipykernel/__main__.py:5: RuntimeWarning: divide by zero encountered in true_divide\n",
      "/usr/local/lib/python3.5/dist-packages/ipykernel/__main__.py:6: FutureWarning: comparison to `None` will result in an elementwise object comparison in the future.\n",
      "/usr/local/lib/python3.5/dist-packages/ipykernel/__main__.py:42: FutureWarning: comparison to `None` will result in an elementwise object comparison in the future.\n"
     ]
    },
    {
     "data": {
      "text/plain": [
       "(1.0, array([ 1.,  0.,  1.,  0.]), 2)"
      ]
     },
     "execution_count": 30,
     "metadata": {},
     "output_type": "execute_result"
    }
   ],
   "source": [
    "A = np.array([[0.5, -5.5, -2.5, 9], [0.5, -1.5, -0.5, 1], [1, 0, 0, 0]])\n",
    "b = np.array([0, 0, 1])\n",
    "c = np.array([10, -57, -9, -24])\n",
    "simplex(4, A, b, c)\n",
    "\n",
    "A = np.array([[0.5, -5.5, -2.5, 9], [0.5, -1.5, -0.5, 1], [1, 0, 0, 0]])\n",
    "b = np.array([0, 0, 1])\n",
    "c = np.array([10, -57, -9, -24])\n",
    "start_point = np.array([1, 0, 1, 0])\n",
    "simplex(4, A, b, c, start_point=start_point)"
   ]
  },
  {
   "cell_type": "code",
   "execution_count": 31,
   "metadata": {
    "collapsed": false,
    "deletable": true,
    "editable": true
   },
   "outputs": [
    {
     "name": "stderr",
     "output_type": "stream",
     "text": [
      "/usr/local/lib/python3.5/dist-packages/ipykernel/__main__.py:5: RuntimeWarning: divide by zero encountered in true_divide\n",
      "/usr/local/lib/python3.5/dist-packages/ipykernel/__main__.py:6: FutureWarning: comparison to `None` will result in an elementwise object comparison in the future.\n",
      "/usr/local/lib/python3.5/dist-packages/ipykernel/__main__.py:42: FutureWarning: comparison to `None` will result in an elementwise object comparison in the future.\n"
     ]
    },
    {
     "data": {
      "text/plain": [
       "(7.0, array([ 0.,  1.,  0.,  0.]), 1)"
      ]
     },
     "execution_count": 31,
     "metadata": {},
     "output_type": "execute_result"
    }
   ],
   "source": [
    "A = np.array([[1, 1, 1, 1], [0.5, -5.5, -2.5, 9], [0.5, -1.5, -0.5, 1]])\n",
    "b = np.array([1, 0, 0])\n",
    "c = np.array([-1, 7, 1, 2])\n",
    "simplex(4, A, b, c)\n",
    "\n",
    "A = np.array([[1, 1, 1, 1], [0.5, -5.5, -2.5, 9], [0.5, -1.5, -0.5, 1]])\n",
    "b = np.array([1, 0, 0])\n",
    "c = np.array([-1, 7, 1, 2])\n",
    "start_point = np.array([0, 1, 0, 0])\n",
    "simplex(4, A, b, c, start_point=start_point)"
   ]
  },
  {
   "cell_type": "code",
   "execution_count": 32,
   "metadata": {
    "collapsed": false,
    "deletable": true,
    "editable": true
   },
   "outputs": [
    {
     "name": "stderr",
     "output_type": "stream",
     "text": [
      "/usr/local/lib/python3.5/dist-packages/ipykernel/__main__.py:6: RuntimeWarning: divide by zero encountered in true_divide\n"
     ]
    },
    {
     "data": {
      "text/plain": [
       "(7.0, array([ 0.,  1.,  0.,  0.]), 1)"
      ]
     },
     "execution_count": 32,
     "metadata": {},
     "output_type": "execute_result"
    }
   ],
   "source": [
    "A = np.array([[1, 1, 1, 1], [0.5, -5.5, -2.5, 9], [0.5, -1.5, -0.5, 1]])\n",
    "b = np.array([1, 0, 0])\n",
    "c = np.array([-1, 7, 1, 2])\n",
    "start_point = np.array([0, 1, 0, 0])\n",
    "simplex(4, A, b, c, method='lexical', start_point=None)"
   ]
  },
  {
   "cell_type": "markdown",
   "metadata": {
    "deletable": true,
    "editable": true
   },
   "source": [
    "# ==========================================================\n",
    "# Задача на МНК"
   ]
  },
  {
   "cell_type": "code",
   "execution_count": 52,
   "metadata": {
    "collapsed": true,
    "deletable": true,
    "editable": true
   },
   "outputs": [],
   "source": [
    "''' Пусть физический закон описывается зависимостью \n",
    "    некоторого измеряемого значения y(x, a) \n",
    "    от времени и координаты x при параметрах a:\n",
    "'''\n",
    "\n",
    "def function(t, a): \n",
    "    return a[2] * sin(t) + a[1] * t + a[0]"
   ]
  },
  {
   "cell_type": "code",
   "execution_count": 53,
   "metadata": {
    "collapsed": false,
    "deletable": true,
    "editable": true
   },
   "outputs": [],
   "source": [
    "''' Дан набор координат t размера m, значения распределены равномерно. \n",
    "    Пусть m = 200.\n",
    "'''\n",
    "\n",
    "m = 200\n",
    "time = np.array([i * 10.0 / m for i in range(m)])"
   ]
  },
  {
   "cell_type": "code",
   "execution_count": 54,
   "metadata": {
    "collapsed": true,
    "deletable": true,
    "editable": true
   },
   "outputs": [],
   "source": [
    "''' Для каждого момента времени t сгенерируйте соответствующее\n",
    "    значение y(t,a) при некоторых параметрах  a_0, a_1, a_2. Для примера:\n",
    "'''\n",
    "\n",
    "a = np.array([10, 100, 1000])"
   ]
  },
  {
   "cell_type": "code",
   "execution_count": 55,
   "metadata": {
    "collapsed": true,
    "deletable": true,
    "editable": true
   },
   "outputs": [],
   "source": [
    "''' Выберем параметр b.\n",
    "'''\n",
    "\n",
    "b = 500"
   ]
  },
  {
   "cell_type": "code",
   "execution_count": 56,
   "metadata": {
    "collapsed": true,
    "deletable": true,
    "editable": true
   },
   "outputs": [],
   "source": [
    "''' Результаты измерений отличаются от истинных значений \n",
    "    в силу действия случайной аддитивной помехи\n",
    "    (случайность подчиняется нормальному закону распределения N(0, b))\n",
    "'''\n",
    "\n",
    "def get_y(a, b):\n",
    "    y_real = np.array([function(i, a) for i in time])\n",
    "    y_corr = y_real + np.random.normal(0, b, m)\n",
    "    return y_real, y_corr"
   ]
  },
  {
   "cell_type": "code",
   "execution_count": 57,
   "metadata": {
    "collapsed": false,
    "deletable": true,
    "editable": true
   },
   "outputs": [],
   "source": [
    "''' Сгенерируем значения: исходные и с помехами.\n",
    "'''\n",
    "\n",
    "y_real, y_corr = get_y(a, b)"
   ]
  },
  {
   "cell_type": "code",
   "execution_count": 58,
   "metadata": {
    "collapsed": false,
    "deletable": true,
    "editable": true
   },
   "outputs": [],
   "source": [
    "''' По сгенерированному набору точек y_corr дайте оценку параметрам a\n",
    "    закона с учетом знания общей формулы тремя различными способами:\n",
    "    1) method = 0 -> сумма квадратов невязок будет минимальна;\n",
    "    2) method = 1 -> сумма абсолютных значений невязок будет минимальна;\n",
    "    3) method = 2 -> максимальное абсолютное значение невязки будет минимально.\n",
    "'''\n",
    "\n",
    "def get_params(data, time, method=0):\n",
    "    if method == 0:\n",
    "        A = np.array([[1, t, sin(t)] for t in time])\n",
    "        return np.linalg.inv(A.T @ A) @ A.T @ data\n",
    "    elif method == 1:\n",
    "        A = np.array([[1, t, sin(t)] for t in time])\n",
    "        E = np.eye(m)\n",
    "        B = np.vstack((np.hstack((-E, A)), np.hstack((-E, -A))))\n",
    "        b = np.hstack((data, -data))\n",
    "        c = -np.hstack((np.ones(m), np.zeros(3)))\n",
    "        start_point = np.hstack((y_corr, np.zeros(3)))\n",
    "        return simplex(len(c), B, b, c, start_point=start_point)\n",
    "    elif method == 2:\n",
    "        A = np.array([[1, t, sin(t)] for t in time])\n",
    "        E = np.array([np.ones(m)])\n",
    "        B = np.vstack((np.hstack((-E.T, A)), np.hstack((-E.T, -A))))\n",
    "        b = np.hstack((data, -data))\n",
    "        c = -np.hstack((np.ones(1), np.zeros(3)))\n",
    "        return simplex(len(c), B, b, c)"
   ]
  },
  {
   "cell_type": "markdown",
   "metadata": {},
   "source": [
    "1 и 2 методы сводятся к задаче линейного программирования:\n",
    "* В первом случае \n",
    "    * $max\\ cx$\n",
    "    $$  \\left(\\begin{array}{cc}  \n",
    "           -E & A\\\\  \n",
    "           -E & -A \n",
    "        \\end{array}\\right)\n",
    "        x \\leq\n",
    "        \\left(\\begin{array}{c}  \n",
    "           y \\\\  \n",
    "           -y  \n",
    "        \\end{array}\\right)\n",
    "    $$\n",
    "    \n",
    "    * $x = (x_1, \\ldots, x_m, a_0, a_1, a_2)$\n",
    "    * $c = (-1, \\ldots, -1, 0, 0, 0)$\n",
    "    * Так как это эквивалентно\n",
    "    \n",
    "      $\\sum |a_2 \\sin t_i + a_1 t_i + a_0 - y_i^{наб} | \\to \\min$ или же\n",
    "\n",
    "      $\\forall i: a_2 \\sin t_i + a_1 t_i + a_0 - y_i^{наб} \\in [-x_i, +x_i]; ~~\\sum x_i \\to \\min $\n",
    "\n",
    "* Во втором случае\n",
    "    * $max\\ cx$\n",
    "    $$  \\left(\\begin{array}{cc}  \n",
    "            \\left(\\begin{array}{c}  \n",
    "               -1\\\\\n",
    "               \\vdots \\\\\n",
    "               -1 \n",
    "            \\end{array}\\right) & A\\\\  \n",
    "            \\left(\\begin{array}{c}  \n",
    "               -1\\\\\n",
    "               \\vdots \\\\\n",
    "               -1 \n",
    "            \\end{array}\\right) & -A\\\\ \n",
    "        \\end{array}\\right)\n",
    "        x \\leq\n",
    "        \\left(\\begin{array}{c}  \n",
    "           y \\\\  \n",
    "           -y  \n",
    "        \\end{array}\\right)\n",
    "    $$\n",
    "    * $x = (x_0, a_0, a_1, a_2)$\n",
    "    * $c = (-1, 0, 0, 0)$\n",
    "    * Так как это эквивалентно\n",
    "      \n",
    "      $\\max |a_2 \\sin t_i + a_1 t_i + a_0 - y_i^{наб} | \\to \\min$ или же\n",
    "\n",
    "      $\\forall i: a_2 \\sin t_i + a_1 t_i + a_0 - y_i^{наб} \\in [-x_0, +x_0]; ~~x_0 \\to \\min $"
   ]
  },
  {
   "cell_type": "markdown",
   "metadata": {
    "deletable": true,
    "editable": true
   },
   "source": [
    "## Задание 1"
   ]
  },
  {
   "cell_type": "code",
   "execution_count": 59,
   "metadata": {
    "collapsed": false,
    "deletable": true,
    "editable": true
   },
   "outputs": [
    {
     "name": "stderr",
     "output_type": "stream",
     "text": [
      "/usr/local/lib/python3.5/dist-packages/ipykernel/__main__.py:6: FutureWarning: comparison to `None` will result in an elementwise object comparison in the future.\n",
      "/usr/local/lib/python3.5/dist-packages/ipykernel/__main__.py:5: RuntimeWarning: divide by zero encountered in true_divide\n",
      "/usr/local/lib/python3.5/dist-packages/ipykernel/__main__.py:42: FutureWarning: comparison to `None` will result in an elementwise object comparison in the future.\n"
     ]
    },
    {
     "data": {
      "image/png": "[encoded data removed]",
      "text/plain": [
       "<matplotlib.figure.Figure at 0x7fbb91a7cd68>"
      ]
     },
     "metadata": {},
     "output_type": "display_data"
    }
   ],
   "source": [
    "plt.figure(figsize=(15,7))\n",
    "\n",
    "plt.scatter(time, y_corr, c='red', label='Скорректированные значения')\n",
    "\n",
    "y = np.array([function(t, a) for t in time])\n",
    "plt.plot(time, y, c='black', label='Истинные')\n",
    "\n",
    "astar = np.zeros((3,3))\n",
    "\n",
    "astar[0] = get_params(y_corr, time)\n",
    "y = np.array([function(t, astar[0]) for t in time])\n",
    "plt.plot(time, y, c='blue', label='МНК')\n",
    "\n",
    "astar[1] = get_params(y_corr, time, method=1)[1][-3:]\n",
    "y = np.array([function(t, astar[1]) for t in time])\n",
    "plt.plot(time, y, c='green', label='Минимум суммы абсюлютных значений невязок')\n",
    "\n",
    "astar[2] = get_params(y_corr, time, method=2)[1][-3:]\n",
    "y = np.array([function(t, astar[2]) for t in time])\n",
    "plt.plot(time, y, c='purple', label='Минимум максимальной по модулю невязки')\n",
    "\n",
    "plt.legend()\n",
    "plt.show()"
   ]
  },
  {
   "cell_type": "code",
   "execution_count": 60,
   "metadata": {
    "collapsed": false,
    "deletable": true,
    "editable": true
   },
   "outputs": [
    {
     "name": "stdout",
     "output_type": "stream",
     "text": [
      "Отличие истинных параметров и параметров, полученных с помощью приближений:\n",
      "\tИстинные: [  10  100 1000]\n",
      "\tМНК: [  61.32   84.15  955.23]\n",
      "\tМинимум суммы абсолютных значений невязок: [   0.     12.22  409.12]\n",
      "\tМинимум максимальной по модулю невязки: [   0.    103.11  753.08]\n"
     ]
    }
   ],
   "source": [
    "print('Отличие истинных параметров и параметров, полученных с помощью приближений:')\n",
    "print('\\tИстинные:', a)\n",
    "print('\\tМНК:', np.round(astar[0], 2))\n",
    "print('\\tМинимум суммы абсолютных значений невязок:', np.round(astar[1], 2))\n",
    "print('\\tМинимум максимальной по модулю невязки:', np.round(astar[2], 2))"
   ]
  },
  {
   "cell_type": "code",
   "execution_count": 61,
   "metadata": {
    "collapsed": false,
    "deletable": true,
    "editable": true
   },
   "outputs": [
    {
     "name": "stderr",
     "output_type": "stream",
     "text": [
      "/usr/local/lib/python3.5/dist-packages/ipykernel/__main__.py:6: FutureWarning: comparison to `None` will result in an elementwise object comparison in the future.\n",
      "/usr/local/lib/python3.5/dist-packages/ipykernel/__main__.py:34: RuntimeWarning: divide by zero encountered in double_scalars\n",
      "/usr/local/lib/python3.5/dist-packages/ipykernel/__main__.py:37: RuntimeWarning: divide by zero encountered in double_scalars\n",
      "/usr/local/lib/python3.5/dist-packages/ipykernel/__main__.py:38: RuntimeWarning: invalid value encountered in multiply\n",
      "/usr/local/lib/python3.5/dist-packages/ipykernel/__main__.py:39: RuntimeWarning: invalid value encountered in multiply\n",
      "/usr/local/lib/python3.5/dist-packages/ipykernel/__main__.py:47: RuntimeWarning: invalid value encountered in true_divide\n",
      "/usr/local/lib/python3.5/dist-packages/ipykernel/__main__.py:48: RuntimeWarning: divide by zero encountered in true_divide\n",
      "/usr/local/lib/python3.5/dist-packages/ipykernel/__main__.py:48: RuntimeWarning: invalid value encountered in true_divide\n",
      "/usr/local/lib/python3.5/dist-packages/ipykernel/__main__.py:54: RuntimeWarning: invalid value encountered in multiply\n",
      "/usr/local/lib/python3.5/dist-packages/ipykernel/__main__.py:42: FutureWarning: comparison to `None` will result in an elementwise object comparison in the future.\n"
     ]
    },
    {
     "data": {
      "image/png": "[encoded data removed]",
      "text/plain": [
       "<matplotlib.figure.Figure at 0x7fbb902336a0>"
      ]
     },
     "metadata": {},
     "output_type": "display_data"
    }
   ],
   "source": [
    "plt.figure(figsize=(15,7))\n",
    "\n",
    "plt.scatter(time, y_corr, c='red', label='Скорректированные значения')\n",
    "\n",
    "y = np.array([function(t, a) for t in time])\n",
    "plt.plot(time, y, c='black', label='Истинные')\n",
    "\n",
    "y_corrupt = y_corr.copy()\n",
    "y_corrupt[0] -= 50\n",
    "y_corrupt[-1] += 50\n",
    "\n",
    "astar = np.zeros((3,3))\n",
    "\n",
    "astar[0] = get_params(y_corrupt, time)\n",
    "y = np.array([function(t, astar[0]) for t in time])\n",
    "plt.plot(time, y, c='blue', label='МНК')\n",
    "\n",
    "astar[1] = get_params(y_corrupt, time, method=1)[1][-3:]\n",
    "astar[1] = np.nan_to_num(astar[1])\n",
    "y = np.array([function(t, astar[1]) for t in time])\n",
    "plt.plot(time, y, c='green', label='Минимум суммы абсюлютных значений невязок')\n",
    "\n",
    "astar[2] = get_params(y_corrupt, time, method=2)[1][-3:]\n",
    "y = np.array([function(t, astar[2]) for t in time])\n",
    "plt.plot(time, y, c='purple', label='Минимум максимальной по модулю невязки')\n",
    "\n",
    "\n",
    "plt.title('Значения времени содержат выбросы')\n",
    "plt.legend()\n",
    "plt.show()"
   ]
  },
  {
   "cell_type": "code",
   "execution_count": 62,
   "metadata": {
    "collapsed": false,
    "deletable": true,
    "editable": true
   },
   "outputs": [
    {
     "name": "stdout",
     "output_type": "stream",
     "text": [
      "Отличие истинных параметров и параметров, полученных с помощью приближений:\n",
      "\tИстинные: [  10  100 1000]\n",
      "\tМНК: [  59.88   84.45  955.03]\n",
      "\tМинимум суммы абсолютных значений невязок: [ 0.  0.  0.]\n",
      "\tМинимум максимальной по модулю невязки: [   0.    103.11  753.08]\n"
     ]
    }
   ],
   "source": [
    "print('Отличие истинных параметров и параметров, полученных с помощью приближений:')\n",
    "print('\\tИстинные:', a)\n",
    "print('\\tМНК:', np.round(astar[0], 2))\n",
    "print('\\tМинимум суммы абсолютных значений невязок:', np.round(astar[1], 2))\n",
    "print('\\tМинимум максимальной по модулю невязки:', np.round(astar[2], 2))"
   ]
  },
  {
   "cell_type": "code",
   "execution_count": 66,
   "metadata": {
    "collapsed": false
   },
   "outputs": [
    {
     "name": "stdout",
     "output_type": "stream",
     "text": [
      "Зависимость от дисперсии:\n",
      "\tИстинные: [  10  100 1000]\n"
     ]
    },
    {
     "name": "stderr",
     "output_type": "stream",
     "text": [
      "/usr/local/lib/python3.5/dist-packages/ipykernel/__main__.py:6: FutureWarning: comparison to `None` will result in an elementwise object comparison in the future.\n",
      "/usr/local/lib/python3.5/dist-packages/ipykernel/__main__.py:5: RuntimeWarning: divide by zero encountered in true_divide\n",
      "/usr/local/lib/python3.5/dist-packages/ipykernel/__main__.py:5: RuntimeWarning: invalid value encountered in true_divide\n",
      "/usr/local/lib/python3.5/dist-packages/ipykernel/__main__.py:42: FutureWarning: comparison to `None` will result in an elementwise object comparison in the future.\n"
     ]
    },
    {
     "name": "stdout",
     "output_type": "stream",
     "text": [
      "\t\tМНК: [   32.63    99.51  1014.2 ]\n",
      "\t\tМинимум суммы абсолютных значений невязок: [    0.     120.52  1100.24]\n",
      "\t\tМинимум максимальной по модулю невязки: [    0.      97.86  1066.17]\n",
      "\n",
      "\n",
      "\t\tМНК: [   28.89    99.73  1011.44]\n",
      "\t\tМинимум суммы абсолютных значений невязок: [   0.     24.74  560.16]\n",
      "\t\tМинимум максимальной по модулю невязки: [  114.45   116.79  1085.49]\n",
      "\n",
      "\n",
      "\t\tМНК: [ 208.41   84.87  902.78]\n",
      "\t\tМинимум суммы абсолютных значений невязок: [ 0.  0.  0.]\n",
      "\t\tМинимум максимальной по модулю невязки: [ 172.12  209.08  612.9 ]\n",
      "\n",
      "\n"
     ]
    }
   ],
   "source": [
    "print('Зависимость от дисперсии:')\n",
    "print('\\tИстинные:', a)\n",
    "bs = np.array([100, 500, 1000])\n",
    "for b in bs:\n",
    "    astar = np.zeros((3,3))\n",
    "    y_real, y_corr = get_y(a, b)\n",
    "    astar[0] = get_params(y_corr, time)\n",
    "    astar[1] = get_params(y_corr, time, method=1)[1][-3:]\n",
    "    astar[2] = get_params(y_corr, time, method=2)[1][-3:]\n",
    "    print('\\t\\tМНК:', np.round(astar[0], 2))\n",
    "    print('\\t\\tМинимум суммы абсолютных значений невязок:', np.round(astar[1], 2))\n",
    "    print('\\t\\tМинимум максимальной по модулю невязки:', np.round(astar[2], 2))\n",
    "    print('\\n')"
   ]
  },
  {
   "cell_type": "markdown",
   "metadata": {},
   "source": [
    "**Вывод:**\n",
    "* Самой устойчивой является оценка, полученная как минимум максимальной по модулю невязки\n",
    "* Чем больше дисперсия, тем менее точными получаются оценки"
   ]
  },
  {
   "cell_type": "markdown",
   "metadata": {
    "deletable": true,
    "editable": true
   },
   "source": [
    "## Задание 2"
   ]
  },
  {
   "cell_type": "markdown",
   "metadata": {
    "deletable": true,
    "editable": true
   },
   "source": [
    "Методы аналогичны тем, что использовались в 1 задании.\n",
    "\n",
    "Так как в данном задании матрицы и вектор полностью произвольные, то симплекс метод може потребовать большого количества итераций. Именно по этому я стал брать матрицу размеро (200, 3) (иногда даже в этом случае программа может очень долго продолжать вычисления)."
   ]
  },
  {
   "cell_type": "code",
   "execution_count": 48,
   "metadata": {
    "collapsed": false,
    "deletable": true,
    "editable": true
   },
   "outputs": [],
   "source": [
    "A = np.array(np.random.normal(size=(200, 3)))\n",
    "b = np.array(np.random.normal(size=200))"
   ]
  },
  {
   "cell_type": "code",
   "execution_count": 49,
   "metadata": {
    "collapsed": false,
    "deletable": true,
    "editable": true
   },
   "outputs": [
    {
     "data": {
      "image/png": "[encoded data removed]",
      "text/plain": [
       "<matplotlib.figure.Figure at 0x7fbb9022d358>"
      ]
     },
     "metadata": {},
     "output_type": "display_data"
    }
   ],
   "source": [
    "plt.figure(figsize=(15, 7))\n",
    "x = np.linalg.inv(A.T @ A) @ A.T @ b.T\n",
    "plt.hist(A @ x - b, bins=10, normed=True)\n",
    "plt.title('Распределение ошибок; норма $l_{2}$')\n",
    "plt.show()"
   ]
  },
  {
   "cell_type": "code",
   "execution_count": 51,
   "metadata": {
    "collapsed": false,
    "deletable": true,
    "editable": true
   },
   "outputs": [
    {
     "name": "stderr",
     "output_type": "stream",
     "text": [
      "/usr/local/lib/python3.5/dist-packages/ipykernel/__main__.py:6: FutureWarning: comparison to `None` will result in an elementwise object comparison in the future.\n",
      "/usr/local/lib/python3.5/dist-packages/ipykernel/__main__.py:34: RuntimeWarning: divide by zero encountered in double_scalars\n",
      "/usr/local/lib/python3.5/dist-packages/ipykernel/__main__.py:37: RuntimeWarning: divide by zero encountered in double_scalars\n",
      "/usr/local/lib/python3.5/dist-packages/ipykernel/__main__.py:38: RuntimeWarning: invalid value encountered in multiply\n",
      "/usr/local/lib/python3.5/dist-packages/ipykernel/__main__.py:39: RuntimeWarning: invalid value encountered in multiply\n",
      "/usr/local/lib/python3.5/dist-packages/ipykernel/__main__.py:47: RuntimeWarning: invalid value encountered in true_divide\n",
      "/usr/local/lib/python3.5/dist-packages/ipykernel/__main__.py:48: RuntimeWarning: divide by zero encountered in true_divide\n",
      "/usr/local/lib/python3.5/dist-packages/ipykernel/__main__.py:48: RuntimeWarning: invalid value encountered in true_divide\n",
      "/usr/local/lib/python3.5/dist-packages/ipykernel/__main__.py:54: RuntimeWarning: invalid value encountered in multiply\n",
      "/usr/local/lib/python3.5/dist-packages/ipykernel/__main__.py:42: FutureWarning: comparison to `None` will result in an elementwise object comparison in the future.\n"
     ]
    },
    {
     "data": {
      "image/png": "[encoded data removed]",
      "text/plain": [
       "<matplotlib.figure.Figure at 0x7fbb91d783c8>"
      ]
     },
     "metadata": {},
     "output_type": "display_data"
    }
   ],
   "source": [
    "E = np.eye(200)\n",
    "B = np.vstack((np.hstack((-E, A)), np.hstack((-E, -A))))\n",
    "b_corr = np.hstack((b, -b))\n",
    "c = -np.hstack((np.ones(200), np.zeros(3)))\n",
    "start_point = np.hstack((b, np.zeros(3)))\n",
    "value, point, iteration = simplex(len(c), B, b_corr, c, start_point=start_point)\n",
    "x = point[-3:]\n",
    "x = np.nan_to_num(x)\n",
    "plt.figure(figsize=(15, 7))\n",
    "plt.hist(A @ x - b, bins=10, normed=True)\n",
    "plt.title('Распределение ошибок; норма $l_{1}$')\n",
    "plt.show()"
   ]
  },
  {
   "cell_type": "code",
   "execution_count": 50,
   "metadata": {
    "collapsed": false,
    "deletable": true,
    "editable": true
   },
   "outputs": [
    {
     "data": {
      "image/png": "[encoded data removed]",
      "text/plain": [
       "<matplotlib.figure.Figure at 0x7fbb91af6b00>"
      ]
     },
     "metadata": {},
     "output_type": "display_data"
    }
   ],
   "source": [
    "E = np.array([np.ones(200)])\n",
    "B = np.vstack((np.hstack((-E.T, A)), np.hstack((-E.T, -A))))\n",
    "b_corr = np.hstack((b, -b))\n",
    "c = -np.hstack((np.ones(1), np.zeros(3)))\n",
    "value, point, iteration = simplex(len(c), B, b_corr, c)\n",
    "x = point[-3:]\n",
    "plt.figure(figsize=(15, 7))\n",
    "plt.hist(A @ x - b, bins=10, normed=True)\n",
    "plt.title('Распределение ошибок; норма $l_{\\infty}$')\n",
    "plt.show()"
   ]
  },
  {
   "cell_type": "markdown",
   "metadata": {
    "collapsed": true,
    "deletable": true,
    "editable": true
   },
   "source": [
    "* $l_{2}$ - нормальное распредеелние (известно из курса математической статистики)\n",
    "* $l_{1}$ - распределение Лапласа\n",
    "* $l_{\\infty}$ - ?"
   ]
  },
  {
   "cell_type": "code",
   "execution_count": null,
   "metadata": {
    "collapsed": true,
    "deletable": true,
    "editable": true
   },
   "outputs": [],
   "source": []
  }
 ],
 "metadata": {
  "kernelspec": {
   "display_name": "Python 3",
   "language": "python",
   "name": "python3"
  },
  "language_info": {
   "codemirror_mode": {
    "name": "ipython",
    "version": 3
   },
   "file_extension": ".py",
   "mimetype": "text/x-python",
   "name": "python",
   "nbconvert_exporter": "python",
   "pygments_lexer": "ipython3",
   "version": "3.5.2"
  }
 },
 "nbformat": 4,
 "nbformat_minor": 2
}
