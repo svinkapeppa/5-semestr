{
 "cells": [
  {
   "cell_type": "code",
   "execution_count": 1,
   "metadata": {
    "collapsed": true
   },
   "outputs": [],
   "source": [
    "import numpy as np\n",
    "import matplotlib.pyplot as plt\n",
    "from math import sqrt\n",
    "%matplotlib inline"
   ]
  },
  {
   "cell_type": "code",
   "execution_count": 3,
   "metadata": {
    "collapsed": true
   },
   "outputs": [],
   "source": [
    "def getklow(x, y):\n",
    "    return np.mean(x * y) / np.mean(x ** 2)\n",
    "\n",
    "def geterrklow(x, y, n):\n",
    "    return sqrt(np.mean(y ** 2) / np.mean(x ** 2) - getklow(x, y) ** 2) / sqrt(n)"
   ]
  },
  {
   "cell_type": "code",
   "execution_count": 4,
   "metadata": {
    "collapsed": true
   },
   "outputs": [],
   "source": [
    "def getkfull(x, y):\n",
    "    return (np.mean(x * y) - (np.mean(x) * np.mean(y))) / (np.mean(x ** 2) - (np.mean(x) ** 2))\n",
    "\n",
    "def geterrkfull(x, y, n):\n",
    "    return sqrt(((np.mean(y ** 2) - (np.mean(y) ** 2)) / (np.mean(x ** 2) - (np.mean(x) ** 2))\\\n",
    "                 - (getkfull(x, y) ** 2))) / sqrt(n)\n",
    "\n",
    "def geta(x, y):\n",
    "    return np.mean(y) - getkfull(x, y) * np.mean(x)\n",
    "\n",
    "def geterra(x, y):\n",
    "    return geterrkfull(x, y) * sqrt(np.mean(x ** 2) - (np.mean(x) ** 2))"
   ]
  },
  {
   "cell_type": "code",
   "execution_count": 10,
   "metadata": {
    "collapsed": true
   },
   "outputs": [],
   "source": [
    "'''\n",
    "The radius of the ball\n",
    "[millimeters]\n",
    "'''\n",
    "\n",
    "rsteel = np.array([0.85, 1, 0.9, 0.75, 0.95, 0.7, 0.75]) / 2\n",
    "rglass = np.array([2.1, 2.1, 2.1, 2.1, 2.15, 2.05, 2.05]) / 2"
   ]
  },
  {
   "cell_type": "code",
   "execution_count": 11,
   "metadata": {
    "collapsed": true
   },
   "outputs": [],
   "source": [
    "psteel = 7.8\n",
    "pglass = 2.5\n",
    "glycerin = np.array([1.26, 1.256, 1.252, 1.247, 1.243])"
   ]
  },
  {
   "cell_type": "code",
   "execution_count": 15,
   "metadata": {
    "collapsed": false
   },
   "outputs": [
    {
     "data": {
      "text/plain": [
       "[1.87, 2.0]"
      ]
     },
     "execution_count": 15,
     "metadata": {},
     "output_type": "execute_result"
    }
   ],
   "source": [
    "np.mean([18.63, 18.71])\n",
    "np.mean([18.81, 18.91])\n",
    "np.mean([19.03, 19.07])\n",
    "[10.4, 10.57]\n",
    "[5.94, 5.93]\n",
    "[2.97, 3.10]\n",
    "[1.87, 2.]"
   ]
  },
  {
   "cell_type": "code",
   "execution_count": 18,
   "metadata": {
    "collapsed": false
   },
   "outputs": [
    {
     "data": {
      "text/plain": [
       "0.0053562109813513779"
      ]
     },
     "execution_count": 18,
     "metadata": {},
     "output_type": "execute_result"
    }
   ],
   "source": [
    "np.mean(0.1 / np.array([18.63, 18.71]))"
   ]
  },
  {
   "cell_type": "code",
   "execution_count": null,
   "metadata": {
    "collapsed": true
   },
   "outputs": [],
   "source": []
  }
 ],
 "metadata": {
  "kernelspec": {
   "display_name": "Python 3",
   "language": "python",
   "name": "python3"
  },
  "language_info": {
   "codemirror_mode": {
    "name": "ipython",
    "version": 3
   },
   "file_extension": ".py",
   "mimetype": "text/x-python",
   "name": "python",
   "nbconvert_exporter": "python",
   "pygments_lexer": "ipython3",
   "version": "3.5.2"
  }
 },
 "nbformat": 4,
 "nbformat_minor": 2
}
